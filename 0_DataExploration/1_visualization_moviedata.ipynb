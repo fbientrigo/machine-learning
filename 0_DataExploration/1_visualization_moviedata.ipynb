{
 "cells": [
  {
   "cell_type": "code",
   "execution_count": 89,
   "metadata": {},
   "outputs": [
    {
     "name": "stdout",
     "output_type": "stream",
     "text": [
      "version of numpy:  1.21.5\n",
      "version of pandas:  1.4.4\n"
     ]
    }
   ],
   "source": [
    "import numpy as np\n",
    "import pandas as pd\n",
    "import matplotlib.pyplot as plt\n",
    "\n",
    "print(\"version of numpy: \", np.__version__)\n",
    "print(\"version of pandas: \", pd.__version__)"
   ]
  },
  {
   "attachments": {},
   "cell_type": "markdown",
   "metadata": {},
   "source": [
    "# Movie Data\n",
    "the data is from IMDB an internet movie data set, we'll go throught the data first:\n",
    "\n",
    "1.1. Importing the data"
   ]
  },
  {
   "cell_type": "code",
   "execution_count": 90,
   "metadata": {},
   "outputs": [
    {
     "name": "stdout",
     "output_type": "stream",
     "text": [
      "shape of the data: 5043 rows and 28 columns\n"
     ]
    },
    {
     "data": {
      "text/html": [
       "<div>\n",
       "<style scoped>\n",
       "    .dataframe tbody tr th:only-of-type {\n",
       "        vertical-align: middle;\n",
       "    }\n",
       "\n",
       "    .dataframe tbody tr th {\n",
       "        vertical-align: top;\n",
       "    }\n",
       "\n",
       "    .dataframe thead th {\n",
       "        text-align: right;\n",
       "    }\n",
       "</style>\n",
       "<table border=\"1\" class=\"dataframe\">\n",
       "  <thead>\n",
       "    <tr style=\"text-align: right;\">\n",
       "      <th></th>\n",
       "      <th>color</th>\n",
       "      <th>director_name</th>\n",
       "      <th>num_critic_for_reviews</th>\n",
       "      <th>duration</th>\n",
       "      <th>director_facebook_likes</th>\n",
       "      <th>actor_3_facebook_likes</th>\n",
       "      <th>actor_2_name</th>\n",
       "      <th>actor_1_facebook_likes</th>\n",
       "      <th>gross</th>\n",
       "      <th>genres</th>\n",
       "      <th>...</th>\n",
       "      <th>num_user_for_reviews</th>\n",
       "      <th>language</th>\n",
       "      <th>country</th>\n",
       "      <th>content_rating</th>\n",
       "      <th>budget</th>\n",
       "      <th>title_year</th>\n",
       "      <th>actor_2_facebook_likes</th>\n",
       "      <th>imdb_score</th>\n",
       "      <th>aspect_ratio</th>\n",
       "      <th>movie_facebook_likes</th>\n",
       "    </tr>\n",
       "  </thead>\n",
       "  <tbody>\n",
       "    <tr>\n",
       "      <th>0</th>\n",
       "      <td>Color</td>\n",
       "      <td>James Cameron</td>\n",
       "      <td>723.0</td>\n",
       "      <td>178.0</td>\n",
       "      <td>0.0</td>\n",
       "      <td>855.0</td>\n",
       "      <td>Joel David Moore</td>\n",
       "      <td>1000.0</td>\n",
       "      <td>760505847.0</td>\n",
       "      <td>Action|Adventure|Fantasy|Sci-Fi</td>\n",
       "      <td>...</td>\n",
       "      <td>3054.0</td>\n",
       "      <td>English</td>\n",
       "      <td>USA</td>\n",
       "      <td>PG-13</td>\n",
       "      <td>237000000.0$</td>\n",
       "      <td>2009.0</td>\n",
       "      <td>936.0</td>\n",
       "      <td>7.9</td>\n",
       "      <td>1.78</td>\n",
       "      <td>33000</td>\n",
       "    </tr>\n",
       "    <tr>\n",
       "      <th>1</th>\n",
       "      <td>Color</td>\n",
       "      <td>Gore Verbinski</td>\n",
       "      <td>302.0</td>\n",
       "      <td>169.0</td>\n",
       "      <td>563.0</td>\n",
       "      <td>1000.0</td>\n",
       "      <td>Orlando Bloom</td>\n",
       "      <td>40000.0</td>\n",
       "      <td>309404152.0</td>\n",
       "      <td>Action|Adventure|Fantasy</td>\n",
       "      <td>...</td>\n",
       "      <td>1238.0</td>\n",
       "      <td>English</td>\n",
       "      <td>USA</td>\n",
       "      <td>PG-13</td>\n",
       "      <td>300000000.0$</td>\n",
       "      <td>2007.0</td>\n",
       "      <td>5000.0</td>\n",
       "      <td>7.1</td>\n",
       "      <td>2.35</td>\n",
       "      <td>0</td>\n",
       "    </tr>\n",
       "    <tr>\n",
       "      <th>2</th>\n",
       "      <td>Color</td>\n",
       "      <td>Sam Mendes</td>\n",
       "      <td>602.0</td>\n",
       "      <td>148.0</td>\n",
       "      <td>0.0</td>\n",
       "      <td>161.0</td>\n",
       "      <td>Rory Kinnear</td>\n",
       "      <td>11000.0</td>\n",
       "      <td>200074175.0</td>\n",
       "      <td>Action|Adventure|Thriller</td>\n",
       "      <td>...</td>\n",
       "      <td>994.0</td>\n",
       "      <td>English</td>\n",
       "      <td>UK</td>\n",
       "      <td>PG-13</td>\n",
       "      <td>245000000.0$</td>\n",
       "      <td>2015.0</td>\n",
       "      <td>393.0</td>\n",
       "      <td>6.8</td>\n",
       "      <td>2.35</td>\n",
       "      <td>85000</td>\n",
       "    </tr>\n",
       "    <tr>\n",
       "      <th>3</th>\n",
       "      <td>Color</td>\n",
       "      <td>Christopher Nolan</td>\n",
       "      <td>813.0</td>\n",
       "      <td>164.0</td>\n",
       "      <td>22000.0</td>\n",
       "      <td>23000.0</td>\n",
       "      <td>Christian Bale</td>\n",
       "      <td>27000.0</td>\n",
       "      <td>448130642.0</td>\n",
       "      <td>Action|Thriller</td>\n",
       "      <td>...</td>\n",
       "      <td>2701.0</td>\n",
       "      <td>English</td>\n",
       "      <td>USA</td>\n",
       "      <td>PG-13</td>\n",
       "      <td>250000000.0$</td>\n",
       "      <td>2012.0</td>\n",
       "      <td>23000.0</td>\n",
       "      <td>8.5</td>\n",
       "      <td>2.35</td>\n",
       "      <td>164000</td>\n",
       "    </tr>\n",
       "    <tr>\n",
       "      <th>4</th>\n",
       "      <td>NaN</td>\n",
       "      <td>Doug Walker</td>\n",
       "      <td>NaN</td>\n",
       "      <td>NaN</td>\n",
       "      <td>131.0</td>\n",
       "      <td>NaN</td>\n",
       "      <td>Rob Walker</td>\n",
       "      <td>131.0</td>\n",
       "      <td>NaN</td>\n",
       "      <td>Documentary</td>\n",
       "      <td>...</td>\n",
       "      <td>NaN</td>\n",
       "      <td>NaN</td>\n",
       "      <td>NaN</td>\n",
       "      <td>NaN</td>\n",
       "      <td>0.0$</td>\n",
       "      <td>NaN</td>\n",
       "      <td>12.0</td>\n",
       "      <td>7.1</td>\n",
       "      <td>NaN</td>\n",
       "      <td>0</td>\n",
       "    </tr>\n",
       "  </tbody>\n",
       "</table>\n",
       "<p>5 rows × 28 columns</p>\n",
       "</div>"
      ],
      "text/plain": [
       "   color      director_name  num_critic_for_reviews  duration  \\\n",
       "0  Color      James Cameron                   723.0     178.0   \n",
       "1  Color     Gore Verbinski                   302.0     169.0   \n",
       "2  Color         Sam Mendes                   602.0     148.0   \n",
       "3  Color  Christopher Nolan                   813.0     164.0   \n",
       "4    NaN        Doug Walker                     NaN       NaN   \n",
       "\n",
       "   director_facebook_likes  actor_3_facebook_likes      actor_2_name  \\\n",
       "0                      0.0                   855.0  Joel David Moore   \n",
       "1                    563.0                  1000.0     Orlando Bloom   \n",
       "2                      0.0                   161.0      Rory Kinnear   \n",
       "3                  22000.0                 23000.0    Christian Bale   \n",
       "4                    131.0                     NaN        Rob Walker   \n",
       "\n",
       "   actor_1_facebook_likes        gross                           genres  ...  \\\n",
       "0                  1000.0  760505847.0  Action|Adventure|Fantasy|Sci-Fi  ...   \n",
       "1                 40000.0  309404152.0         Action|Adventure|Fantasy  ...   \n",
       "2                 11000.0  200074175.0        Action|Adventure|Thriller  ...   \n",
       "3                 27000.0  448130642.0                  Action|Thriller  ...   \n",
       "4                   131.0          NaN                      Documentary  ...   \n",
       "\n",
       "  num_user_for_reviews language  country  content_rating        budget  \\\n",
       "0               3054.0  English      USA           PG-13  237000000.0$   \n",
       "1               1238.0  English      USA           PG-13  300000000.0$   \n",
       "2                994.0  English       UK           PG-13  245000000.0$   \n",
       "3               2701.0  English      USA           PG-13  250000000.0$   \n",
       "4                  NaN      NaN      NaN             NaN          0.0$   \n",
       "\n",
       "   title_year actor_2_facebook_likes imdb_score  aspect_ratio  \\\n",
       "0      2009.0                  936.0        7.9          1.78   \n",
       "1      2007.0                 5000.0        7.1          2.35   \n",
       "2      2015.0                  393.0        6.8          2.35   \n",
       "3      2012.0                23000.0        8.5          2.35   \n",
       "4         NaN                   12.0        7.1           NaN   \n",
       "\n",
       "  movie_facebook_likes  \n",
       "0                33000  \n",
       "1                    0  \n",
       "2                85000  \n",
       "3               164000  \n",
       "4                    0  \n",
       "\n",
       "[5 rows x 28 columns]"
      ]
     },
     "execution_count": 90,
     "metadata": {},
     "output_type": "execute_result"
    }
   ],
   "source": [
    "data = pd.read_csv('movie_metadata.csv')\n",
    "\n",
    "print(f'shape of the data: {data.shape[0]} rows and {data.shape[1]} columns')\n",
    "\n",
    "data.head()"
   ]
  },
  {
   "attachments": {},
   "cell_type": "markdown",
   "metadata": {},
   "source": [
    "1.2. The duration column contains data on the film length. How many missing values are there\n",
    "in this column?"
   ]
  },
  {
   "cell_type": "code",
   "execution_count": 91,
   "metadata": {},
   "outputs": [
    {
     "data": {
      "image/png": "[encoded data removed]",
      "text/plain": [
       "<Figure size 640x480 with 1 Axes>"
      ]
     },
     "metadata": {},
     "output_type": "display_data"
    },
    {
     "data": {
      "text/plain": [
       "count    5028.000000\n",
       "mean      107.201074\n",
       "std        25.197441\n",
       "min         7.000000\n",
       "25%        93.000000\n",
       "50%       103.000000\n",
       "75%       118.000000\n",
       "max       511.000000\n",
       "Name: duration, dtype: float64"
      ]
     },
     "execution_count": 91,
     "metadata": {},
     "output_type": "execute_result"
    }
   ],
   "source": [
    "data['duration'].hist(bins=100)\n",
    "plt.title('Duration of movies')\n",
    "plt.xlabel('Duration [min]')\n",
    "plt.show()\n",
    "\n",
    "data['duration'].describe()"
   ]
  },
  {
   "cell_type": "code",
   "execution_count": 92,
   "metadata": {},
   "outputs": [
    {
     "data": {
      "text/plain": [
       "15"
      ]
     },
     "execution_count": 92,
     "metadata": {},
     "output_type": "execute_result"
    }
   ],
   "source": [
    "# missing values in the column of duration\n",
    "data['duration'].isnull().sum()"
   ]
  },
  {
   "attachments": {},
   "cell_type": "markdown",
   "metadata": {},
   "source": [
    "1.3. Replace the missing values in the duration column with the median value for this column.\n"
   ]
  },
  {
   "cell_type": "code",
   "execution_count": 93,
   "metadata": {},
   "outputs": [
    {
     "data": {
      "text/plain": [
       "0"
      ]
     },
     "execution_count": 93,
     "metadata": {},
     "output_type": "execute_result"
    }
   ],
   "source": [
    "# inplache works on the same object\n",
    "data['duration'].fillna(data['duration'].median(), inplace=True)\n",
    "data['duration'].isnull().sum() # no missing values"
   ]
  },
  {
   "attachments": {},
   "cell_type": "markdown",
   "metadata": {},
   "source": [
    "1.4. What is the average film length? Give the answer as a floating-point figure rounded to\n",
    "two decimal places."
   ]
  },
  {
   "cell_type": "code",
   "execution_count": 94,
   "metadata": {},
   "outputs": [
    {
     "name": "stdout",
     "output_type": "stream",
     "text": [
      "The average film length is 107.19 minutes\n"
     ]
    }
   ],
   "source": [
    "# The average film length? Give the answer as a floating-point figure rounded totwo decimal places.\n",
    "print(f'The average film length is {data[\"duration\"].mean():.2f} minutes')"
   ]
  },
  {
   "attachments": {},
   "cell_type": "markdown",
   "metadata": {},
   "source": [
    "1.5. Create a movie_duration_category column, which will contain three categories\n",
    "depending on the film length:\n",
    "\n",
    "• Category \"1. <90\" if the film is less than 90 minutes long\n",
    "\n",
    "• Category \"2. 90–120\" if the film is between 90 minutes and two hours long (inclusively)\n",
    "\n",
    "• Category \"3. >120\" if the film is more than two hours long"
   ]
  },
  {
   "cell_type": "code",
   "execution_count": 95,
   "metadata": {},
   "outputs": [
    {
     "data": {
      "text/html": [
       "<div>\n",
       "<style scoped>\n",
       "    .dataframe tbody tr th:only-of-type {\n",
       "        vertical-align: middle;\n",
       "    }\n",
       "\n",
       "    .dataframe tbody tr th {\n",
       "        vertical-align: top;\n",
       "    }\n",
       "\n",
       "    .dataframe thead th {\n",
       "        text-align: right;\n",
       "    }\n",
       "</style>\n",
       "<table border=\"1\" class=\"dataframe\">\n",
       "  <thead>\n",
       "    <tr style=\"text-align: right;\">\n",
       "      <th></th>\n",
       "      <th>duration</th>\n",
       "      <th>movie_duration_category</th>\n",
       "    </tr>\n",
       "  </thead>\n",
       "  <tbody>\n",
       "    <tr>\n",
       "      <th>0</th>\n",
       "      <td>178.0</td>\n",
       "      <td>3</td>\n",
       "    </tr>\n",
       "    <tr>\n",
       "      <th>1</th>\n",
       "      <td>169.0</td>\n",
       "      <td>3</td>\n",
       "    </tr>\n",
       "    <tr>\n",
       "      <th>2</th>\n",
       "      <td>148.0</td>\n",
       "      <td>3</td>\n",
       "    </tr>\n",
       "    <tr>\n",
       "      <th>3</th>\n",
       "      <td>164.0</td>\n",
       "      <td>3</td>\n",
       "    </tr>\n",
       "    <tr>\n",
       "      <th>4</th>\n",
       "      <td>103.0</td>\n",
       "      <td>2</td>\n",
       "    </tr>\n",
       "  </tbody>\n",
       "</table>\n",
       "</div>"
      ],
      "text/plain": [
       "   duration  movie_duration_category\n",
       "0     178.0                        3\n",
       "1     169.0                        3\n",
       "2     148.0                        3\n",
       "3     164.0                        3\n",
       "4     103.0                        2"
      ]
     },
     "execution_count": 95,
     "metadata": {},
     "output_type": "execute_result"
    }
   ],
   "source": [
    "# lambda functions allow us to create a function on the fly\n",
    "data['movie_duration_category'] = data['duration'].apply(lambda x: 1 if x < 90 else 2 if x < 120 else 3)\n",
    "\n",
    "# showing the head of the data with the new column\n",
    "data[['duration', 'movie_duration_category']].head()"
   ]
  },
  {
   "attachments": {},
   "cell_type": "markdown",
   "metadata": {},
   "source": [
    "1.6. Build a summary table for films released after 2000 (inclusively), to list the numbers of\n",
    "films:\n",
    "\n",
    "• Table rows: year\n",
    "\n",
    "• Table columns: movie duration category (\"<90\", \"90–120\", \">120\")\n",
    "\n",
    "• The year of release should be displayed in the YYYY format.\n"
   ]
  },
  {
   "cell_type": "code",
   "execution_count": 96,
   "metadata": {},
   "outputs": [
    {
     "data": {
      "text/html": [
       "<div>\n",
       "<style scoped>\n",
       "    .dataframe tbody tr th:only-of-type {\n",
       "        vertical-align: middle;\n",
       "    }\n",
       "\n",
       "    .dataframe tbody tr th {\n",
       "        vertical-align: top;\n",
       "    }\n",
       "\n",
       "    .dataframe thead th {\n",
       "        text-align: right;\n",
       "    }\n",
       "</style>\n",
       "<table border=\"1\" class=\"dataframe\">\n",
       "  <thead>\n",
       "    <tr style=\"text-align: right;\">\n",
       "      <th>title_year</th>\n",
       "      <th>2000.0</th>\n",
       "      <th>2001.0</th>\n",
       "      <th>2002.0</th>\n",
       "      <th>2003.0</th>\n",
       "      <th>2004.0</th>\n",
       "      <th>2005.0</th>\n",
       "      <th>2006.0</th>\n",
       "      <th>2007.0</th>\n",
       "      <th>2008.0</th>\n",
       "      <th>2009.0</th>\n",
       "      <th>2010.0</th>\n",
       "      <th>2011.0</th>\n",
       "      <th>2012.0</th>\n",
       "      <th>2013.0</th>\n",
       "      <th>2014.0</th>\n",
       "      <th>2015.0</th>\n",
       "      <th>2016.0</th>\n",
       "    </tr>\n",
       "    <tr>\n",
       "      <th>movie_duration_category</th>\n",
       "      <th></th>\n",
       "      <th></th>\n",
       "      <th></th>\n",
       "      <th></th>\n",
       "      <th></th>\n",
       "      <th></th>\n",
       "      <th></th>\n",
       "      <th></th>\n",
       "      <th></th>\n",
       "      <th></th>\n",
       "      <th></th>\n",
       "      <th></th>\n",
       "      <th></th>\n",
       "      <th></th>\n",
       "      <th></th>\n",
       "      <th></th>\n",
       "      <th></th>\n",
       "    </tr>\n",
       "  </thead>\n",
       "  <tbody>\n",
       "    <tr>\n",
       "      <th>1</th>\n",
       "      <td>25</td>\n",
       "      <td>29</td>\n",
       "      <td>36</td>\n",
       "      <td>31</td>\n",
       "      <td>30</td>\n",
       "      <td>31</td>\n",
       "      <td>40</td>\n",
       "      <td>31</td>\n",
       "      <td>29</td>\n",
       "      <td>42</td>\n",
       "      <td>26</td>\n",
       "      <td>36</td>\n",
       "      <td>41</td>\n",
       "      <td>38</td>\n",
       "      <td>36</td>\n",
       "      <td>34</td>\n",
       "      <td>8</td>\n",
       "    </tr>\n",
       "    <tr>\n",
       "      <th>2</th>\n",
       "      <td>108</td>\n",
       "      <td>118</td>\n",
       "      <td>145</td>\n",
       "      <td>104</td>\n",
       "      <td>134</td>\n",
       "      <td>141</td>\n",
       "      <td>142</td>\n",
       "      <td>126</td>\n",
       "      <td>157</td>\n",
       "      <td>174</td>\n",
       "      <td>169</td>\n",
       "      <td>149</td>\n",
       "      <td>139</td>\n",
       "      <td>141</td>\n",
       "      <td>170</td>\n",
       "      <td>142</td>\n",
       "      <td>72</td>\n",
       "    </tr>\n",
       "    <tr>\n",
       "      <th>3</th>\n",
       "      <td>38</td>\n",
       "      <td>41</td>\n",
       "      <td>28</td>\n",
       "      <td>34</td>\n",
       "      <td>50</td>\n",
       "      <td>49</td>\n",
       "      <td>57</td>\n",
       "      <td>47</td>\n",
       "      <td>39</td>\n",
       "      <td>44</td>\n",
       "      <td>35</td>\n",
       "      <td>40</td>\n",
       "      <td>41</td>\n",
       "      <td>58</td>\n",
       "      <td>46</td>\n",
       "      <td>50</td>\n",
       "      <td>26</td>\n",
       "    </tr>\n",
       "  </tbody>\n",
       "</table>\n",
       "</div>"
      ],
      "text/plain": [
       "title_year               2000.0  2001.0  2002.0  2003.0  2004.0  2005.0  \\\n",
       "movie_duration_category                                                   \n",
       "1                            25      29      36      31      30      31   \n",
       "2                           108     118     145     104     134     141   \n",
       "3                            38      41      28      34      50      49   \n",
       "\n",
       "title_year               2006.0  2007.0  2008.0  2009.0  2010.0  2011.0  \\\n",
       "movie_duration_category                                                   \n",
       "1                            40      31      29      42      26      36   \n",
       "2                           142     126     157     174     169     149   \n",
       "3                            57      47      39      44      35      40   \n",
       "\n",
       "title_year               2012.0  2013.0  2014.0  2015.0  2016.0  \n",
       "movie_duration_category                                          \n",
       "1                            41      38      36      34       8  \n",
       "2                           139     141     170     142      72  \n",
       "3                            41      58      46      50      26  "
      ]
     },
     "execution_count": 96,
     "metadata": {},
     "output_type": "execute_result"
    }
   ],
   "source": [
    "# groupby and unstack to create a pivot table\n",
    "# fillna(0) to replace NaN values with 0\n",
    "# astype(int) to convert the values to integers\n",
    "data[data['title_year'] >= 2000].groupby('movie_duration_category')['title_year'].value_counts().unstack().fillna(0).astype(int)"
   ]
  },
  {
   "attachments": {},
   "cell_type": "markdown",
   "metadata": {},
   "source": [
    "1.7. How many films between 90 minutes and two hours long were released in 2008?\n"
   ]
  },
  {
   "cell_type": "code",
   "execution_count": 97,
   "metadata": {},
   "outputs": [
    {
     "data": {
      "text/plain": [
       "157"
      ]
     },
     "execution_count": 97,
     "metadata": {},
     "output_type": "execute_result"
    }
   ],
   "source": [
    "# the code works as:\n",
    "# data [ conditions ] [column with values to count].count()\n",
    "data[(data['movie_duration_category'] == 2) & (data['title_year'] == 2008) ]['movie_title'].count()\n",
    "\n",
    "# remember movie_duration_category 2 is between 90 and 120 minutes"
   ]
  },
  {
   "attachments": {},
   "cell_type": "markdown",
   "metadata": {},
   "source": [
    "1.8. The plot_keywords column holds keywords characterizing the film's plot. Using the data\n",
    "in this column, create a column called movie_plot_category, to contain four categories\n",
    "depending on the key words in the column:\n",
    "\n",
    "• Category \"love_and_death\" if the keywords include both \"love\" and \"death\"\n",
    "\n",
    "• Category \"love\" if the keywords include the word \"love\"\n",
    "\n",
    "• Category \"death\" if the keywords include the word \"death\"\n",
    "\n",
    "• Category \"other\" if the keywords do not meet the conditions above"
   ]
  },
  {
   "cell_type": "code",
   "execution_count": 98,
   "metadata": {},
   "outputs": [
    {
     "name": "stdout",
     "output_type": "stream",
     "text": [
      "Amount of Not a number in the column 153\n"
     ]
    },
    {
     "data": {
      "text/plain": [
       "0               avatar|future|marine|native|paraplegic\n",
       "1    goddess|marriage ceremony|marriage proposal|pi...\n",
       "2                  bomb|espionage|sequel|spy|terrorist\n",
       "3    deception|imprisonment|lawlessness|police offi...\n",
       "4                                                  NaN\n",
       "Name: plot_keywords, dtype: object"
      ]
     },
     "execution_count": 98,
     "metadata": {},
     "output_type": "execute_result"
    }
   ],
   "source": [
    "# amount fo Nans in the column\n",
    "print(f\"Amount of Not a number in the column {data['plot_keywords'].isnull().sum() }\")\n",
    "\n",
    "data['plot_keywords'].head()"
   ]
  },
  {
   "cell_type": "code",
   "execution_count": 99,
   "metadata": {},
   "outputs": [
    {
     "data": {
      "text/html": [
       "<div>\n",
       "<style scoped>\n",
       "    .dataframe tbody tr th:only-of-type {\n",
       "        vertical-align: middle;\n",
       "    }\n",
       "\n",
       "    .dataframe tbody tr th {\n",
       "        vertical-align: top;\n",
       "    }\n",
       "\n",
       "    .dataframe thead th {\n",
       "        text-align: right;\n",
       "    }\n",
       "</style>\n",
       "<table border=\"1\" class=\"dataframe\">\n",
       "  <thead>\n",
       "    <tr style=\"text-align: right;\">\n",
       "      <th></th>\n",
       "      <th>movie_title</th>\n",
       "      <th>plot_keywords</th>\n",
       "      <th>movie_plot_category</th>\n",
       "    </tr>\n",
       "  </thead>\n",
       "  <tbody>\n",
       "    <tr>\n",
       "      <th>594</th>\n",
       "      <td>Vanilla Sky</td>\n",
       "      <td>death|dream|love|lynchian|reality</td>\n",
       "      <td>love_and_death</td>\n",
       "    </tr>\n",
       "    <tr>\n",
       "      <th>766</th>\n",
       "      <td>Practical Magic</td>\n",
       "      <td>curse|death|island|love|magic</td>\n",
       "      <td>love_and_death</td>\n",
       "    </tr>\n",
       "    <tr>\n",
       "      <th>966</th>\n",
       "      <td>Hansel &amp; Gretel: Witch Hunters</td>\n",
       "      <td>bounty hunter|brother sister team|death of lov...</td>\n",
       "      <td>love_and_death</td>\n",
       "    </tr>\n",
       "    <tr>\n",
       "      <th>1145</th>\n",
       "      <td>Underworld: Evolution</td>\n",
       "      <td>death|feud|forbidden love|vampire|werewolf</td>\n",
       "      <td>love_and_death</td>\n",
       "    </tr>\n",
       "    <tr>\n",
       "      <th>1167</th>\n",
       "      <td>Red Riding Hood</td>\n",
       "      <td>death|forest|love|werewolf|werewolf bite</td>\n",
       "      <td>love_and_death</td>\n",
       "    </tr>\n",
       "  </tbody>\n",
       "</table>\n",
       "</div>"
      ],
      "text/plain": [
       "                          movie_title  \\\n",
       "594                      Vanilla Sky    \n",
       "766                  Practical Magic    \n",
       "966   Hansel & Gretel: Witch Hunters    \n",
       "1145           Underworld: Evolution    \n",
       "1167                 Red Riding Hood    \n",
       "\n",
       "                                          plot_keywords movie_plot_category  \n",
       "594                   death|dream|love|lynchian|reality      love_and_death  \n",
       "766                       curse|death|island|love|magic      love_and_death  \n",
       "966   bounty hunter|brother sister team|death of lov...      love_and_death  \n",
       "1145         death|feud|forbidden love|vampire|werewolf      love_and_death  \n",
       "1167           death|forest|love|werewolf|werewolf bite      love_and_death  "
      ]
     },
     "execution_count": 99,
     "metadata": {},
     "output_type": "execute_result"
    }
   ],
   "source": [
    "# lets convert the Nan values to empty strings or we will get an error\n",
    "data['plot_keywords'].fillna('', inplace=True)\n",
    "\n",
    "# using plot_keywords column, create a column called movie_plot_category, category \"love_and_death\" if the movie has the words \"love\" and \"death\" in the plot_keywords column, category \"love\" if the movie has the word \"love\" in the plot_keywords column, category \"death\" if the movie has the word \"death\" in the plot_keywords column, category \"other\" otherwise.\n",
    "data['movie_plot_category'] = data['plot_keywords'].apply(lambda x: 'love_and_death' if 'love' in x and 'death' in x else 'love' if 'love' in x else 'death' if 'death' in x else 'other')\n",
    "\n",
    "data[data['movie_plot_category'] == 'love_and_death'][['movie_title', 'plot_keywords', 'movie_plot_category']].head()\n"
   ]
  },
  {
   "attachments": {},
   "cell_type": "markdown",
   "metadata": {},
   "source": [
    "1.9 The imdb_score column shows a viewer rating for the film. Build a table to reflect the\n",
    "average rating of films depending on which movie_plot_category category they belong to."
   ]
  },
  {
   "cell_type": "code",
   "execution_count": 100,
   "metadata": {},
   "outputs": [],
   "source": [
    "# groupby will group the data by the column movie_plot_category and then we will calculate the mean of the imdb_score column\n",
    "# normally if you're asked to build a table, you will use groupby\n",
    "category_ratings = data.groupby('movie_plot_category')['imdb_score'].mean().reset_index()\n",
    "\n"
   ]
  },
  {
   "attachments": {},
   "cell_type": "markdown",
   "metadata": {},
   "source": [
    "1.10. What is the average rating of films in the \"love\" category? Give the answer as a floating point figure rounded to two decimal places."
   ]
  },
  {
   "cell_type": "code",
   "execution_count": 101,
   "metadata": {},
   "outputs": [
    {
     "name": "stdout",
     "output_type": "stream",
     "text": [
      "Average rating of films in the 'love' category: 6.58\n"
     ]
    }
   ],
   "source": [
    "print(f\"Average rating of films in the 'love' category: {category_ratings.loc[category_ratings['movie_plot_category'] == 'love', 'imdb_score'].mean():.2f}\")\n"
   ]
  },
  {
   "attachments": {},
   "cell_type": "markdown",
   "metadata": {},
   "source": [
    "1.11. The budget column contains the film's budget. What is the median budget for all the films listed? Give the answer as an integer."
   ]
  },
  {
   "cell_type": "code",
   "execution_count": 102,
   "metadata": {},
   "outputs": [
    {
     "name": "stdout",
     "output_type": "stream",
     "text": [
      "How the budget column looks like:\n",
      "0    237000000.0$\n",
      "1    300000000.0$\n",
      "2    245000000.0$\n",
      "3    250000000.0$\n",
      "4            0.0$\n",
      "Name: budget, dtype: object\n",
      "Deleting the '$' sign from the budget column so its easier to convert to a float:\n",
      "0    237000000.0\n",
      "1    300000000.0\n",
      "2    245000000.0\n",
      "3    250000000.0\n",
      "4            0.0\n",
      "Name: budget, dtype: object\n"
     ]
    }
   ],
   "source": [
    "print(\"How the budget column looks like:\")\n",
    "print(data['budget'].head())\n",
    "\n",
    "print(\"Deleting the '$' sign from the budget column so its easier to convert to a float:\")\n",
    "print(data['budget'].map(lambda x: x[:-1]).head())"
   ]
  },
  {
   "cell_type": "code",
   "execution_count": 103,
   "metadata": {},
   "outputs": [
    {
     "name": "stdout",
     "output_type": "stream",
     "text": [
      "Median budget of movies: 15000000\n"
     ]
    }
   ],
   "source": [
    "# convert the budget column to float\n",
    "data['budget'] = data['budget'].map(lambda x: x[:-1]).astype(float)\n",
    "\n",
    "print(f\"Median budget of movies: {int(data['budget'].median())}\")"
   ]
  },
  {
   "cell_type": "code",
   "execution_count": null,
   "metadata": {},
   "outputs": [],
   "source": []
  },
  {
   "cell_type": "code",
   "execution_count": null,
   "metadata": {},
   "outputs": [],
   "source": []
  }
 ],
 "metadata": {
  "kernelspec": {
   "display_name": "base",
   "language": "python",
   "name": "python3"
  },
  "language_info": {
   "codemirror_mode": {
    "name": "ipython",
    "version": 3
   },
   "file_extension": ".py",
   "mimetype": "text/x-python",
   "name": "python",
   "nbconvert_exporter": "python",
   "pygments_lexer": "ipython3",
   "version": "3.9.13"
  },
  "orig_nbformat": 4,
  "vscode": {
   "interpreter": {
    "hash": "ad2bdc8ecc057115af97d19610ffacc2b4e99fae6737bb82f5d7fb13d2f2c186"
   }
  }
 },
 "nbformat": 4,
 "nbformat_minor": 2
}
