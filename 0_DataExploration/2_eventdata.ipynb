{
 "cells": [
  {
   "cell_type": "code",
   "execution_count": 2,
   "metadata": {},
   "outputs": [
    {
     "name": "stdout",
     "output_type": "stream",
     "text": [
      "version of numpy:  1.21.5\n",
      "version of pandas:  1.4.4\n"
     ]
    }
   ],
   "source": [
    "import numpy as np\n",
    "import pandas as pd\n",
    "import matplotlib.pyplot as plt\n",
    "\n",
    "print(\"version of numpy: \", np.__version__)\n",
    "print(\"version of pandas: \", pd.__version__)"
   ]
  },
  {
   "attachments": {},
   "cell_type": "markdown",
   "metadata": {},
   "source": [
    "# Event Data\n",
    "Contains data on the use of the mobile application of users who registered from July 29 to September 1, 2019:\n",
    "\n",
    "* user_id - user identifier;\n",
    "* event_date - time of the event;\n",
    "* event_type - type of event: registration - registration in the application; \n",
    "* simple_event - click event in the application; purchase - an event of purchase within the application; purchase_amount - purchase amount."
   ]
  },
  {
   "cell_type": "code",
   "execution_count": 10,
   "metadata": {},
   "outputs": [
    {
     "name": "stdout",
     "output_type": "stream",
     "text": [
      "shape of the data: 79742 rows and 4 columns\n"
     ]
    },
    {
     "data": {
      "text/html": [
       "<div>\n",
       "<style scoped>\n",
       "    .dataframe tbody tr th:only-of-type {\n",
       "        vertical-align: middle;\n",
       "    }\n",
       "\n",
       "    .dataframe tbody tr th {\n",
       "        vertical-align: top;\n",
       "    }\n",
       "\n",
       "    .dataframe thead th {\n",
       "        text-align: right;\n",
       "    }\n",
       "</style>\n",
       "<table border=\"1\" class=\"dataframe\">\n",
       "  <thead>\n",
       "    <tr style=\"text-align: right;\">\n",
       "      <th></th>\n",
       "      <th>user_id</th>\n",
       "      <th>event_date</th>\n",
       "      <th>event_type</th>\n",
       "      <th>purchase_amount</th>\n",
       "    </tr>\n",
       "  </thead>\n",
       "  <tbody>\n",
       "    <tr>\n",
       "      <th>0</th>\n",
       "      <td>c40e6a</td>\n",
       "      <td>2019-07-29 00:02:15</td>\n",
       "      <td>registration</td>\n",
       "      <td>NaN</td>\n",
       "    </tr>\n",
       "    <tr>\n",
       "      <th>1</th>\n",
       "      <td>a2b682</td>\n",
       "      <td>2019-07-29 00:04:46</td>\n",
       "      <td>registration</td>\n",
       "      <td>NaN</td>\n",
       "    </tr>\n",
       "    <tr>\n",
       "      <th>2</th>\n",
       "      <td>9ac888</td>\n",
       "      <td>2019-07-29 00:13:22</td>\n",
       "      <td>registration</td>\n",
       "      <td>NaN</td>\n",
       "    </tr>\n",
       "    <tr>\n",
       "      <th>3</th>\n",
       "      <td>93ff22</td>\n",
       "      <td>2019-07-29 00:16:47</td>\n",
       "      <td>registration</td>\n",
       "      <td>NaN</td>\n",
       "    </tr>\n",
       "    <tr>\n",
       "      <th>4</th>\n",
       "      <td>65ef85</td>\n",
       "      <td>2019-07-29 00:19:23</td>\n",
       "      <td>registration</td>\n",
       "      <td>NaN</td>\n",
       "    </tr>\n",
       "  </tbody>\n",
       "</table>\n",
       "</div>"
      ],
      "text/plain": [
       "  user_id           event_date    event_type  purchase_amount\n",
       "0  c40e6a  2019-07-29 00:02:15  registration              NaN\n",
       "1  a2b682  2019-07-29 00:04:46  registration              NaN\n",
       "2  9ac888  2019-07-29 00:13:22  registration              NaN\n",
       "3  93ff22  2019-07-29 00:16:47  registration              NaN\n",
       "4  65ef85  2019-07-29 00:19:23  registration              NaN"
      ]
     },
     "execution_count": 10,
     "metadata": {},
     "output_type": "execute_result"
    }
   ],
   "source": [
    "event_data = pd.read_csv('event_data.csv')\n",
    "\n",
    "print(f'shape of the data: {data.shape[0]} rows and {data.shape[1]} columns')\n",
    "\n",
    "event_data.head()"
   ]
  },
  {
   "cell_type": "code",
   "execution_count": 11,
   "metadata": {},
   "outputs": [],
   "source": [
    "# To use the date data type we convert the data:\n",
    "event_data['event_date'] = pd.to_datetime(event_data['event_date'])"
   ]
  },
  {
   "cell_type": "code",
   "execution_count": 12,
   "metadata": {},
   "outputs": [
    {
     "data": {
      "image/png": "[encoded data removed]",
      "text/plain": [
       "<Figure size 640x480 with 1 Axes>"
      ]
     },
     "metadata": {},
     "output_type": "display_data"
    }
   ],
   "source": [
    "# quickly explore the event_type distributions\n",
    "event_data['event_type'].value_counts().plot(kind='bar')\n",
    "plt.title('Event Types')\n",
    "plt.show()"
   ]
  },
  {
   "attachments": {},
   "cell_type": "markdown",
   "metadata": {},
   "source": [
    "2. Highlight user cohorts based on the week of registration in the application. The cohort\n",
    "identifier should be the week ordinal (for example, the week from July 29 to August 4\n",
    "should have identifier 31).\n",
    "\n",
    "note: In this context, a cohort refers to a group of users who share a common characteristic, such as the week they registered in the mobile application. In other words, a cohort is a group of users who are distinguished from others based on a specific criteria and are tracked over time to observe their behavior and characteristics."
   ]
  },
  {
   "cell_type": "code",
   "execution_count": 26,
   "metadata": {},
   "outputs": [
    {
     "data": {
      "text/html": [
       "<div>\n",
       "<style scoped>\n",
       "    .dataframe tbody tr th:only-of-type {\n",
       "        vertical-align: middle;\n",
       "    }\n",
       "\n",
       "    .dataframe tbody tr th {\n",
       "        vertical-align: top;\n",
       "    }\n",
       "\n",
       "    .dataframe thead th {\n",
       "        text-align: right;\n",
       "    }\n",
       "</style>\n",
       "<table border=\"1\" class=\"dataframe\">\n",
       "  <thead>\n",
       "    <tr style=\"text-align: right;\">\n",
       "      <th></th>\n",
       "      <th>user_id</th>\n",
       "      <th>event_date</th>\n",
       "      <th>event_type</th>\n",
       "      <th>purchase_amount</th>\n",
       "      <th>week_ordinal</th>\n",
       "    </tr>\n",
       "  </thead>\n",
       "  <tbody>\n",
       "    <tr>\n",
       "      <th>0</th>\n",
       "      <td>c40e6a</td>\n",
       "      <td>2019-07-29 00:02:15</td>\n",
       "      <td>registration</td>\n",
       "      <td>NaN</td>\n",
       "      <td>31</td>\n",
       "    </tr>\n",
       "    <tr>\n",
       "      <th>1</th>\n",
       "      <td>a2b682</td>\n",
       "      <td>2019-07-29 00:04:46</td>\n",
       "      <td>registration</td>\n",
       "      <td>NaN</td>\n",
       "      <td>31</td>\n",
       "    </tr>\n",
       "    <tr>\n",
       "      <th>2</th>\n",
       "      <td>9ac888</td>\n",
       "      <td>2019-07-29 00:13:22</td>\n",
       "      <td>registration</td>\n",
       "      <td>NaN</td>\n",
       "      <td>31</td>\n",
       "    </tr>\n",
       "    <tr>\n",
       "      <th>3</th>\n",
       "      <td>93ff22</td>\n",
       "      <td>2019-07-29 00:16:47</td>\n",
       "      <td>registration</td>\n",
       "      <td>NaN</td>\n",
       "      <td>31</td>\n",
       "    </tr>\n",
       "    <tr>\n",
       "      <th>4</th>\n",
       "      <td>65ef85</td>\n",
       "      <td>2019-07-29 00:19:23</td>\n",
       "      <td>registration</td>\n",
       "      <td>NaN</td>\n",
       "      <td>31</td>\n",
       "    </tr>\n",
       "    <tr>\n",
       "      <th>...</th>\n",
       "      <td>...</td>\n",
       "      <td>...</td>\n",
       "      <td>...</td>\n",
       "      <td>...</td>\n",
       "      <td>...</td>\n",
       "    </tr>\n",
       "    <tr>\n",
       "      <th>79734</th>\n",
       "      <td>55ae79</td>\n",
       "      <td>2019-09-01 23:55:56</td>\n",
       "      <td>simple_event</td>\n",
       "      <td>NaN</td>\n",
       "      <td>35</td>\n",
       "    </tr>\n",
       "    <tr>\n",
       "      <th>79736</th>\n",
       "      <td>6e6b1c</td>\n",
       "      <td>2019-09-01 23:56:54</td>\n",
       "      <td>simple_event</td>\n",
       "      <td>NaN</td>\n",
       "      <td>35</td>\n",
       "    </tr>\n",
       "    <tr>\n",
       "      <th>79738</th>\n",
       "      <td>a84999</td>\n",
       "      <td>2019-09-01 23:57:50</td>\n",
       "      <td>simple_event</td>\n",
       "      <td>NaN</td>\n",
       "      <td>35</td>\n",
       "    </tr>\n",
       "    <tr>\n",
       "      <th>79740</th>\n",
       "      <td>1c2210</td>\n",
       "      <td>2019-09-01 23:59:51</td>\n",
       "      <td>simple_event</td>\n",
       "      <td>NaN</td>\n",
       "      <td>35</td>\n",
       "    </tr>\n",
       "    <tr>\n",
       "      <th>79741</th>\n",
       "      <td>d799dc</td>\n",
       "      <td>2019-09-01 23:59:54</td>\n",
       "      <td>simple_event</td>\n",
       "      <td>NaN</td>\n",
       "      <td>35</td>\n",
       "    </tr>\n",
       "  </tbody>\n",
       "</table>\n",
       "<p>76145 rows × 5 columns</p>\n",
       "</div>"
      ],
      "text/plain": [
       "      user_id          event_date    event_type  purchase_amount  week_ordinal\n",
       "0      c40e6a 2019-07-29 00:02:15  registration              NaN            31\n",
       "1      a2b682 2019-07-29 00:04:46  registration              NaN            31\n",
       "2      9ac888 2019-07-29 00:13:22  registration              NaN            31\n",
       "3      93ff22 2019-07-29 00:16:47  registration              NaN            31\n",
       "4      65ef85 2019-07-29 00:19:23  registration              NaN            31\n",
       "...       ...                 ...           ...              ...           ...\n",
       "79734  55ae79 2019-09-01 23:55:56  simple_event              NaN            35\n",
       "79736  6e6b1c 2019-09-01 23:56:54  simple_event              NaN            35\n",
       "79738  a84999 2019-09-01 23:57:50  simple_event              NaN            35\n",
       "79740  1c2210 2019-09-01 23:59:51  simple_event              NaN            35\n",
       "79741  d799dc 2019-09-01 23:59:54  simple_event              NaN            35\n",
       "\n",
       "[76145 rows x 5 columns]"
      ]
     },
     "execution_count": 26,
     "metadata": {},
     "output_type": "execute_result"
    }
   ],
   "source": [
    "# create a new column with the week ordinal of the registration date \n",
    "event_data['week_ordinal'] = event_data['event_date'].dt.isocalendar().week\n",
    "\n",
    "# Group by week_ordinal and user_id to get the week of registration for each user\n",
    "cohort_data = event_data.groupby(['week_ordinal', 'user_id'])\n",
    "\n",
    "# Get the first week of registration for each user\n",
    "# cohort_data = cohort_data.first()\n",
    "cohort_data.head()"
   ]
  },
  {
   "cell_type": "code",
   "execution_count": 27,
   "metadata": {},
   "outputs": [
    {
     "name": "stdout",
     "output_type": "stream",
     "text": [
      "---head of cohort_data---\n",
      "                              event_date    event_type  purchase_amount\n",
      "week_ordinal user_id                                                   \n",
      "31           00082c  2019-08-03 17:37:37  registration              NaN\n",
      "             00505f  2019-07-31 10:14:33  registration              NaN\n",
      "             005779  2019-07-31 18:14:23  registration              NaN\n",
      "             0116a1  2019-08-04 06:14:01  registration              NaN\n",
      "             016b02  2019-08-04 13:17:17  registration              NaN\n",
      "---tail of cohort_data---\n",
      "                              event_date    event_type  purchase_amount\n",
      "week_ordinal user_id                                                   \n",
      "35           ffd6d6  2019-08-28 10:39:45  registration              NaN\n",
      "             ffe60a  2019-08-26 06:35:05  registration              NaN\n",
      "             fff039  2019-08-26 21:46:49  registration              NaN\n",
      "             fff22e  2019-08-26 23:02:32  simple_event              NaN\n",
      "             fff4aa  2019-08-27 23:09:47  simple_event              NaN\n"
     ]
    }
   ],
   "source": [
    "# first week of registration for each user\n",
    "cohort_data = cohort_data.first()\n",
    "\n",
    "print('---head of cohort_data---')\n",
    "print(cohort_data.head())\n",
    "print('---tail of cohort_data---')\n",
    "print(cohort_data.tail())"
   ]
  },
  {
   "cell_type": "code",
   "execution_count": 29,
   "metadata": {},
   "outputs": [
    {
     "data": {
      "text/html": [
       "<div>\n",
       "<style scoped>\n",
       "    .dataframe tbody tr th:only-of-type {\n",
       "        vertical-align: middle;\n",
       "    }\n",
       "\n",
       "    .dataframe tbody tr th {\n",
       "        vertical-align: top;\n",
       "    }\n",
       "\n",
       "    .dataframe thead th {\n",
       "        text-align: right;\n",
       "    }\n",
       "</style>\n",
       "<table border=\"1\" class=\"dataframe\">\n",
       "  <thead>\n",
       "    <tr style=\"text-align: right;\">\n",
       "      <th></th>\n",
       "      <th>index</th>\n",
       "      <th>week_ordinal</th>\n",
       "      <th>user_id</th>\n",
       "      <th>event_date</th>\n",
       "      <th>event_type</th>\n",
       "      <th>purchase_amount</th>\n",
       "    </tr>\n",
       "  </thead>\n",
       "  <tbody>\n",
       "    <tr>\n",
       "      <th>0</th>\n",
       "      <td>0</td>\n",
       "      <td>31</td>\n",
       "      <td>00082c</td>\n",
       "      <td>2019-08-03 17:37:37</td>\n",
       "      <td>registration</td>\n",
       "      <td>NaN</td>\n",
       "    </tr>\n",
       "    <tr>\n",
       "      <th>1</th>\n",
       "      <td>1</td>\n",
       "      <td>31</td>\n",
       "      <td>00505f</td>\n",
       "      <td>2019-07-31 10:14:33</td>\n",
       "      <td>registration</td>\n",
       "      <td>NaN</td>\n",
       "    </tr>\n",
       "    <tr>\n",
       "      <th>2</th>\n",
       "      <td>2</td>\n",
       "      <td>31</td>\n",
       "      <td>005779</td>\n",
       "      <td>2019-07-31 18:14:23</td>\n",
       "      <td>registration</td>\n",
       "      <td>NaN</td>\n",
       "    </tr>\n",
       "    <tr>\n",
       "      <th>3</th>\n",
       "      <td>3</td>\n",
       "      <td>31</td>\n",
       "      <td>0116a1</td>\n",
       "      <td>2019-08-04 06:14:01</td>\n",
       "      <td>registration</td>\n",
       "      <td>NaN</td>\n",
       "    </tr>\n",
       "    <tr>\n",
       "      <th>4</th>\n",
       "      <td>4</td>\n",
       "      <td>31</td>\n",
       "      <td>016b02</td>\n",
       "      <td>2019-08-04 13:17:17</td>\n",
       "      <td>registration</td>\n",
       "      <td>NaN</td>\n",
       "    </tr>\n",
       "  </tbody>\n",
       "</table>\n",
       "</div>"
      ],
      "text/plain": [
       "   index  week_ordinal user_id          event_date    event_type  \\\n",
       "0      0            31  00082c 2019-08-03 17:37:37  registration   \n",
       "1      1            31  00505f 2019-07-31 10:14:33  registration   \n",
       "2      2            31  005779 2019-07-31 18:14:23  registration   \n",
       "3      3            31  0116a1 2019-08-04 06:14:01  registration   \n",
       "4      4            31  016b02 2019-08-04 13:17:17  registration   \n",
       "\n",
       "   purchase_amount  \n",
       "0              NaN  \n",
       "1              NaN  \n",
       "2              NaN  \n",
       "3              NaN  \n",
       "4              NaN  "
      ]
     },
     "execution_count": 29,
     "metadata": {},
     "output_type": "execute_result"
    }
   ],
   "source": [
    "# reset the index to make week_ordinal a column\n",
    "cohort_data.reset_index(inplace=True)\n",
    "cohort_data.head()"
   ]
  },
  {
   "cell_type": "code",
   "execution_count": 37,
   "metadata": {},
   "outputs": [
    {
     "name": "stdout",
     "output_type": "stream",
     "text": [
      "---cohort_counts---\n",
      "week_ordinal\n",
      "31    1975\n",
      "32    3784\n",
      "33    5102\n",
      "34    5834\n",
      "35    6238\n",
      "Name: user_id, dtype: int64\n"
     ]
    },
    {
     "data": {
      "image/png": "[encoded data removed]",
      "text/plain": [
       "<Figure size 640x480 with 1 Axes>"
      ]
     },
     "metadata": {},
     "output_type": "display_data"
    }
   ],
   "source": [
    "# its possible to create a new column with the cohort number\n",
    "# cohort_data['cohort'] = cohort_data['week_ordinal'].apply(lambda x: x - 31) \n",
    "# right now we don't need it, it's just for illustration, \n",
    "# but in this case it is asked to use 31 as the cohort number for week the week from July 29 to August 4\n",
    "\n",
    "# Group the data by week_ordinal and calculate the number of unique users in each cohort\n",
    "cohort_counts = cohort_data.groupby('week_ordinal')['user_id'].nunique()\n",
    "print('---cohort_counts---')\n",
    "print(cohort_counts)\n",
    "\n",
    "cohort_counts.plot(kind='bar')\n",
    "plt.title('Number of users in each cohort (registration week)')\n",
    "plt.show()"
   ]
  },
  {
   "attachments": {},
   "cell_type": "markdown",
   "metadata": {},
   "source": [
    "3. How many unique users in the cohort with ID 33?"
   ]
  },
  {
   "cell_type": "code",
   "execution_count": 35,
   "metadata": {},
   "outputs": [
    {
     "name": "stdout",
     "output_type": "stream",
     "text": [
      "The number of unique users in the cohort with identifier 33: 5102\n",
      "cohort meaning the week of registration\n"
     ]
    }
   ],
   "source": [
    "print(f\"The number of unique users in the cohort with identifier 33: {cohort_counts[33]}\")\n",
    "print(\"cohort meaning the week of registration\") "
   ]
  },
  {
   "cell_type": "code",
   "execution_count": null,
   "metadata": {},
   "outputs": [],
   "source": []
  }
 ],
 "metadata": {
  "kernelspec": {
   "display_name": "base",
   "language": "python",
   "name": "python3"
  },
  "language_info": {
   "codemirror_mode": {
    "name": "ipython",
    "version": 3
   },
   "file_extension": ".py",
   "mimetype": "text/x-python",
   "name": "python",
   "nbconvert_exporter": "python",
   "pygments_lexer": "ipython3",
   "version": "3.9.13"
  },
  "orig_nbformat": 4,
  "vscode": {
   "interpreter": {
    "hash": "ad2bdc8ecc057115af97d19610ffacc2b4e99fae6737bb82f5d7fb13d2f2c186"
   }
  }
 },
 "nbformat": 4,
 "nbformat_minor": 2
}
