{
 "cells": [
  {
   "cell_type": "code",
   "execution_count": 1,
   "metadata": {},
   "outputs": [],
   "source": [
    "import pandas as pd\n",
    "import numpy as np\n",
    "import sklearn.feature_selection as fs\n",
    "\n",
    "np.set_printoptions(precision=3)"
   ]
  },
  {
   "attachments": {},
   "cell_type": "markdown",
   "metadata": {},
   "source": [
    "# Feature Selection\n",
    "* reduce overfitting (menos ruido)\n",
    "* mejora precisión\n",
    "* reduce tiempos de entrenamiento\n",
    "\n",
    "\n",
    "Feature se traduce a caracteristicas, muchas veces les dire por el nombre en ingles ya que te sera mas facil comprender la literatura en linea.\n",
    "\n",
    "Caracteristicas irrelevantes pueden entregarnos un mal rendimiento de nuestro modelo, a veces más data puede resultar contraproducente; por ello no siempre podemos ingresar todo a la caja negra y esperar a que ocurra algo magico. Piensalo como que estas diluyendo los datos importantes y el modelo tiene que trabajar extra o tener suerte para obtener la información realmente importante.\n",
    "\n",
    "Utilizaremos herramientas de scikit-learn\n",
    "\n",
    "https://scikit-learn.org/stable/modules/feature_selection.html\n"
   ]
  },
  {
   "attachments": {},
   "cell_type": "markdown",
   "metadata": {},
   "source": [
    "# Seleccion Univariada\n",
    "Usar un test estadistico para elegir aquellas con una relacion al output, scikit utiliza `SelectKBest`; aqui utlizaremos uno de los text que contiene, el cual es: `F-test` lo cual computa la tabla ANOVA-F "
   ]
  },
  {
   "cell_type": "code",
   "execution_count": null,
   "metadata": {},
   "outputs": [],
   "source": [
    "# download the dataset from https://github.com/jbrownlee/Datasets/blob/master/pima-indians-diabetes.data.csv and save it in the same folder as this notebook\n",
    "\n",
    "csv_url = 'https://raw.githubusercontent.com/jbrownlee/Datasets/master/pima-indians-diabetes.data.csv'\n",
    "pd.read_csv(csv_url, header=None).to_csv('pima-indians-diabetes.data.csv', index=False, header=False)\n"
   ]
  },
  {
   "cell_type": "code",
   "execution_count": 5,
   "metadata": {},
   "outputs": [
    {
     "data": {
      "text/html": [
       "<div>\n",
       "<style scoped>\n",
       "    .dataframe tbody tr th:only-of-type {\n",
       "        vertical-align: middle;\n",
       "    }\n",
       "\n",
       "    .dataframe tbody tr th {\n",
       "        vertical-align: top;\n",
       "    }\n",
       "\n",
       "    .dataframe thead th {\n",
       "        text-align: right;\n",
       "    }\n",
       "</style>\n",
       "<table border=\"1\" class=\"dataframe\">\n",
       "  <thead>\n",
       "    <tr style=\"text-align: right;\">\n",
       "      <th></th>\n",
       "      <th>preg</th>\n",
       "      <th>plas</th>\n",
       "      <th>pres</th>\n",
       "      <th>skin</th>\n",
       "      <th>test</th>\n",
       "      <th>mass</th>\n",
       "      <th>pedi</th>\n",
       "      <th>age</th>\n",
       "      <th>class</th>\n",
       "    </tr>\n",
       "  </thead>\n",
       "  <tbody>\n",
       "    <tr>\n",
       "      <th>0</th>\n",
       "      <td>6</td>\n",
       "      <td>148</td>\n",
       "      <td>72</td>\n",
       "      <td>35</td>\n",
       "      <td>0</td>\n",
       "      <td>33.6</td>\n",
       "      <td>0.627</td>\n",
       "      <td>50</td>\n",
       "      <td>1</td>\n",
       "    </tr>\n",
       "    <tr>\n",
       "      <th>1</th>\n",
       "      <td>1</td>\n",
       "      <td>85</td>\n",
       "      <td>66</td>\n",
       "      <td>29</td>\n",
       "      <td>0</td>\n",
       "      <td>26.6</td>\n",
       "      <td>0.351</td>\n",
       "      <td>31</td>\n",
       "      <td>0</td>\n",
       "    </tr>\n",
       "    <tr>\n",
       "      <th>2</th>\n",
       "      <td>8</td>\n",
       "      <td>183</td>\n",
       "      <td>64</td>\n",
       "      <td>0</td>\n",
       "      <td>0</td>\n",
       "      <td>23.3</td>\n",
       "      <td>0.672</td>\n",
       "      <td>32</td>\n",
       "      <td>1</td>\n",
       "    </tr>\n",
       "    <tr>\n",
       "      <th>3</th>\n",
       "      <td>1</td>\n",
       "      <td>89</td>\n",
       "      <td>66</td>\n",
       "      <td>23</td>\n",
       "      <td>94</td>\n",
       "      <td>28.1</td>\n",
       "      <td>0.167</td>\n",
       "      <td>21</td>\n",
       "      <td>0</td>\n",
       "    </tr>\n",
       "    <tr>\n",
       "      <th>4</th>\n",
       "      <td>0</td>\n",
       "      <td>137</td>\n",
       "      <td>40</td>\n",
       "      <td>35</td>\n",
       "      <td>168</td>\n",
       "      <td>43.1</td>\n",
       "      <td>2.288</td>\n",
       "      <td>33</td>\n",
       "      <td>1</td>\n",
       "    </tr>\n",
       "  </tbody>\n",
       "</table>\n",
       "</div>"
      ],
      "text/plain": [
       "   preg  plas  pres  skin  test  mass   pedi  age  class\n",
       "0     6   148    72    35     0  33.6  0.627   50      1\n",
       "1     1    85    66    29     0  26.6  0.351   31      0\n",
       "2     8   183    64     0     0  23.3  0.672   32      1\n",
       "3     1    89    66    23    94  28.1  0.167   21      0\n",
       "4     0   137    40    35   168  43.1  2.288   33      1"
      ]
     },
     "execution_count": 5,
     "metadata": {},
     "output_type": "execute_result"
    }
   ],
   "source": [
    "filename = 'pima-indians-diabetes.data.csv'\n",
    "names = ['preg', 'plas', 'pres', 'skin', 'test', 'mass', 'pedi', 'age', 'class']\n",
    "dataframe = pd.read_csv(filename, names=names)\n",
    "# extraemos en un arreglo los valores (algo como una matriz)\n",
    "array = dataframe.values\n",
    "X = array[:,0:8]\n",
    "Y = array[:,8]\n",
    "\n",
    "dataframe.head()"
   ]
  },
  {
   "attachments": {},
   "cell_type": "markdown",
   "metadata": {},
   "source": [
    "### ANOVA\n",
    "analisis de varianza, lo que utilizamos en el `f_classif` es observar la cantidad de clasificaciones entregadas por `Y` nuestro target vector, en este caso es que el guinea pig tenga diabetes o no, `1` o `0`, esto quiere decir que dividiremos los datos en 2 grupos;\n",
    "\n",
    "##### F\n",
    "Se encarga de poner la hipotesis, \n",
    "- la nula es que las medias de los grupos son iguales.\n",
    "- la alternativa es que almenos una media entre los grupos es distinta\n",
    "\n",
    "En este caso la funcion se encarga de separar las caracteristicas, por lo que solo nos encargamos por ver el puntaje F de cada caracteristica, \n",
    "- aqui para cada feature:\n",
    "    * se calcula la variabilidad\n",
    "    * se compara la variabilidad entre grupos\n",
    "    * se obtiene asi el F-test (es un test de hipotesis al final)\n",
    "\n",
    "el puntaje F es:\n",
    "$$\n",
    "F = \\frac{\\text{variabilidad entre grupos}}{\\text{variabilidad dentro del grupo}}\n",
    "$$\n",
    "\n",
    "un mayor puntaje $F$ quiere decir que existe una mayor evidencia de que la `feature` o `caracteristica` tiene influencia en la diferencia de los grupos; en este caso un alto puntaje $F$ es que la caracteristica tiene evidencia de estar relacionada entre que el guineapig tenga diabetes o no\n",
    "\n",
    "##### p\n",
    "Luego el puntaje p es la probabilidad de haber obtenido este resultado por suerte, un puntaje p cercano a 0, se suele tomar como puntaje p suficiente uno menor a 0.05\n",
    "\n",
    "En el notebook de `2_Estadistica/hipotesis_testing/F-test` puedes encontrar mayor informacion sobre el funcionamiento interno, lo recomiendo pues no debemos de aplicar estadistica sin entender que es lo que estamos haciendo:\n",
    "\n",
    "*es mejor una respuesta correcta aproximada, que una respuesta incorrecta exacta*\n",
    "\n",
    "la estadistica nos entrega respuestas, es facil obtener respuestas, lo dificil es entender que son esas respuestas."
   ]
  },
  {
   "cell_type": "code",
   "execution_count": 12,
   "metadata": {},
   "outputs": [
    {
     "name": "stdout",
     "output_type": "stream",
     "text": [
      "F-statistic\tP-score\t\tFeature\n",
      "39.670\t\t0.000\t\tpreg\n",
      "213.162\t\t0.000\t\tplas\n",
      "3.257\t\t0.072\t\tpres\n",
      "4.304\t\t0.038\t\tskin\n",
      "13.281\t\t0.000\t\ttest\n",
      "71.772\t\t0.000\t\tmass\n",
      "23.871\t\t0.000\t\tpedi\n",
      "46.141\t\t0.000\t\tage\n"
     ]
    }
   ],
   "source": [
    "# ejemplo del F test\n",
    "# esto es un analisis de varianza, computa el F-statistic de cada feature\n",
    "# y el p-score de cada feature\n",
    "Fstatistic, Pscore = fs.f_classif(X,Y)\n",
    "\n",
    "# print as a table\n",
    "print('F-statistic\\tP-score\\t\\tFeature')   \n",
    "for i in range(len(names)-1):\n",
    "    print('{:.3f}\\t\\t{:.3f}\\t\\t{}'.format(Fstatistic[i], Pscore[i], names[i]))"
   ]
  },
  {
   "cell_type": "code",
   "execution_count": 15,
   "metadata": {},
   "outputs": [
    {
     "name": "stdout",
     "output_type": "stream",
     "text": [
      "[ 39.67  213.162   3.257   4.304  13.281  71.772  23.871  46.141]\n",
      "[[  6.  148.   33.6  50. ]\n",
      " [  1.   85.   26.6  31. ]\n",
      " [  8.  183.   23.3  32. ]\n",
      " [  1.   89.   28.1  21. ]\n",
      " [  0.  137.   43.1  33. ]]\n"
     ]
    }
   ],
   "source": [
    "# utilizamos el test F para seleccionar las 4 mejores caracteristicas\n",
    "test = fs.SelectKBest(score_func= fs.f_classif, k=4)\n",
    "fit = test.fit(X, Y)\n",
    "\n",
    "# summarize scores\n",
    "print(fit.scores_)\n",
    "features = fit.transform(X)\n",
    "# summarize selected features\n",
    "print(features[0:5,:])"
   ]
  },
  {
   "cell_type": "code",
   "execution_count": 48,
   "metadata": {},
   "outputs": [
    {
     "name": "stdout",
     "output_type": "stream",
     "text": [
      "Indices importantes\n",
      "[1 5 7 0]\n",
      "['plas', 'mass', 'age', 'preg']\n",
      "[[148.   33.6  50.    6. ]\n",
      " [ 85.   26.6  31.    1. ]\n",
      " [183.   23.3  32.    8. ]\n",
      " [ 89.   28.1  21.    1. ]\n",
      " [137.   43.1  33.    0. ]]\n"
     ]
    }
   ],
   "source": [
    "# get the index of the 4 maximum scores\n",
    "features_index = fit.scores_.argsort()[-4:][::-1]\n",
    "print('Indices importantes')\n",
    "print(features_index)\n",
    "\n",
    "# get the index [1, 5, 7, 0] of names\n",
    "names_index = [names[idx] for idx in features_index]\n",
    "print(names_index)\n",
    "print(X[:5, features_index])\n"
   ]
  },
  {
   "cell_type": "code",
   "execution_count": 53,
   "metadata": {},
   "outputs": [
    {
     "data": {
      "text/html": [
       "<div>\n",
       "<style scoped>\n",
       "    .dataframe tbody tr th:only-of-type {\n",
       "        vertical-align: middle;\n",
       "    }\n",
       "\n",
       "    .dataframe tbody tr th {\n",
       "        vertical-align: top;\n",
       "    }\n",
       "\n",
       "    .dataframe thead th {\n",
       "        text-align: right;\n",
       "    }\n",
       "</style>\n",
       "<table border=\"1\" class=\"dataframe\">\n",
       "  <thead>\n",
       "    <tr style=\"text-align: right;\">\n",
       "      <th></th>\n",
       "      <th>plas</th>\n",
       "      <th>mass</th>\n",
       "      <th>age</th>\n",
       "      <th>preg</th>\n",
       "      <th>class</th>\n",
       "    </tr>\n",
       "  </thead>\n",
       "  <tbody>\n",
       "    <tr>\n",
       "      <th>0</th>\n",
       "      <td>6.0</td>\n",
       "      <td>148.0</td>\n",
       "      <td>33.6</td>\n",
       "      <td>50.0</td>\n",
       "      <td>1.0</td>\n",
       "    </tr>\n",
       "    <tr>\n",
       "      <th>1</th>\n",
       "      <td>1.0</td>\n",
       "      <td>85.0</td>\n",
       "      <td>26.6</td>\n",
       "      <td>31.0</td>\n",
       "      <td>0.0</td>\n",
       "    </tr>\n",
       "    <tr>\n",
       "      <th>2</th>\n",
       "      <td>8.0</td>\n",
       "      <td>183.0</td>\n",
       "      <td>23.3</td>\n",
       "      <td>32.0</td>\n",
       "      <td>1.0</td>\n",
       "    </tr>\n",
       "    <tr>\n",
       "      <th>3</th>\n",
       "      <td>1.0</td>\n",
       "      <td>89.0</td>\n",
       "      <td>28.1</td>\n",
       "      <td>21.0</td>\n",
       "      <td>0.0</td>\n",
       "    </tr>\n",
       "    <tr>\n",
       "      <th>4</th>\n",
       "      <td>0.0</td>\n",
       "      <td>137.0</td>\n",
       "      <td>43.1</td>\n",
       "      <td>33.0</td>\n",
       "      <td>1.0</td>\n",
       "    </tr>\n",
       "  </tbody>\n",
       "</table>\n",
       "</div>"
      ],
      "text/plain": [
       "   plas   mass   age  preg  class\n",
       "0   6.0  148.0  33.6  50.0    1.0\n",
       "1   1.0   85.0  26.6  31.0    0.0\n",
       "2   8.0  183.0  23.3  32.0    1.0\n",
       "3   1.0   89.0  28.1  21.0    0.0\n",
       "4   0.0  137.0  43.1  33.0    1.0"
      ]
     },
     "execution_count": 53,
     "metadata": {},
     "output_type": "execute_result"
    }
   ],
   "source": [
    "# asi reconstruyendo un data frame ahora con informacion de las 4 mejores caracteristicas\n",
    "df = pd.DataFrame(features, columns=names_index)\n",
    "df['class'] = Y\n",
    "df.head()"
   ]
  },
  {
   "cell_type": "code",
   "execution_count": null,
   "metadata": {},
   "outputs": [],
   "source": [
    "df.to_csv('pima-indians-diabetes-selected.csv')"
   ]
  },
  {
   "attachments": {},
   "cell_type": "markdown",
   "metadata": {},
   "source": [
    "# Conclusion\n",
    "Hemos concentrado asi la informacion, dejando aquellos datos que tiene mayor influencia en la clase, ahora el tiempo de entreamiento asi como la precision sera mucho menor; intenta utilizar ahora un modelo de regresion con lo que haz visto en el notebook `1_main.ipynb`, lee el codigo, copia, pega y rearma codigo que sea capaz de predecir si estos probes conejillos de india tienen diabetes:\n",
    "\n",
    "He aqui un simple ejemplo si te sientes perdidx:"
   ]
  },
  {
   "cell_type": "code",
   "execution_count": 73,
   "metadata": {},
   "outputs": [],
   "source": [
    "from sklearn.model_selection import train_test_split, cross_val_score\n",
    "from sklearn.metrics import accuracy_score\n",
    "from sklearn.svm import SVC"
   ]
  },
  {
   "cell_type": "code",
   "execution_count": null,
   "metadata": {},
   "outputs": [],
   "source": [
    "# en caso de que guardaras el archivo y comeinces de nuevo\n",
    "# df = pd.read_csv('pima-indians-diabetes-selected.csv')"
   ]
  },
  {
   "cell_type": "code",
   "execution_count": 74,
   "metadata": {},
   "outputs": [
    {
     "name": "stdout",
     "output_type": "stream",
     "text": [
      "[[  6.  148.   33.6  50. ]\n",
      " [  1.   85.   26.6  31. ]\n",
      " [  8.  183.   23.3  32. ]\n",
      " [  1.   89.   28.1  21. ]\n",
      " [  0.  137.   43.1  33. ]]\n",
      "[1. 0. 1. 0. 1.]\n"
     ]
    }
   ],
   "source": [
    "array = df.values\n",
    "print(array[:,0:-1][:5])\n",
    "print(array[:,-1][:5])\n",
    "\n",
    "X = array[:,0:-1]\n",
    "Y = array[:,-1]\n"
   ]
  },
  {
   "cell_type": "code",
   "execution_count": 75,
   "metadata": {},
   "outputs": [],
   "source": [
    "validation_size = 0.20\n",
    "\n",
    "X_train, X_validation, Y_train, Y_validation = train_test_split(\n",
    "                X, Y, test_size=validation_size, random_state=1)\n"
   ]
  },
  {
   "cell_type": "code",
   "execution_count": 76,
   "metadata": {},
   "outputs": [],
   "source": [
    "model = SVC(gamma='auto')\n",
    "model.fit(X_train, Y_train)\n",
    "predictions = model.predict(X_validation)"
   ]
  },
  {
   "cell_type": "code",
   "execution_count": 79,
   "metadata": {},
   "outputs": [
    {
     "name": "stdout",
     "output_type": "stream",
     "text": [
      "Precision utilizando SupportVectorMachine: 0.636\n"
     ]
    }
   ],
   "source": [
    "print(f\"Precision utilizando SupportVectorMachine: {accuracy_score(Y_validation, predictions):.3f}\")\n",
    "\n",
    "# crees poder mejorar la precision utilizando otro modelo?"
   ]
  }
 ],
 "metadata": {
  "kernelspec": {
   "display_name": "base",
   "language": "python",
   "name": "python3"
  },
  "language_info": {
   "codemirror_mode": {
    "name": "ipython",
    "version": 3
   },
   "file_extension": ".py",
   "mimetype": "text/x-python",
   "name": "python",
   "nbconvert_exporter": "python",
   "pygments_lexer": "ipython3",
   "version": "3.9.13"
  },
  "orig_nbformat": 4,
  "vscode": {
   "interpreter": {
    "hash": "ad2bdc8ecc057115af97d19610ffacc2b4e99fae6737bb82f5d7fb13d2f2c186"
   }
  }
 },
 "nbformat": 4,
 "nbformat_minor": 2
}
