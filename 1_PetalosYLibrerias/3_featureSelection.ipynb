{
 "cells": [
  {
   "attachments": {},
   "cell_type": "markdown",
   "metadata": {},
   "source": [
    "# Feature Selection\n",
    "* reduce overfitting (menos ruido)\n",
    "* mejora precisión\n",
    "* reduce tiempos de entrenamiento\n",
    "\n",
    "\n",
    "Feature se traduce a caracteristicas, muchas veces les dire por el nombre en ingles ya que te sera mas facil comprender la literatura en linea.\n",
    "\n",
    "Caracteristicas irrelevantes pueden entregarnos un mal rendimiento de nuestro modelo, a veces más data puede resultar contraproducente; por ello no siempre podemos ingresar todo a la caja negra y esperar a que ocurra algo magico. Piensalo como que estas diluyendo los datos importantes y el modelo tiene que trabajar extra o tener suerte para obtener la información realmente importante.\n",
    "\n",
    "Utilizaremos herramientas de scikit-learn\n",
    "\n",
    "https://scikit-learn.org/stable/modules/feature_selection.html\n"
   ]
  },
  {
   "attachments": {},
   "cell_type": "markdown",
   "metadata": {},
   "source": [
    "# Seleccion Univariada\n",
    "Usar un test estadistico para elegir aquellas "
   ]
  },
  {
   "cell_type": "code",
   "execution_count": null,
   "metadata": {},
   "outputs": [],
   "source": []
  }
 ],
 "metadata": {
  "language_info": {
   "name": "python"
  },
  "orig_nbformat": 4
 },
 "nbformat": 4,
 "nbformat_minor": 2
}
