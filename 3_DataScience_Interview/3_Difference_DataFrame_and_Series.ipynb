{
 "cells": [
  {
   "cell_type": "code",
   "execution_count": 15,
   "metadata": {},
   "outputs": [
    {
     "name": "stdout",
     "output_type": "stream",
     "text": [
      "version of numpy:  1.21.5\n",
      "version of pandas:  1.4.4\n",
      "2023-02-15 00:36:17\n"
     ]
    }
   ],
   "source": [
    "import numpy as np\n",
    "import pandas as pd\n",
    "import time\n",
    "\n",
    "print(\"version of numpy: \", np.__version__)\n",
    "print(\"version of pandas: \", pd.__version__)\n"
   ]
  },
  {
   "cell_type": "code",
   "execution_count": 30,
   "metadata": {},
   "outputs": [
    {
     "name": "stdout",
     "output_type": "stream",
     "text": [
      "2023-02-15 00:41:06\n"
     ]
    }
   ],
   "source": [
    "# time to explain:\n",
    "start_time =  time.localtime()\n",
    "print(time.strftime(\"%Y-%m-%d %H:%M:%S\",start_time))"
   ]
  },
  {
   "attachments": {},
   "cell_type": "markdown",
   "metadata": {},
   "source": [
    "# Difference between DataFrame and Series\n",
    "\n",
    "In Pandas, a Series is a one-dimensional labeled array, whereas a DataFrame is a two-dimensional labeled data structure with columns of potentially different types."
   ]
  },
  {
   "cell_type": "code",
   "execution_count": 2,
   "metadata": {},
   "outputs": [
    {
     "data": {
      "text/plain": [
       "1"
      ]
     },
     "execution_count": 2,
     "metadata": {},
     "output_type": "execute_result"
    }
   ],
   "source": [
    "# array\n",
    "arr = np.array([1, 2, 3, 4, 5]) \n",
    "\n",
    "arr[0] # an array is a list of values, so we can access the values by index"
   ]
  },
  {
   "cell_type": "code",
   "execution_count": 6,
   "metadata": {},
   "outputs": [
    {
     "data": {
      "text/plain": [
       "1"
      ]
     },
     "execution_count": 6,
     "metadata": {},
     "output_type": "execute_result"
    }
   ],
   "source": [
    "series = pd.Series([1, 2, 3, 4, 5], index=['a', 'b', 'c', 'd', 'e'])\n",
    "\n",
    "series['a'] # a series is a list of values, so we can access the values by index"
   ]
  },
  {
   "cell_type": "code",
   "execution_count": 7,
   "metadata": {},
   "outputs": [
    {
     "data": {
      "text/plain": [
       "0    1\n",
       "1    2\n",
       "2    3\n",
       "3    4\n",
       "4    5\n",
       "Name: a, dtype: int64"
      ]
     },
     "execution_count": 7,
     "metadata": {},
     "output_type": "execute_result"
    }
   ],
   "source": [
    "dataframe = pd.DataFrame({'a': [1, 2, 3, 4, 5], 'b': [6, 7, 8, 9, 10]})\n",
    "\n",
    "dataframe['a'] # a dataframe is a list of series, so we can access the series by column name"
   ]
  },
  {
   "attachments": {},
   "cell_type": "markdown",
   "metadata": {},
   "source": [
    "A Series can be thought of as a single column of a DataFrame, and it has a single column of data and an index to access the data, while a DataFrame is like a spreadsheet, with rows and columns of data, where each column can be of different types, and the columns have labels."
   ]
  },
  {
   "cell_type": "code",
   "execution_count": 13,
   "metadata": {},
   "outputs": [
    {
     "data": {
      "text/plain": [
       "a    1\n",
       "b    2\n",
       "c    3\n",
       "d    4\n",
       "e    5\n",
       "Name: col1, dtype: int64"
      ]
     },
     "execution_count": 13,
     "metadata": {},
     "output_type": "execute_result"
    }
   ],
   "source": [
    "column_1 = pd.Series([1, 2, 3, 4, 5], index=['a', 'b', 'c', 'd', 'e'])\n",
    "column_2 = pd.Series([6, 7, 8, 9, 10], index=['a', 'b', 'c', 'd', 'e'])\n",
    "\n",
    "dataframe = pd.DataFrame({'col1': column_1, 'col2': column_2})\n",
    "\n",
    "dataframe['col1'] # a dataframe is a list of series"
   ]
  },
  {
   "cell_type": "code",
   "execution_count": 11,
   "metadata": {},
   "outputs": [
    {
     "data": {
      "text/plain": [
       "1"
      ]
     },
     "execution_count": 11,
     "metadata": {},
     "output_type": "execute_result"
    }
   ],
   "source": [
    "dataframe['col1']['a']"
   ]
  },
  {
   "attachments": {},
   "cell_type": "markdown",
   "metadata": {},
   "source": [
    "In summary, a Series is a basic data structure in Pandas, representing a one-dimensional array of data with an index, while a DataFrame is a more complex data structure, representing a table-like collection of Series, where each Series is a column in the table.\n",
    "\n",
    "# Conclusion\n",
    "A possible metaphor for understanding the difference between a DataFrame and a Series is to think of a DataFrame as a table with several columns, where each column is represented by a Series. Just like a table can have multiple columns, a DataFrame can have multiple Series. On the other hand, a Series can be thought of as a one-dimensional array or list, similar to a column in a table. So, in a sense, a DataFrame is a container that holds multiple columns (Series), while a Series is a container that holds a single column of data."
   ]
  },
  {
   "cell_type": "code",
   "execution_count": 36,
   "metadata": {},
   "outputs": [
    {
     "name": "stdout",
     "output_type": "stream",
     "text": [
      "2023-02-15 00:44:30\n",
      "time to explain:  03:24\n"
     ]
    }
   ],
   "source": [
    "# time to explain:\n",
    "end_time =  time.localtime()\n",
    "print(time.strftime(\"%Y-%m-%d %H:%M:%S\",end_time))\n",
    "\n",
    "print(\"time to explain: \", time.strftime(\"%M:%S\", time.localtime(time.mktime(end_time)-time.mktime(start_time))) )"
   ]
  },
  {
   "cell_type": "code",
   "execution_count": null,
   "metadata": {},
   "outputs": [],
   "source": []
  }
 ],
 "metadata": {
  "kernelspec": {
   "display_name": "base",
   "language": "python",
   "name": "python3"
  },
  "language_info": {
   "codemirror_mode": {
    "name": "ipython",
    "version": 3
   },
   "file_extension": ".py",
   "mimetype": "text/x-python",
   "name": "python",
   "nbconvert_exporter": "python",
   "pygments_lexer": "ipython3",
   "version": "3.9.13"
  },
  "orig_nbformat": 4,
  "vscode": {
   "interpreter": {
    "hash": "ad2bdc8ecc057115af97d19610ffacc2b4e99fae6737bb82f5d7fb13d2f2c186"
   }
  }
 },
 "nbformat": 4,
 "nbformat_minor": 2
}
