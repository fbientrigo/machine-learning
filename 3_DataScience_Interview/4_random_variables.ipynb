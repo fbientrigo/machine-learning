{
 "cells": [
  {
   "attachments": {},
   "cell_type": "markdown",
   "metadata": {},
   "source": [
    "# Given two random variablex X and Y\n",
    "$$ \\mathbb E[X] = 0.5 $$\n",
    "$$ \\mathbb Var[X] = 2 $$\n",
    "\n",
    "$$ \\mathbb E[Y] = 7 $$\n",
    "$$ \\mathbb Var[Y] = 3.5 $$\n",
    "\n",
    "$$ \\mathbb Cov[X,Y] = -0.8 $$\n",
    "\n",
    "Find the variance of the random variable \n",
    "$$ Z = 2 X - 3Y $$\n"
   ]
  },
  {
   "attachments": {},
   "cell_type": "markdown",
   "metadata": {},
   "source": [
    "it is used the property:\n",
    "$$\n",
    "\\mathbb Var[aX + bY] = a^2 \\mathbb Var[X] + b^2 \\mathbb Var[Y] + 2ab \\mathbb Cov[X,Y]\n",
    "$$"
   ]
  },
  {
   "attachments": {},
   "cell_type": "markdown",
   "metadata": {},
   "source": [
    "Then:\n",
    "\n",
    "$$ Var[Z] =Var[2X−3Y] $$\n",
    "$$ =2^2 Var[X]+(−3)^2 Var[Y]−2⋅2⋅3Cov[X,Y] $$\n",
    "$$ =4⋅(2)+9⋅(3.5)−12⋅(−0.8) $$\n",
    "$$ =8+31.5+9.6$$\n",
    "$$Var[Z]=49.1$$\n",
    "​\n",
    " \n"
   ]
  }
 ],
 "metadata": {
  "kernelspec": {
   "display_name": "base",
   "language": "python",
   "name": "python3"
  },
  "language_info": {
   "name": "python",
   "version": "3.9.13"
  },
  "orig_nbformat": 4,
  "vscode": {
   "interpreter": {
    "hash": "ad2bdc8ecc057115af97d19610ffacc2b4e99fae6737bb82f5d7fb13d2f2c186"
   }
  }
 },
 "nbformat": 4,
 "nbformat_minor": 2
}
