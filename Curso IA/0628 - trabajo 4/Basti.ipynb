{
  "cells": [
    {
      "attachments": {},
      "cell_type": "markdown",
      "metadata": {
        "id": "ejAu49rtNPOa"
      },
      "source": [
        "# Actividad 2: Random Forest\n",
        "Construya un modelo de Random Forest para cada una de las cuencas incluidas en el dataset. Encuentre hiperparámetros y un conjunto de variables que permita superar el rendimiento de los modelos de benchmark. Si no logra un mejor modelo, discuta el porqué."
      ]
    },
    {
      "cell_type": "code",
      "execution_count": 31,
      "metadata": {},
      "outputs": [],
      "source": [
        "import pandas as pd\n",
        "import numpy as np\n",
        "import matplotlib.pyplot as plt\n",
        "import seaborn as sns\n",
        "from sklearn.preprocessing import MinMaxScaler\n",
        "from sklearn.ensemble import RandomForestRegressor\n",
        "from sklearn.model_selection import train_test_split, GridSearchCV\n",
        "from sklearn.metrics import mean_squared_error, mean_absolute_error, r2_score, mean_absolute_percentage_error\n",
        "import warnings\n",
        "\n",
        "base = './data/'"
      ]
    },
    {
      "attachments": {},
      "cell_type": "markdown",
      "metadata": {},
      "source": [
        "### Escalamiento y Limpieza de datos"
      ]
    },
    {
      "cell_type": "code",
      "execution_count": 100,
      "metadata": {
        "colab": {
          "base_uri": "https://localhost:8080/"
        },
        "id": "z7UjGTvR7GZv",
        "outputId": "bff7f6f7-5b4a-4b63-96bc-12adbe6cf39f"
      },
      "outputs": [
        {
          "name": "stdout",
          "output_type": "stream",
          "text": [
            "tipos de datos:\n",
            "gauge_id                                   int64\n",
            "date                              datetime64[ns]\n",
            "pp_f_gfs_pp_mean_b_none_d1_p0d           float64\n",
            "pp_f_gfs_pp_mean_b_none_d1_p1d           float64\n",
            "pp_f_gfs_pp_mean_b_none_d1_p2d           float64\n",
            "                                       ...      \n",
            "caudal_mean_p1d                          float64\n",
            "caudal_mean_p2d                          float64\n",
            "caudal_mean_p3d                          float64\n",
            "caudal_mean_p4d                          float64\n",
            "caudal_mask2                             float64\n",
            "Length: 279, dtype: object\n"
          ]
        }
      ],
      "source": [
        "data = pd.read_csv(\"df_rf_HidroCL_3cuencas.csv\")\n",
        "\n",
        "#conversion a tipo fecha\n",
        "data['date'] = pd.to_datetime(data['date'])\n",
        "data = data.rename(columns={'caudal_mean_p0d':'observed'}) # y a nombres manejables\n",
        "print('tipos de datos:')\n",
        "print(data.dtypes)\n",
        "\n",
        "data.to_csv('memory.csv')"
      ]
    },
    {
      "cell_type": "code",
      "execution_count": 101,
      "metadata": {
        "id": "_jNFyJhz7GZw"
      },
      "outputs": [],
      "source": [
        "# separamos para comodidad al visualizar, date como index es recomendado por otros programadores\n",
        "id0_dailyRain = data[data[\"gauge_id\"] == 9127001].drop(\"gauge_id\", axis=1)\n",
        "id1_dailyRain = data[data[\"gauge_id\"] == 7330001].drop(\"gauge_id\", axis=1)\n",
        "id2_dailyRain = data[data[\"gauge_id\"] == 4703002].drop(\"gauge_id\", axis=1)"
      ]
    },
    {
      "cell_type": "code",
      "execution_count": 102,
      "metadata": {
        "colab": {
          "base_uri": "https://localhost:8080/",
          "height": 661
        },
        "id": "zBMsZL0fDD1X",
        "outputId": "065c6207-2cc4-4c6f-b8f4-8cd88a6b3285"
      },
      "outputs": [
        {
          "data": {
            "text/html": [
              "<div>\n",
              "<style scoped>\n",
              "    .dataframe tbody tr th:only-of-type {\n",
              "        vertical-align: middle;\n",
              "    }\n",
              "\n",
              "    .dataframe tbody tr th {\n",
              "        vertical-align: top;\n",
              "    }\n",
              "\n",
              "    .dataframe thead th {\n",
              "        text-align: right;\n",
              "    }\n",
              "</style>\n",
              "<table border=\"1\" class=\"dataframe\">\n",
              "  <thead>\n",
              "    <tr style=\"text-align: right;\">\n",
              "      <th></th>\n",
              "      <th>date</th>\n",
              "      <th>pp_f_gfs_pp_mean_b_none_d1_p0d</th>\n",
              "      <th>pp_f_gfs_pp_mean_b_none_d1_p1d</th>\n",
              "      <th>pp_f_gfs_pp_mean_b_none_d1_p2d</th>\n",
              "      <th>pp_f_gfs_pp_mean_b_none_d1_p3d</th>\n",
              "      <th>pp_f_gfs_pp_mean_b_none_d1_p4d</th>\n",
              "      <th>pp_o_imerg_pp_mean_b_none_d1_m1d</th>\n",
              "      <th>pp_o_imerg_pp_mean_b_none_d1_m2d</th>\n",
              "      <th>pp_o_imerg_pp_mean_b_none_d1_m3d</th>\n",
              "      <th>pp_o_imerg_pp_mean_b_none_d1_m4d</th>\n",
              "      <th>...</th>\n",
              "      <th>caudal_max_p1d</th>\n",
              "      <th>caudal_max_p2d</th>\n",
              "      <th>caudal_max_p3d</th>\n",
              "      <th>caudal_max_p4d</th>\n",
              "      <th>observed</th>\n",
              "      <th>caudal_mean_p1d</th>\n",
              "      <th>caudal_mean_p2d</th>\n",
              "      <th>caudal_mean_p3d</th>\n",
              "      <th>caudal_mean_p4d</th>\n",
              "      <th>caudal_mask2</th>\n",
              "    </tr>\n",
              "  </thead>\n",
              "  <tbody>\n",
              "    <tr>\n",
              "      <th>2</th>\n",
              "      <td>2001-01-04</td>\n",
              "      <td>88.000000</td>\n",
              "      <td>73.000000</td>\n",
              "      <td>67.000000</td>\n",
              "      <td>60.000000</td>\n",
              "      <td>66.000000</td>\n",
              "      <td>0.0</td>\n",
              "      <td>0.0</td>\n",
              "      <td>0.0</td>\n",
              "      <td>0.0</td>\n",
              "      <td>...</td>\n",
              "      <td>5.813001</td>\n",
              "      <td>6.080000</td>\n",
              "      <td>6.344000</td>\n",
              "      <td>6.608000</td>\n",
              "      <td>5.64</td>\n",
              "      <td>5.81</td>\n",
              "      <td>5.93</td>\n",
              "      <td>6.16</td>\n",
              "      <td>6.42</td>\n",
              "      <td>0.0</td>\n",
              "    </tr>\n",
              "    <tr>\n",
              "      <th>5</th>\n",
              "      <td>2001-01-05</td>\n",
              "      <td>474.000000</td>\n",
              "      <td>458.666667</td>\n",
              "      <td>414.900000</td>\n",
              "      <td>410.666667</td>\n",
              "      <td>409.666667</td>\n",
              "      <td>0.0</td>\n",
              "      <td>0.0</td>\n",
              "      <td>0.0</td>\n",
              "      <td>0.0</td>\n",
              "      <td>...</td>\n",
              "      <td>5.813001</td>\n",
              "      <td>5.813001</td>\n",
              "      <td>6.080000</td>\n",
              "      <td>6.344000</td>\n",
              "      <td>5.55</td>\n",
              "      <td>5.64</td>\n",
              "      <td>5.81</td>\n",
              "      <td>5.93</td>\n",
              "      <td>6.16</td>\n",
              "      <td>0.0</td>\n",
              "    </tr>\n",
              "    <tr>\n",
              "      <th>8</th>\n",
              "      <td>2001-01-06</td>\n",
              "      <td>124.000000</td>\n",
              "      <td>110.000000</td>\n",
              "      <td>95.000000</td>\n",
              "      <td>93.000000</td>\n",
              "      <td>97.000000</td>\n",
              "      <td>0.0</td>\n",
              "      <td>0.0</td>\n",
              "      <td>0.0</td>\n",
              "      <td>0.0</td>\n",
              "      <td>...</td>\n",
              "      <td>5.545999</td>\n",
              "      <td>5.813001</td>\n",
              "      <td>5.813001</td>\n",
              "      <td>6.080000</td>\n",
              "      <td>5.73</td>\n",
              "      <td>5.55</td>\n",
              "      <td>5.64</td>\n",
              "      <td>5.81</td>\n",
              "      <td>5.93</td>\n",
              "      <td>0.0</td>\n",
              "    </tr>\n",
              "    <tr>\n",
              "      <th>11</th>\n",
              "      <td>2001-01-07</td>\n",
              "      <td>2866.066667</td>\n",
              "      <td>3065.342857</td>\n",
              "      <td>0.000000</td>\n",
              "      <td>0.000000</td>\n",
              "      <td>0.000000</td>\n",
              "      <td>4.0</td>\n",
              "      <td>0.0</td>\n",
              "      <td>0.0</td>\n",
              "      <td>0.0</td>\n",
              "      <td>...</td>\n",
              "      <td>5.813001</td>\n",
              "      <td>5.545999</td>\n",
              "      <td>5.813001</td>\n",
              "      <td>5.813001</td>\n",
              "      <td>6.16</td>\n",
              "      <td>5.73</td>\n",
              "      <td>5.55</td>\n",
              "      <td>5.64</td>\n",
              "      <td>5.81</td>\n",
              "      <td>0.0</td>\n",
              "    </tr>\n",
              "    <tr>\n",
              "      <th>14</th>\n",
              "      <td>2001-01-08</td>\n",
              "      <td>2904.125000</td>\n",
              "      <td>3109.228571</td>\n",
              "      <td>2917.133333</td>\n",
              "      <td>0.000000</td>\n",
              "      <td>0.000000</td>\n",
              "      <td>72.0</td>\n",
              "      <td>4.0</td>\n",
              "      <td>0.0</td>\n",
              "      <td>0.0</td>\n",
              "      <td>...</td>\n",
              "      <td>6.872000</td>\n",
              "      <td>5.813001</td>\n",
              "      <td>5.545999</td>\n",
              "      <td>5.813001</td>\n",
              "      <td>7.78</td>\n",
              "      <td>6.16</td>\n",
              "      <td>5.73</td>\n",
              "      <td>5.55</td>\n",
              "      <td>5.64</td>\n",
              "      <td>0.0</td>\n",
              "    </tr>\n",
              "  </tbody>\n",
              "</table>\n",
              "<p>5 rows × 278 columns</p>\n",
              "</div>"
            ],
            "text/plain": [
              "         date  pp_f_gfs_pp_mean_b_none_d1_p0d  pp_f_gfs_pp_mean_b_none_d1_p1d  \\\n",
              "2  2001-01-04                       88.000000                       73.000000   \n",
              "5  2001-01-05                      474.000000                      458.666667   \n",
              "8  2001-01-06                      124.000000                      110.000000   \n",
              "11 2001-01-07                     2866.066667                     3065.342857   \n",
              "14 2001-01-08                     2904.125000                     3109.228571   \n",
              "\n",
              "    pp_f_gfs_pp_mean_b_none_d1_p2d  pp_f_gfs_pp_mean_b_none_d1_p3d  \\\n",
              "2                        67.000000                       60.000000   \n",
              "5                       414.900000                      410.666667   \n",
              "8                        95.000000                       93.000000   \n",
              "11                        0.000000                        0.000000   \n",
              "14                     2917.133333                        0.000000   \n",
              "\n",
              "    pp_f_gfs_pp_mean_b_none_d1_p4d  pp_o_imerg_pp_mean_b_none_d1_m1d  \\\n",
              "2                        66.000000                               0.0   \n",
              "5                       409.666667                               0.0   \n",
              "8                        97.000000                               0.0   \n",
              "11                        0.000000                               4.0   \n",
              "14                        0.000000                              72.0   \n",
              "\n",
              "    pp_o_imerg_pp_mean_b_none_d1_m2d  pp_o_imerg_pp_mean_b_none_d1_m3d  \\\n",
              "2                                0.0                               0.0   \n",
              "5                                0.0                               0.0   \n",
              "8                                0.0                               0.0   \n",
              "11                               0.0                               0.0   \n",
              "14                               4.0                               0.0   \n",
              "\n",
              "    pp_o_imerg_pp_mean_b_none_d1_m4d  ...  caudal_max_p1d  caudal_max_p2d  \\\n",
              "2                                0.0  ...        5.813001        6.080000   \n",
              "5                                0.0  ...        5.813001        5.813001   \n",
              "8                                0.0  ...        5.545999        5.813001   \n",
              "11                               0.0  ...        5.813001        5.545999   \n",
              "14                               0.0  ...        6.872000        5.813001   \n",
              "\n",
              "    caudal_max_p3d  caudal_max_p4d  observed  caudal_mean_p1d  \\\n",
              "2         6.344000        6.608000      5.64             5.81   \n",
              "5         6.080000        6.344000      5.55             5.64   \n",
              "8         5.813001        6.080000      5.73             5.55   \n",
              "11        5.813001        5.813001      6.16             5.73   \n",
              "14        5.545999        5.813001      7.78             6.16   \n",
              "\n",
              "    caudal_mean_p2d  caudal_mean_p3d  caudal_mean_p4d  caudal_mask2  \n",
              "2              5.93             6.16             6.42           0.0  \n",
              "5              5.81             5.93             6.16           0.0  \n",
              "8              5.64             5.81             5.93           0.0  \n",
              "11             5.55             5.64             5.81           0.0  \n",
              "14             5.73             5.55             5.64           0.0  \n",
              "\n",
              "[5 rows x 278 columns]"
            ]
          },
          "execution_count": 102,
          "metadata": {},
          "output_type": "execute_result"
        }
      ],
      "source": [
        "#todos los datos\n",
        "id0_dailyRain.iloc[:5]"
      ]
    },
    {
      "cell_type": "markdown",
      "metadata": {
        "id": "rKXzgUg_he3X"
      },
      "source": [
        "**Se mueve la columna 'observed'**"
      ]
    },
    {
      "cell_type": "code",
      "execution_count": 103,
      "metadata": {
        "id": "FBCk2mIRWV98"
      },
      "outputs": [],
      "source": [
        "new_index = 267\n",
        "\n",
        "columna0 = id0_dailyRain.pop('observed')\n",
        "id0_dailyRain.insert(new_index, 'observed', columna0)\n",
        "columna1 = id1_dailyRain.pop('observed')\n",
        "id1_dailyRain.insert(new_index, 'observed', columna1)\n",
        "columna2 = id2_dailyRain.pop('observed')\n",
        "id2_dailyRain.insert(new_index, 'observed', columna2)"
      ]
    },
    {
      "attachments": {},
      "cell_type": "markdown",
      "metadata": {
        "id": "HpZ0efkLhfwx"
      },
      "source": [
        "**Se eliminan las ultimas 10 columnas para cada río**\n",
        "para quitar las cuencas"
      ]
    },
    {
      "cell_type": "code",
      "execution_count": 104,
      "metadata": {
        "id": "fJjf1H9eYEm0"
      },
      "outputs": [
        {
          "data": {
            "text/plain": [
              "Index(['date', 'pp_f_gfs_pp_mean_b_none_d1_p0d',\n",
              "       'pp_f_gfs_pp_mean_b_none_d1_p1d', 'pp_f_gfs_pp_mean_b_none_d1_p2d',\n",
              "       'pp_f_gfs_pp_mean_b_none_d1_p3d', 'pp_f_gfs_pp_mean_b_none_d1_p4d',\n",
              "       'pp_o_imerg_pp_mean_b_none_d1_m1d', 'pp_o_imerg_pp_mean_b_none_d1_m2d',\n",
              "       'pp_o_imerg_pp_mean_b_none_d1_m3d', 'pp_o_imerg_pp_mean_b_none_d1_m4d',\n",
              "       ...\n",
              "       'hi_s_cam_gwr_tot_b_none_c_c', 'idx_s_cam_arcr2_tot_b_none_c_c',\n",
              "       'hi_o_gww_rs_tot_b_none_d1_m45d', 'top_s_cam_lon_mean_b_none_c_c',\n",
              "       'top_s_cam_lat_mean_b_none_c_c', 'top_s_cam_lon_none_p_none_c_c',\n",
              "       'top_s_cam_lat_none_p_none_c_c', 'top_s_dga_lon_none_p_none_c_c',\n",
              "       'top_s_dga_lat_none_p_none_c_c', 'observed'],\n",
              "      dtype='object', length=268)"
            ]
          },
          "execution_count": 104,
          "metadata": {},
          "output_type": "execute_result"
        }
      ],
      "source": [
        "delete_to = -10\n",
        "id0_dailyRain=id0_dailyRain.iloc[:, :delete_to]\n",
        "id1_dailyRain=id1_dailyRain.iloc[:, :delete_to]\n",
        "id2_dailyRain=id2_dailyRain.iloc[:, :delete_to]\n",
        "id0_dailyRain.columns"
      ]
    },
    {
      "cell_type": "markdown",
      "metadata": {
        "id": "wCcrb51JhgS_"
      },
      "source": [
        "**Se eliminan las filas que contengan datos nulos**"
      ]
    },
    {
      "cell_type": "code",
      "execution_count": 105,
      "metadata": {
        "id": "YFP_y6aF75Pf"
      },
      "outputs": [],
      "source": [
        "# Datos sin NAN\n",
        "id0_dailyRain=id0_dailyRain.dropna()\n",
        "id1_dailyRain=id1_dailyRain.dropna()\n",
        "id2_dailyRain=id2_dailyRain.dropna()"
      ]
    },
    {
      "cell_type": "markdown",
      "metadata": {
        "id": "YXdDF-x0hgz8"
      },
      "source": [
        "**Ordenamiento de los datos**"
      ]
    },
    {
      "cell_type": "code",
      "execution_count": 106,
      "metadata": {
        "id": "66-B3S_27GZw"
      },
      "outputs": [],
      "source": [
        "# Convertir la columna de fechas a formato de fecha adecuado si es necesario\n",
        "id0_dailyRain['date'] = pd.to_datetime(id0_dailyRain['date'])\n",
        "id1_dailyRain['date'] = pd.to_datetime(id1_dailyRain['date'])\n",
        "id2_dailyRain['date'] = pd.to_datetime(id2_dailyRain['date'])\n",
        "\n",
        "# Ordenar los datos por fecha ascendente\n",
        "id0_dailyRain = id0_dailyRain.sort_values('date')\n",
        "id1_dailyRain = id1_dailyRain.sort_values('date')\n",
        "id2_dailyRain = id2_dailyRain.sort_values('date')\n",
        "\n",
        "date0 = id0_dailyRain['date']\n",
        "date1 = id1_dailyRain['date']\n",
        "date2 = id2_dailyRain['date']\n",
        "\n",
        "\n",
        "# Se eliminan las columnas de fechas\n",
        "id0_dailyRain=id0_dailyRain.drop('date', axis=1)\n",
        "id1_dailyRain=id1_dailyRain.drop('date', axis=1)\n",
        "id2_dailyRain=id2_dailyRain.drop('date', axis=1)\n"
      ]
    },
    {
      "cell_type": "markdown",
      "metadata": {
        "id": "feleSg4eUQVT"
      },
      "source": [
        "**Escalando los datos usando Min-Max Scaler:**"
      ]
    },
    {
      "cell_type": "code",
      "execution_count": 110,
      "metadata": {},
      "outputs": [],
      "source": [
        "caudalid0 = id0_dailyRain['observed']\n",
        "caudalid1 = id1_dailyRain['observed']\n",
        "caudalid2 = id2_dailyRain['observed']"
      ]
    },
    {
      "cell_type": "code",
      "execution_count": 111,
      "metadata": {
        "id": "slcBConkmBXX"
      },
      "outputs": [],
      "source": [
        "caracteristicas = id0_dailyRain.columns\n",
        "indices= id0_dailyRain.index\n",
        "\n",
        "#Se crea el objeto scaler para aplicar el escalado Min-Max en los datos en un rango de 0 a 1\n",
        "scaler = MinMaxScaler((0, 1))\n",
        "#Se ajustan y transforman los datos de entrenamiento con la función fit_transform\n",
        "df = scaler.fit_transform(id0_dailyRain)\n",
        "id0_dailyRain = pd.DataFrame(df, columns=caracteristicas , index=indices)\n",
        "\n",
        "caracteristicas = id1_dailyRain.columns\n",
        "indices= id1_dailyRain.index\n",
        "#Se crea el objeto scaler para aplicar el escalado Min-Max en los datos en un rango de 0 a 1\n",
        "scaler = MinMaxScaler((0, 1))\n",
        "#Se ajustan y transforman los datos de entrenamiento con la función fit_transform\n",
        "df = scaler.fit_transform(id1_dailyRain)\n",
        "id1_dailyRain = pd.DataFrame(df, columns=caracteristicas , index=indices)\n",
        "\n",
        "caracteristicas = id2_dailyRain.columns\n",
        "indices= id2_dailyRain.index\n",
        "#Se crea el objeto scaler para aplicar el escalado Min-Max en los datos en un rango de 0 a 1\n",
        "scaler = MinMaxScaler((0, 1))\n",
        "#Se ajustan y transforman los datos de entrenamiento con la función fit_transform\n",
        "df = scaler.fit_transform(id2_dailyRain)\n",
        "id2_dailyRain = pd.DataFrame(df, columns=caracteristicas , index=indices)"
      ]
    },
    {
      "cell_type": "code",
      "execution_count": 112,
      "metadata": {},
      "outputs": [],
      "source": [
        "# se reagregan los caudales\n",
        "id0_dailyRain['observed'] = caudalid0\n",
        "id1_dailyRain['observed'] = caudalid1\n",
        "id2_dailyRain['observed'] = caudalid2"
      ]
    },
    {
      "cell_type": "code",
      "execution_count": 113,
      "metadata": {},
      "outputs": [],
      "source": [
        "# se reagregan las fechas\n",
        "id0_dailyRain['date'] = date0\n",
        "id1_dailyRain['date'] = date1\n",
        "id2_dailyRain['date'] = date2"
      ]
    },
    {
      "cell_type": "code",
      "execution_count": 114,
      "metadata": {},
      "outputs": [],
      "source": [
        "\n",
        "id0_dailyRain.to_csv(base+'id0.csv')\n",
        "id1_dailyRain.to_csv(base+'id1.csv')\n",
        "id2_dailyRain.to_csv(base+'id2.csv')"
      ]
    },
    {
      "attachments": {},
      "cell_type": "markdown",
      "metadata": {},
      "source": [
        "### Sección Preparación de Datos Pre Modelo"
      ]
    },
    {
      "cell_type": "code",
      "execution_count": 115,
      "metadata": {},
      "outputs": [],
      "source": [
        "id0_dailyRain = pd.read_csv(base+'id0.csv', index_col=0)\n",
        "id1_dailyRain = pd.read_csv(base+'id1.csv', index_col=0)\n",
        "id2_dailyRain = pd.read_csv(base+'id2.csv', index_col=0)"
      ]
    },
    {
      "cell_type": "markdown",
      "metadata": {
        "id": "Z4Px9OfT0IDC"
      },
      "source": [
        "**Se almacenan las variables dependientes en X y la variable objetivo en Y**"
      ]
    },
    {
      "cell_type": "code",
      "execution_count": 53,
      "metadata": {},
      "outputs": [],
      "source": [
        "id0_dailyRain=id0_dailyRain.dropna()\n",
        "id1_dailyRain=id1_dailyRain.dropna()\n",
        "id2_dailyRain=id2_dailyRain.dropna()"
      ]
    },
    {
      "cell_type": "code",
      "execution_count": 54,
      "metadata": {},
      "outputs": [],
      "source": [
        "id0_dailyRain_nd=id0_dailyRain.drop('date', axis=1)\n",
        "id1_dailyRain_nd=id1_dailyRain.drop('date', axis=1)\n",
        "id2_dailyRain_nd=id2_dailyRain.drop('date', axis=1)"
      ]
    },
    {
      "cell_type": "code",
      "execution_count": 55,
      "metadata": {
        "id": "47qDuD5D7GZx"
      },
      "outputs": [],
      "source": [
        "X0=id0_dailyRain_nd.drop('observed', axis=1)\n",
        "y0=id0_dailyRain_nd['observed']\n",
        "\n",
        "X1=id1_dailyRain_nd.drop('observed', axis=1)\n",
        "y1=id1_dailyRain_nd['observed']\n",
        "\n",
        "X2=id2_dailyRain_nd.drop('observed', axis=1)\n",
        "y2=id2_dailyRain_nd['observed']"
      ]
    },
    {
      "cell_type": "markdown",
      "metadata": {
        "id": "WxZT5fY7RXGe"
      },
      "source": [
        "**Se dividen los datos en conjuntos entrenamiento, validación y testeo**"
      ]
    },
    {
      "cell_type": "markdown",
      "metadata": {
        "id": "yxx0o_0YS62c"
      },
      "source": [
        "El conjunto de datos para cada río se dividirá en tres conjuntos: entrenamiento, validación y testeo. La división es de 70% para entrenamiento, 15% para validación y 15% para testeo. La división se realizará de manera aleatoria, asegurando que cada conjunto represente adecuadamente la distribución de los datos."
      ]
    },
    {
      "cell_type": "code",
      "execution_count": 56,
      "metadata": {
        "colab": {
          "base_uri": "https://localhost:8080/"
        },
        "id": "3ntkWwNx7GZx",
        "outputId": "de5beb1e-45c0-4ab9-b82c-d622519e0330"
      },
      "outputs": [
        {
          "name": "stdout",
          "output_type": "stream",
          "text": [
            "Río Muco En Puente Muco:\n",
            "Proporción de entrenamiento: 0.7\n",
            "Proporción de validación: 0.15\n",
            "Proporción de testeo: 0.15\n",
            "\n",
            "\n",
            "Río Perquilauquen En San Manuel:\n",
            "Proporción de entrenamiento: 0.7\n",
            "Proporción de validación: 0.15\n",
            "Proporción de testeo: 0.15\n",
            "\n",
            "\n",
            "Río Choapa En Cuncumen:\n",
            "Proporción de entrenamiento: 0.7\n",
            "Proporción de validación: 0.15\n",
            "Proporción de testeo: 0.15\n"
          ]
        }
      ],
      "source": [
        "#Se utiliza la función train_test_split para dividir el conjunto de datos en conjuntos de entrenamiento, validación y testeo\n",
        "X0_train, X0_test_val, y0_train, y0_test_val = train_test_split(X0, y0, test_size=0.3, random_state=42)\n",
        "X0_val, X0_test, y0_val, y0_test = train_test_split(X0_test_val, y0_test_val, test_size=0.5, random_state=42)\n",
        "print(\"Río Muco En Puente Muco:\")\n",
        "print(\"Proporción de entrenamiento:\", round(len(X0_train) / len(X0), 2))\n",
        "print(\"Proporción de validación:\", round(len(X0_val) / len(X0), 2))\n",
        "print(\"Proporción de testeo:\", round(len(X0_test) / len(X0), 2))\n",
        "print(\"\\n\")\n",
        "#Se utiliza la función train_test_split para dividir el conjunto de datos en conjuntos de entrenamiento, validación y testeo\n",
        "X1_train, X1_test_val, y1_train, y1_test_val = train_test_split(X1, y1, test_size=0.3, random_state=42)\n",
        "X1_val, X1_test, y1_val, y1_test = train_test_split(X1_test_val, y1_test_val, test_size=0.5, random_state=42)\n",
        "print(\"Río Perquilauquen En San Manuel:\")\n",
        "print(\"Proporción de entrenamiento:\", round(len(X1_train) / len(X1), 2))\n",
        "print(\"Proporción de validación:\", round(len(X1_val) / len(X1), 2))\n",
        "print(\"Proporción de testeo:\", round(len(X1_test) / len(X1), 2))\n",
        "print(\"\\n\")\n",
        "#Se utiliza la función train_test_split para dividir el conjunto de datos en conjuntos de entrenamiento, validación y testeo\n",
        "X2_train, X2_test_val, y2_train, y2_test_val = train_test_split(X2, y2, test_size=0.3, random_state=42)\n",
        "X2_val, X2_test, y2_val, y2_test = train_test_split(X2_test_val, y2_test_val, test_size=0.5, random_state=42)\n",
        "print(\"Río Choapa En Cuncumen:\")\n",
        "print(\"Proporción de entrenamiento:\", round(len(X2_train) / len(X2), 2))\n",
        "print(\"Proporción de validación:\", round(len(X2_val) / len(X2), 2))\n",
        "print(\"Proporción de testeo:\", round(len(X2_test) / len(X2), 2))"
      ]
    },
    {
      "attachments": {},
      "cell_type": "markdown",
      "metadata": {},
      "source": [
        "### Modelo Machine Learning"
      ]
    },
    {
      "cell_type": "markdown",
      "metadata": {
        "id": "5uKxnEN300vY"
      },
      "source": [
        "**Se construye el modelo de Random Forest Regression:**"
      ]
    },
    {
      "cell_type": "code",
      "execution_count": 57,
      "metadata": {
        "id": "mvJHT7w_00vh"
      },
      "outputs": [],
      "source": [
        "model = RandomForestRegressor(random_state=42)  \n",
        "#Se construye un objeto RandomForestRegressor() que representa el modelo de regresión de Random Forest"
      ]
    },
    {
      "cell_type": "markdown",
      "metadata": {
        "id": "KKXF9c5700vh"
      },
      "source": [
        "**Se crea el diccionario con los hiperparámetros a ajustar:**"
      ]
    },
    {
      "cell_type": "code",
      "execution_count": 33,
      "metadata": {
        "id": "Ozz4MXWeoEfR"
      },
      "outputs": [],
      "source": [
        "# Se define el diccionario param_grid que contiene las combinaciones de valores de hiperparámetros que se probarán durante la búsqueda.\n",
        "param_grid = {'n_estimators': [50], 'max_depth': [5, 10], 'min_samples_split': [10, 15], 'min_samples_leaf': [5, 10], 'max_features': ['auto','sqrt','log2']}"
      ]
    },
    {
      "cell_type": "markdown",
      "metadata": {
        "id": "2ZEQiZmhn8un"
      },
      "source": [
        "Se crea el diccionario con los hiperparámetros a ajustar siendo estos los siguientes:\n",
        "\n",
        "n_estimators: Indica el número de árboles de decisión que se crearán en el random forest regression.\n",
        "\n",
        "max_depth: Establece la profundidad máxima permitida para cada árbol en el bosque. Controla la cantidad de divisiones que se realizan en cada árbol y, por lo tanto, el nivel de complejidad del modelo.\n",
        "\n",
        "min_samples_split: Especifica el número mínimo de muestras requeridas para dividir un nodo interno en un árbol de decisión.\n",
        "\n",
        "min_samples_leaf: Establece el número mínimo de muestras requeridas en un nodo terminal.\n",
        "\n",
        "max_feature: Determina la cantidad de características que se considerarán al buscar la mejor división en cada nodo del árbol."
      ]
    },
    {
      "cell_type": "markdown",
      "metadata": {
        "id": "pvXb0mei00vi"
      },
      "source": [
        "**Se realiza la búsqueda de los mejores hiperparámetros con validación cruzada:**"
      ]
    },
    {
      "cell_type": "code",
      "execution_count": null,
      "metadata": {
        "colab": {
          "base_uri": "https://localhost:8080/"
        },
        "id": "cTsYSpbS00vi",
        "outputId": "62aa13c7-c0e1-4622-d3d3-ef3960e614f4"
      },
      "outputs": [],
      "source": [
        "grid_search0 = GridSearchCV(estimator=model, param_grid=param_grid, cv=5 ,scoring='r2')\n",
        "grid_search1 = GridSearchCV(estimator=model, param_grid=param_grid, cv=5 ,scoring='r2')\n",
        "grid_search2 = GridSearchCV(estimator=model, param_grid=param_grid, cv=5 ,scoring='r2')\n",
        "#Se utiliza GridSearchCV para realizar una búsqueda exhaustiva de hiperparámetros con validación cruzada y encontrar la mejor combinación de hiperparámetros para el modelo de regresión de Random Forest.\n",
        "\n",
        "#Dentro del GridSearchCV se utilizan los siguientes parámetros:\n",
        "\n",
        "#estimator=randomforestreg: Se especifica el estimador base que se utilizará en la búsqueda de hiperparámetros. En este caso, se utiliza el modelo de regresión de Random Forest.\n",
        "\n",
        "#param_grid=param_grid: Se especifica el diccionario param_grid que contiene las combinaciones de valores para los hiperparámetros que se probarán durante la búsqueda.\n",
        "#Cada combinación de valores se utilizará para ajustar y evaluar el modelo.\n",
        "\n",
        "#cv=5: Se especifica el esquema de validación cruzada que se utilizará durante la búsqueda de hiperparámetros. En este caso, se utiliza una validación cruzada de 5 folds.\n",
        "\n",
        "#scoring='r2': Se especifica la métrica de evaluación que se utilizará para seleccionar el mejor modelo.\n",
        "#Se utiliza 'r2' que es el coeficiente de determinación (R²).\n",
        "\n",
        "warnings.filterwarnings(\"ignore\")\n",
        "grid_search0.fit(X0_train, y0_train)\n",
        "grid_search1.fit(X1_train, y1_train)\n",
        "grid_search2.fit(X2_train, y2_train)\n",
        "#Se utiliza fit para ajustar y evaluar múltiples modelos de de regresión de Random Forest con diferentes combinaciones de hiperparámetros utilizando validación cruzada.\n",
        "\n",
        "#Se obtienen los mejores hiperparámetros y el mejor modelo\n",
        "best_params0 = grid_search0.best_params_ #se utiliza best_params_ para obtener los mejores valores hiperparámetros obtenidos de grid_search\n",
        "best_model0 = grid_search0.best_estimator_ #Se utiliza best_estimator_ para obtener el mejor modelo que se ajuste a los datos utilizando los mejores hiperparámetros.\n",
        "\n",
        "best_params1 = grid_search1.best_params_ #se utiliza best_params_ para obtener los mejores valores hiperparámetros obtenidos de grid_search\n",
        "best_model1 = grid_search1.best_estimator_ #Se utiliza best_estimator_ para obtener el mejor modelo que se ajuste a los datos utilizando los mejores hiperparámetros.\n",
        "\n",
        "best_params2 = grid_search2.best_params_ #se utiliza best_params_ para obtener los mejores valores hiperparámetros obtenidos de grid_search\n",
        "best_model2 = grid_search2.best_estimator_ #Se utiliza best_estimator_ para obtener el mejor modelo que se ajuste a los datos utilizando los mejores hiperparámetros.\n",
        "\n",
        "print('Mejores hiperparámetros para el Rio Muco En Puente Muco:', best_params0)\n",
        "print('Mejores hiperparámetros para el Rio Perquilauquen En San Manuel:', best_params1)\n",
        "print('Mejores hiperparámetros para el Rio Choapa En Cuncumen:', best_params2)"
      ]
    },
    {
      "cell_type": "code",
      "execution_count": 70,
      "metadata": {},
      "outputs": [],
      "source": [
        "# Crear los modelos\n",
        "# para los 3 se dieron los mismos hiperparametros\n",
        "best_params= {'max_depth': 10, 'max_features': 'auto', 'min_samples_leaf': 5, 'min_samples_split': 10, 'n_estimators': 50}\n",
        "best_model0 = RandomForestRegressor(**best_params0)  #Se construye un objeto RandomForestRegressor() que representa el modelo de regresión de Random Forest.\n",
        "best_model1 = RandomForestRegressor(**best_params1) \n",
        "best_model2 = RandomForestRegressor(**best_params2) "
      ]
    },
    {
      "cell_type": "code",
      "execution_count": 71,
      "metadata": {},
      "outputs": [
        {
          "data": {
            "text/html": [
              "<style>#sk-container-id-2 {color: black;background-color: white;}#sk-container-id-2 pre{padding: 0;}#sk-container-id-2 div.sk-toggleable {background-color: white;}#sk-container-id-2 label.sk-toggleable__label {cursor: pointer;display: block;width: 100%;margin-bottom: 0;padding: 0.3em;box-sizing: border-box;text-align: center;}#sk-container-id-2 label.sk-toggleable__label-arrow:before {content: \"▸\";float: left;margin-right: 0.25em;color: #696969;}#sk-container-id-2 label.sk-toggleable__label-arrow:hover:before {color: black;}#sk-container-id-2 div.sk-estimator:hover label.sk-toggleable__label-arrow:before {color: black;}#sk-container-id-2 div.sk-toggleable__content {max-height: 0;max-width: 0;overflow: hidden;text-align: left;background-color: #f0f8ff;}#sk-container-id-2 div.sk-toggleable__content pre {margin: 0.2em;color: black;border-radius: 0.25em;background-color: #f0f8ff;}#sk-container-id-2 input.sk-toggleable__control:checked~div.sk-toggleable__content {max-height: 200px;max-width: 100%;overflow: auto;}#sk-container-id-2 input.sk-toggleable__control:checked~label.sk-toggleable__label-arrow:before {content: \"▾\";}#sk-container-id-2 div.sk-estimator input.sk-toggleable__control:checked~label.sk-toggleable__label {background-color: #d4ebff;}#sk-container-id-2 div.sk-label input.sk-toggleable__control:checked~label.sk-toggleable__label {background-color: #d4ebff;}#sk-container-id-2 input.sk-hidden--visually {border: 0;clip: rect(1px 1px 1px 1px);clip: rect(1px, 1px, 1px, 1px);height: 1px;margin: -1px;overflow: hidden;padding: 0;position: absolute;width: 1px;}#sk-container-id-2 div.sk-estimator {font-family: monospace;background-color: #f0f8ff;border: 1px dotted black;border-radius: 0.25em;box-sizing: border-box;margin-bottom: 0.5em;}#sk-container-id-2 div.sk-estimator:hover {background-color: #d4ebff;}#sk-container-id-2 div.sk-parallel-item::after {content: \"\";width: 100%;border-bottom: 1px solid gray;flex-grow: 1;}#sk-container-id-2 div.sk-label:hover label.sk-toggleable__label {background-color: #d4ebff;}#sk-container-id-2 div.sk-serial::before {content: \"\";position: absolute;border-left: 1px solid gray;box-sizing: border-box;top: 0;bottom: 0;left: 50%;z-index: 0;}#sk-container-id-2 div.sk-serial {display: flex;flex-direction: column;align-items: center;background-color: white;padding-right: 0.2em;padding-left: 0.2em;position: relative;}#sk-container-id-2 div.sk-item {position: relative;z-index: 1;}#sk-container-id-2 div.sk-parallel {display: flex;align-items: stretch;justify-content: center;background-color: white;position: relative;}#sk-container-id-2 div.sk-item::before, #sk-container-id-2 div.sk-parallel-item::before {content: \"\";position: absolute;border-left: 1px solid gray;box-sizing: border-box;top: 0;bottom: 0;left: 50%;z-index: -1;}#sk-container-id-2 div.sk-parallel-item {display: flex;flex-direction: column;z-index: 1;position: relative;background-color: white;}#sk-container-id-2 div.sk-parallel-item:first-child::after {align-self: flex-end;width: 50%;}#sk-container-id-2 div.sk-parallel-item:last-child::after {align-self: flex-start;width: 50%;}#sk-container-id-2 div.sk-parallel-item:only-child::after {width: 0;}#sk-container-id-2 div.sk-dashed-wrapped {border: 1px dashed gray;margin: 0 0.4em 0.5em 0.4em;box-sizing: border-box;padding-bottom: 0.4em;background-color: white;}#sk-container-id-2 div.sk-label label {font-family: monospace;font-weight: bold;display: inline-block;line-height: 1.2em;}#sk-container-id-2 div.sk-label-container {text-align: center;}#sk-container-id-2 div.sk-container {/* jupyter's `normalize.less` sets `[hidden] { display: none; }` but bootstrap.min.css set `[hidden] { display: none !important; }` so we also need the `!important` here to be able to override the default hidden behavior on the sphinx rendered scikit-learn.org. See: https://github.com/scikit-learn/scikit-learn/issues/21755 */display: inline-block !important;position: relative;}#sk-container-id-2 div.sk-text-repr-fallback {display: none;}</style><div id=\"sk-container-id-2\" class=\"sk-top-container\"><div class=\"sk-text-repr-fallback\"><pre>RandomForestRegressor(max_depth=10, max_features=&#x27;auto&#x27;, min_samples_leaf=5,\n",
              "                      min_samples_split=10, n_estimators=50)</pre><b>In a Jupyter environment, please rerun this cell to show the HTML representation or trust the notebook. <br />On GitHub, the HTML representation is unable to render, please try loading this page with nbviewer.org.</b></div><div class=\"sk-container\" hidden><div class=\"sk-item\"><div class=\"sk-estimator sk-toggleable\"><input class=\"sk-toggleable__control sk-hidden--visually\" id=\"sk-estimator-id-2\" type=\"checkbox\" checked><label for=\"sk-estimator-id-2\" class=\"sk-toggleable__label sk-toggleable__label-arrow\">RandomForestRegressor</label><div class=\"sk-toggleable__content\"><pre>RandomForestRegressor(max_depth=10, max_features=&#x27;auto&#x27;, min_samples_leaf=5,\n",
              "                      min_samples_split=10, n_estimators=50)</pre></div></div></div></div></div>"
            ],
            "text/plain": [
              "RandomForestRegressor(max_depth=10, max_features='auto', min_samples_leaf=5,\n",
              "                      min_samples_split=10, n_estimators=50)"
            ]
          },
          "execution_count": 71,
          "metadata": {},
          "output_type": "execute_result"
        }
      ],
      "source": [
        "best_model0.fit(X0_train, y0_train)\n",
        "best_model1.fit(X1_train, y1_train)\n",
        "best_model2.fit(X2_train, y2_train)"
      ]
    },
    {
      "cell_type": "markdown",
      "metadata": {
        "id": "y4ficrxe00vi"
      },
      "source": [
        "Se obtuvo que los mejores hiperparámetros obtenidos utiliza max_depth: 20, min_samples_leaf: 5, min_samples_split: 10, n_estimators: 50 y max_features: 'auto' para los 3 rios."
      ]
    },
    {
      "cell_type": "markdown",
      "metadata": {
        "id": "qDkKbC8T00vi"
      },
      "source": [
        "**Prediccion y evaluación de los conjuntos de testeo, validación y entrenamiento:**"
      ]
    },
    {
      "cell_type": "markdown",
      "metadata": {
        "id": "ZkzdoU2ahL3i"
      },
      "source": [
        " **Río Muco En Puente Muco:**"
      ]
    },
    {
      "cell_type": "code",
      "execution_count": 83,
      "metadata": {},
      "outputs": [
        {
          "data": {
            "text/plain": [
              "0.03775808620745463"
            ]
          },
          "execution_count": 83,
          "metadata": {},
          "output_type": "execute_result"
        }
      ],
      "source": [
        "predictions_test = best_model0.predict(X0_test)\n",
        "mean_absolute_percentage_error(predictions_test,y0_test)"
      ]
    },
    {
      "cell_type": "code",
      "execution_count": 88,
      "metadata": {},
      "outputs": [
        {
          "data": {
            "text/plain": [
              "<Axes: xlabel='observed', ylabel='Count'>"
            ]
          },
          "execution_count": 88,
          "metadata": {},
          "output_type": "execute_result"
        },
        {
          "data": {
            "image/png": "[encoded data removed]",
            "text/plain": [
              "<Figure size 432x288 with 1 Axes>"
            ]
          },
          "metadata": {
            "needs_background": "light"
          },
          "output_type": "display_data"
        }
      ],
      "source": [
        "sns.histplot(y0_test)"
      ]
    },
    {
      "cell_type": "code",
      "execution_count": 91,
      "metadata": {},
      "outputs": [],
      "source": [
        "from sklearn.metrics import mean_squared_log_error"
      ]
    },
    {
      "cell_type": "code",
      "execution_count": 95,
      "metadata": {},
      "outputs": [],
      "source": [
        "def medir_error(X0_val, X0_test, X0_train, y0_val, y0_test, y0_train, best_model0, rio):\n",
        "    metrica1 = mean_absolute_error #mae\n",
        "    metrica2 = mean_squared_error # mse\n",
        "    metrica3 = mean_squared_log_error\n",
        "    nombre_metrica3 = \"Error Cuadratico Medio Logaritmico\"\n",
        "\n",
        "\n",
        "    #Se utiliza la función predict() para generar predicciones utilizando el mejor modelo obtenido sobre los conjuntos de validación, testeo y entrenamiento\n",
        "    predictions_val = best_model0.predict(X0_val)\n",
        "    predictions_test = best_model0.predict(X0_test)\n",
        "    predictions_train = best_model0.predict(X0_train)\n",
        "\n",
        "    #Se calculan diferentes métricas de evaluación para las predicciones realizadas por el modelo en el conjunto de validación.\n",
        "    mae_val = metrica1(y0_val, predictions_val) #se utiliza la función mean_absolute_error para calcula el error absoluto medio entre los valores reales (y_val) y las predicciones (predictions_val)\n",
        "    mse_val = metrica2(y0_val, predictions_val) #se utiliza la función mean_squared_error para calcula el error cuadrático medio entre los valores reales (y_val) y las predicciones (predictions_val)\n",
        "    mape_val = metrica3(y0_val, predictions_val)\n",
        "    r2_val = r2_score(y0_val, predictions_val) #se utiliza la función r2_score para calcula el coeficiente de determinación (R²) entre los valores reales (y_val) y las predicciones (predictions_val)\n",
        "\n",
        "    #Se calculan diferentes métricas de evaluación para las predicciones realizadas por el modelo en el conjunto de testeo.\n",
        "    mae_test = metrica1(y0_test, predictions_test)\n",
        "    mse_test = metrica2(y0_test, predictions_test)\n",
        "    mape_test = metrica3(predictions_test, y0_test)\n",
        "    r2_test = r2_score(y0_test, predictions_test)\n",
        "\n",
        "    #Se calculan diferentes métricas de evaluación para las predicciones realizadas por el modelo en el conjunto de entrenamiento.\n",
        "    mae_train = metrica1(y0_train, predictions_train)\n",
        "    mse_train = metrica2(y0_train, predictions_train)\n",
        "    mape_train = metrica3(y0_train, predictions_train)\n",
        "    r2_train = r2_score(y0_train, predictions_train)\n",
        "    print(f\"{rio}\")\n",
        "    print(\"Conjunto de validación\")\n",
        "    print('Error Absoluto Medio (MAE):', round(mae_val, 3))\n",
        "    print('Error Cuadrático Medio (MSE):', round(mse_val, 3))\n",
        "    print(f'{nombre_metrica3}:', round(mape_val, 3))\n",
        "    print('Coeficiente de determinación (R²):', round(r2_val, 3))\n",
        "    sns.histplot(predictions_val - y0_val)\n",
        "    plt.title('Distribución de Erores, Validación')\n",
        "    plt.show()\n",
        "    print(\"\\n\")\n",
        "\n",
        "    print(\"Conjunto de testeo\")\n",
        "    print('Error Absoluto Medio (MAE):', round(mae_test, 3))\n",
        "    print('Error Cuadrático Medio (MSE):', round(mse_test, 3))\n",
        "    print(f'{nombre_metrica3}:', round(mape_test, 3))\n",
        "    print('Coeficiente de determinación (R²):', round(r2_test, 3))\n",
        "    sns.histplot(predictions_test - y0_test)\n",
        "    plt.title('Distribución de Erores, Testeo')\n",
        "    plt.show()\n",
        "    print(\"\\n\")\n",
        "\n",
        "    print(\"Conjunto de entrenamiento\")\n",
        "    print('Error Absoluto Medio (MAE):', round(mae_train, 3))\n",
        "    print('Error Cuadrático Medio (MSE):', round(mse_train, 3))\n",
        "    print(f'{nombre_metrica3}:', round(mape_train, 3))\n",
        "    print('Coeficiente de determinación (R²):', round(r2_train, 3)) \n",
        "    sns.histplot(predictions_train - y0_train)\n",
        "    plt.title('Distribución de Erores, Entrenamiento')\n",
        "    plt.show()\n"
      ]
    },
    {
      "cell_type": "code",
      "execution_count": 96,
      "metadata": {},
      "outputs": [
        {
          "name": "stdout",
          "output_type": "stream",
          "text": [
            "Río Muco\n",
            "Conjunto de validación\n",
            "Error Absoluto Medio (MAE): 0.003\n",
            "Error Cuadrático Medio (MSE): 0.0\n",
            "Error Cuadratico Medio Logaritmico: 0.0\n",
            "Coeficiente de determinación (R²): 0.978\n"
          ]
        },
        {
          "data": {
            "image/png": "[encoded data removed]",
            "text/plain": [
              "<Figure size 432x288 with 1 Axes>"
            ]
          },
          "metadata": {
            "needs_background": "light"
          },
          "output_type": "display_data"
        },
        {
          "name": "stdout",
          "output_type": "stream",
          "text": [
            "\n",
            "\n",
            "Conjunto de testeo\n",
            "Error Absoluto Medio (MAE): 0.003\n",
            "Error Cuadrático Medio (MSE): 0.0\n",
            "Error Cuadratico Medio Logaritmico: 0.0\n",
            "Coeficiente de determinación (R²): 0.984\n"
          ]
        },
        {
          "data": {
            "image/png": "[encoded data removed]",
            "text/plain": [
              "<Figure size 432x288 with 1 Axes>"
            ]
          },
          "metadata": {
            "needs_background": "light"
          },
          "output_type": "display_data"
        },
        {
          "name": "stdout",
          "output_type": "stream",
          "text": [
            "\n",
            "\n",
            "Conjunto de entrenamiento\n",
            "Error Absoluto Medio (MAE): 0.002\n",
            "Error Cuadrático Medio (MSE): 0.0\n",
            "Error Cuadratico Medio Logaritmico: 0.0\n",
            "Coeficiente de determinación (R²): 0.995\n"
          ]
        },
        {
          "data": {
            "image/png": "[encoded data removed]",
            "text/plain": [
              "<Figure size 432x288 with 1 Axes>"
            ]
          },
          "metadata": {
            "needs_background": "light"
          },
          "output_type": "display_data"
        }
      ],
      "source": [
        "rio = \"Río Muco\"\n",
        "medir_error(X0_val, X0_test, X0_train, y0_val, y0_test, y0_train, best_model0, rio)"
      ]
    },
    {
      "cell_type": "markdown",
      "metadata": {
        "id": "XAUfCN_ehRNd"
      },
      "source": [
        "**Río Perquilauquen En San Manuel:**"
      ]
    },
    {
      "cell_type": "code",
      "execution_count": 97,
      "metadata": {},
      "outputs": [
        {
          "name": "stdout",
          "output_type": "stream",
          "text": [
            "Río Perquilauquen En San Manuel:\n",
            "Río Perquilauquen\n",
            "Conjunto de validación\n",
            "Error Absoluto Medio (MAE): 0.002\n",
            "Error Cuadrático Medio (MSE): 0.0\n",
            "Error Cuadratico Medio Logaritmico: 0.0\n",
            "Coeficiente de determinación (R²): 0.944\n"
          ]
        },
        {
          "data": {
            "image/png": "[encoded data removed]",
            "text/plain": [
              "<Figure size 432x288 with 1 Axes>"
            ]
          },
          "metadata": {
            "needs_background": "light"
          },
          "output_type": "display_data"
        },
        {
          "name": "stdout",
          "output_type": "stream",
          "text": [
            "\n",
            "\n",
            "Conjunto de testeo\n",
            "Error Absoluto Medio (MAE): 0.002\n",
            "Error Cuadrático Medio (MSE): 0.0\n",
            "Error Cuadratico Medio Logaritmico: 0.0\n",
            "Coeficiente de determinación (R²): 0.965\n"
          ]
        },
        {
          "data": {
            "image/png": "[encoded data removed]",
            "text/plain": [
              "<Figure size 432x288 with 1 Axes>"
            ]
          },
          "metadata": {
            "needs_background": "light"
          },
          "output_type": "display_data"
        },
        {
          "name": "stdout",
          "output_type": "stream",
          "text": [
            "\n",
            "\n",
            "Conjunto de entrenamiento\n",
            "Error Absoluto Medio (MAE): 0.001\n",
            "Error Cuadrático Medio (MSE): 0.0\n",
            "Error Cuadratico Medio Logaritmico: 0.0\n",
            "Coeficiente de determinación (R²): 0.975\n"
          ]
        },
        {
          "data": {
            "image/png": "[encoded data removed]",
            "text/plain": [
              "<Figure size 432x288 with 1 Axes>"
            ]
          },
          "metadata": {
            "needs_background": "light"
          },
          "output_type": "display_data"
        }
      ],
      "source": [
        "rio1 = \"Río Perquilauquen\"\n",
        "print(\"Río Perquilauquen En San Manuel:\")\n",
        "medir_error(X1_val, X1_test, X1_train, y1_val, y1_test, y1_train, best_model1, rio1)"
      ]
    },
    {
      "cell_type": "markdown",
      "metadata": {
        "id": "SH4979D8hUFv"
      },
      "source": [
        "**Río Choapa En Cuncumen:**"
      ]
    },
    {
      "cell_type": "code",
      "execution_count": 98,
      "metadata": {},
      "outputs": [
        {
          "name": "stdout",
          "output_type": "stream",
          "text": [
            "Río Choapa En Cuncumen:\n",
            "Río Choapa\n",
            "Conjunto de validación\n",
            "Error Absoluto Medio (MAE): 0.003\n",
            "Error Cuadrático Medio (MSE): 0.0\n",
            "Error Cuadratico Medio Logaritmico: 0.0\n",
            "Coeficiente de determinación (R²): 0.996\n"
          ]
        },
        {
          "data": {
            "image/png": "[encoded data removed]",
            "text/plain": [
              "<Figure size 432x288 with 1 Axes>"
            ]
          },
          "metadata": {
            "needs_background": "light"
          },
          "output_type": "display_data"
        },
        {
          "name": "stdout",
          "output_type": "stream",
          "text": [
            "\n",
            "\n",
            "Conjunto de testeo\n",
            "Error Absoluto Medio (MAE): 0.003\n",
            "Error Cuadrático Medio (MSE): 0.0\n",
            "Error Cuadratico Medio Logaritmico: 0.0\n",
            "Coeficiente de determinación (R²): 0.995\n"
          ]
        },
        {
          "data": {
            "image/png": "[encoded data removed]",
            "text/plain": [
              "<Figure size 432x288 with 1 Axes>"
            ]
          },
          "metadata": {
            "needs_background": "light"
          },
          "output_type": "display_data"
        },
        {
          "name": "stdout",
          "output_type": "stream",
          "text": [
            "\n",
            "\n",
            "Conjunto de entrenamiento\n",
            "Error Absoluto Medio (MAE): 0.002\n",
            "Error Cuadrático Medio (MSE): 0.0\n",
            "Error Cuadratico Medio Logaritmico: 0.0\n",
            "Coeficiente de determinación (R²): 0.998\n"
          ]
        },
        {
          "data": {
            "image/png": "[encoded data removed]",
            "text/plain": [
              "<Figure size 432x288 with 1 Axes>"
            ]
          },
          "metadata": {
            "needs_background": "light"
          },
          "output_type": "display_data"
        }
      ],
      "source": [
        "rio2 = \"Río Choapa\"\n",
        "print(\"Río Choapa En Cuncumen:\")\n",
        "medir_error(X2_val, X2_test, X2_train, y2_val, y2_test, y2_train, best_model2, rio2)"
      ]
    },
    {
      "cell_type": "code",
      "execution_count": 85,
      "metadata": {
        "id": "znLLvx84P6iF"
      },
      "outputs": [],
      "source": []
    },
    {
      "cell_type": "code",
      "execution_count": 85,
      "metadata": {
        "id": "XW6TFXPOP6k3"
      },
      "outputs": [],
      "source": []
    },
    {
      "cell_type": "code",
      "execution_count": 85,
      "metadata": {
        "id": "1Xb5kvCtP6nk"
      },
      "outputs": [],
      "source": []
    },
    {
      "cell_type": "code",
      "execution_count": null,
      "metadata": {
        "id": "pqXGs38cP6qM"
      },
      "outputs": [],
      "source": []
    },
    {
      "cell_type": "code",
      "execution_count": null,
      "metadata": {
        "id": "ZcNasAQfP6tV"
      },
      "outputs": [],
      "source": []
    },
    {
      "cell_type": "code",
      "execution_count": 62,
      "metadata": {
        "colab": {
          "base_uri": "https://localhost:8080/"
        },
        "id": "bk_7zqmNlPq3",
        "outputId": "96fa7574-a618-4a81-fefa-cad6e0c1810f"
      },
      "outputs": [
        {
          "name": "stdout",
          "output_type": "stream",
          "text": [
            "Parametros Primer Caudal\n"
          ]
        },
        {
          "ename": "KeyboardInterrupt",
          "evalue": "",
          "output_type": "error",
          "traceback": [
            "\u001b[1;31m---------------------------------------------------------------------------\u001b[0m",
            "\u001b[1;31mKeyboardInterrupt\u001b[0m                         Traceback (most recent call last)",
            "\u001b[1;32mc:\\msys64\\home\\Code\\machine-learning\\Curso IA\\0628 - trabajo 4\\Basti.ipynb Cell 53\u001b[0m in \u001b[0;36m<module>\u001b[1;34m\u001b[0m\n\u001b[0;32m      <a href='vscode-notebook-cell:/c%3A/msys64/home/Code/machine-learning/Curso%20IA/0628%20-%20trabajo%204/Basti.ipynb#X54sZmlsZQ%3D%3D?line=1'>2</a>\u001b[0m param_grid \u001b[39m=\u001b[39m {\u001b[39m'\u001b[39m\u001b[39mn_estimators\u001b[39m\u001b[39m'\u001b[39m: [\u001b[39m125\u001b[39m], \u001b[39m'\u001b[39m\u001b[39mmax_depth\u001b[39m\u001b[39m'\u001b[39m: [\u001b[39m5\u001b[39m, \u001b[39m10\u001b[39m], \u001b[39m'\u001b[39m\u001b[39mmin_samples_split\u001b[39m\u001b[39m'\u001b[39m: [\u001b[39m10\u001b[39m, \u001b[39m15\u001b[39m], \u001b[39m'\u001b[39m\u001b[39mmin_samples_leaf\u001b[39m\u001b[39m'\u001b[39m: [\u001b[39m5\u001b[39m, \u001b[39m10\u001b[39m], \u001b[39m'\u001b[39m\u001b[39mmax_features\u001b[39m\u001b[39m'\u001b[39m: [\u001b[39m'\u001b[39m\u001b[39mauto\u001b[39m\u001b[39m'\u001b[39m,\u001b[39m'\u001b[39m\u001b[39msqrt\u001b[39m\u001b[39m'\u001b[39m,\u001b[39m'\u001b[39m\u001b[39mlog2\u001b[39m\u001b[39m'\u001b[39m]}\n\u001b[0;32m      <a href='vscode-notebook-cell:/c%3A/msys64/home/Code/machine-learning/Curso%20IA/0628%20-%20trabajo%204/Basti.ipynb#X54sZmlsZQ%3D%3D?line=3'>4</a>\u001b[0m grid_search \u001b[39m=\u001b[39m GridSearchCV(estimator\u001b[39m=\u001b[39mmodel, param_grid\u001b[39m=\u001b[39mparam_grid, cv\u001b[39m=\u001b[39m\u001b[39m5\u001b[39m ,scoring\u001b[39m=\u001b[39m\u001b[39m'\u001b[39m\u001b[39mr2\u001b[39m\u001b[39m'\u001b[39m)\n\u001b[1;32m----> <a href='vscode-notebook-cell:/c%3A/msys64/home/Code/machine-learning/Curso%20IA/0628%20-%20trabajo%204/Basti.ipynb#X54sZmlsZQ%3D%3D?line=6'>7</a>\u001b[0m grid_search\u001b[39m.\u001b[39;49mfit(X1_train, y1_train)\n\u001b[0;32m      <a href='vscode-notebook-cell:/c%3A/msys64/home/Code/machine-learning/Curso%20IA/0628%20-%20trabajo%204/Basti.ipynb#X54sZmlsZQ%3D%3D?line=7'>8</a>\u001b[0m \u001b[39m#Se utiliza fit para ajustar y evaluar múltiples modelos de de regresión de Random Forest con diferentes combinaciones de hiperparámetros utilizando validación cruzada.\u001b[39;00m\n\u001b[0;32m      <a href='vscode-notebook-cell:/c%3A/msys64/home/Code/machine-learning/Curso%20IA/0628%20-%20trabajo%204/Basti.ipynb#X54sZmlsZQ%3D%3D?line=8'>9</a>\u001b[0m \n\u001b[0;32m     <a href='vscode-notebook-cell:/c%3A/msys64/home/Code/machine-learning/Curso%20IA/0628%20-%20trabajo%204/Basti.ipynb#X54sZmlsZQ%3D%3D?line=9'>10</a>\u001b[0m \u001b[39m#Se obtienen los mejores hiperparámetros y el mejor modelo\u001b[39;00m\n\u001b[0;32m     <a href='vscode-notebook-cell:/c%3A/msys64/home/Code/machine-learning/Curso%20IA/0628%20-%20trabajo%204/Basti.ipynb#X54sZmlsZQ%3D%3D?line=10'>11</a>\u001b[0m best_params \u001b[39m=\u001b[39m grid_search\u001b[39m.\u001b[39mbest_params_ \u001b[39m#se utiliza best_params_ para obtener los mejores valores hiperparámetros obtenidos de grid_search\u001b[39;00m\n",
            "File \u001b[1;32mc:\\Users\\fbien.DESKTOP-6FMEAR7\\.conda\\envs\\deepl\\lib\\site-packages\\sklearn\\model_selection\\_search.py:875\u001b[0m, in \u001b[0;36mBaseSearchCV.fit\u001b[1;34m(self, X, y, groups, **fit_params)\u001b[0m\n\u001b[0;32m    869\u001b[0m     results \u001b[39m=\u001b[39m \u001b[39mself\u001b[39m\u001b[39m.\u001b[39m_format_results(\n\u001b[0;32m    870\u001b[0m         all_candidate_params, n_splits, all_out, all_more_results\n\u001b[0;32m    871\u001b[0m     )\n\u001b[0;32m    873\u001b[0m     \u001b[39mreturn\u001b[39;00m results\n\u001b[1;32m--> 875\u001b[0m \u001b[39mself\u001b[39;49m\u001b[39m.\u001b[39;49m_run_search(evaluate_candidates)\n\u001b[0;32m    877\u001b[0m \u001b[39m# multimetric is determined here because in the case of a callable\u001b[39;00m\n\u001b[0;32m    878\u001b[0m \u001b[39m# self.scoring the return type is only known after calling\u001b[39;00m\n\u001b[0;32m    879\u001b[0m first_test_score \u001b[39m=\u001b[39m all_out[\u001b[39m0\u001b[39m][\u001b[39m\"\u001b[39m\u001b[39mtest_scores\u001b[39m\u001b[39m\"\u001b[39m]\n",
            "File \u001b[1;32mc:\\Users\\fbien.DESKTOP-6FMEAR7\\.conda\\envs\\deepl\\lib\\site-packages\\sklearn\\model_selection\\_search.py:1389\u001b[0m, in \u001b[0;36mGridSearchCV._run_search\u001b[1;34m(self, evaluate_candidates)\u001b[0m\n\u001b[0;32m   1387\u001b[0m \u001b[39mdef\u001b[39;00m \u001b[39m_run_search\u001b[39m(\u001b[39mself\u001b[39m, evaluate_candidates):\n\u001b[0;32m   1388\u001b[0m     \u001b[39m\"\"\"Search all candidates in param_grid\"\"\"\u001b[39;00m\n\u001b[1;32m-> 1389\u001b[0m     evaluate_candidates(ParameterGrid(\u001b[39mself\u001b[39;49m\u001b[39m.\u001b[39;49mparam_grid))\n",
            "File \u001b[1;32mc:\\Users\\fbien.DESKTOP-6FMEAR7\\.conda\\envs\\deepl\\lib\\site-packages\\sklearn\\model_selection\\_search.py:822\u001b[0m, in \u001b[0;36mBaseSearchCV.fit.<locals>.evaluate_candidates\u001b[1;34m(candidate_params, cv, more_results)\u001b[0m\n\u001b[0;32m    814\u001b[0m \u001b[39mif\u001b[39;00m \u001b[39mself\u001b[39m\u001b[39m.\u001b[39mverbose \u001b[39m>\u001b[39m \u001b[39m0\u001b[39m:\n\u001b[0;32m    815\u001b[0m     \u001b[39mprint\u001b[39m(\n\u001b[0;32m    816\u001b[0m         \u001b[39m\"\u001b[39m\u001b[39mFitting \u001b[39m\u001b[39m{0}\u001b[39;00m\u001b[39m folds for each of \u001b[39m\u001b[39m{1}\u001b[39;00m\u001b[39m candidates,\u001b[39m\u001b[39m\"\u001b[39m\n\u001b[0;32m    817\u001b[0m         \u001b[39m\"\u001b[39m\u001b[39m totalling \u001b[39m\u001b[39m{2}\u001b[39;00m\u001b[39m fits\u001b[39m\u001b[39m\"\u001b[39m\u001b[39m.\u001b[39mformat(\n\u001b[0;32m    818\u001b[0m             n_splits, n_candidates, n_candidates \u001b[39m*\u001b[39m n_splits\n\u001b[0;32m    819\u001b[0m         )\n\u001b[0;32m    820\u001b[0m     )\n\u001b[1;32m--> 822\u001b[0m out \u001b[39m=\u001b[39m parallel(\n\u001b[0;32m    823\u001b[0m     delayed(_fit_and_score)(\n\u001b[0;32m    824\u001b[0m         clone(base_estimator),\n\u001b[0;32m    825\u001b[0m         X,\n\u001b[0;32m    826\u001b[0m         y,\n\u001b[0;32m    827\u001b[0m         train\u001b[39m=\u001b[39;49mtrain,\n\u001b[0;32m    828\u001b[0m         test\u001b[39m=\u001b[39;49mtest,\n\u001b[0;32m    829\u001b[0m         parameters\u001b[39m=\u001b[39;49mparameters,\n\u001b[0;32m    830\u001b[0m         split_progress\u001b[39m=\u001b[39;49m(split_idx, n_splits),\n\u001b[0;32m    831\u001b[0m         candidate_progress\u001b[39m=\u001b[39;49m(cand_idx, n_candidates),\n\u001b[0;32m    832\u001b[0m         \u001b[39m*\u001b[39;49m\u001b[39m*\u001b[39;49mfit_and_score_kwargs,\n\u001b[0;32m    833\u001b[0m     )\n\u001b[0;32m    834\u001b[0m     \u001b[39mfor\u001b[39;49;00m (cand_idx, parameters), (split_idx, (train, test)) \u001b[39min\u001b[39;49;00m product(\n\u001b[0;32m    835\u001b[0m         \u001b[39menumerate\u001b[39;49m(candidate_params), \u001b[39menumerate\u001b[39;49m(cv\u001b[39m.\u001b[39;49msplit(X, y, groups))\n\u001b[0;32m    836\u001b[0m     )\n\u001b[0;32m    837\u001b[0m )\n\u001b[0;32m    839\u001b[0m \u001b[39mif\u001b[39;00m \u001b[39mlen\u001b[39m(out) \u001b[39m<\u001b[39m \u001b[39m1\u001b[39m:\n\u001b[0;32m    840\u001b[0m     \u001b[39mraise\u001b[39;00m \u001b[39mValueError\u001b[39;00m(\n\u001b[0;32m    841\u001b[0m         \u001b[39m\"\u001b[39m\u001b[39mNo fits were performed. \u001b[39m\u001b[39m\"\u001b[39m\n\u001b[0;32m    842\u001b[0m         \u001b[39m\"\u001b[39m\u001b[39mWas the CV iterator empty? \u001b[39m\u001b[39m\"\u001b[39m\n\u001b[0;32m    843\u001b[0m         \u001b[39m\"\u001b[39m\u001b[39mWere there no candidates?\u001b[39m\u001b[39m\"\u001b[39m\n\u001b[0;32m    844\u001b[0m     )\n",
            "File \u001b[1;32mc:\\Users\\fbien.DESKTOP-6FMEAR7\\.conda\\envs\\deepl\\lib\\site-packages\\joblib\\parallel.py:1048\u001b[0m, in \u001b[0;36mParallel.__call__\u001b[1;34m(self, iterable)\u001b[0m\n\u001b[0;32m   1039\u001b[0m \u001b[39mtry\u001b[39;00m:\n\u001b[0;32m   1040\u001b[0m     \u001b[39m# Only set self._iterating to True if at least a batch\u001b[39;00m\n\u001b[0;32m   1041\u001b[0m     \u001b[39m# was dispatched. In particular this covers the edge\u001b[39;00m\n\u001b[1;32m   (...)\u001b[0m\n\u001b[0;32m   1045\u001b[0m     \u001b[39m# was very quick and its callback already dispatched all the\u001b[39;00m\n\u001b[0;32m   1046\u001b[0m     \u001b[39m# remaining jobs.\u001b[39;00m\n\u001b[0;32m   1047\u001b[0m     \u001b[39mself\u001b[39m\u001b[39m.\u001b[39m_iterating \u001b[39m=\u001b[39m \u001b[39mFalse\u001b[39;00m\n\u001b[1;32m-> 1048\u001b[0m     \u001b[39mif\u001b[39;00m \u001b[39mself\u001b[39;49m\u001b[39m.\u001b[39;49mdispatch_one_batch(iterator):\n\u001b[0;32m   1049\u001b[0m         \u001b[39mself\u001b[39m\u001b[39m.\u001b[39m_iterating \u001b[39m=\u001b[39m \u001b[39mself\u001b[39m\u001b[39m.\u001b[39m_original_iterator \u001b[39mis\u001b[39;00m \u001b[39mnot\u001b[39;00m \u001b[39mNone\u001b[39;00m\n\u001b[0;32m   1051\u001b[0m     \u001b[39mwhile\u001b[39;00m \u001b[39mself\u001b[39m\u001b[39m.\u001b[39mdispatch_one_batch(iterator):\n",
            "File \u001b[1;32mc:\\Users\\fbien.DESKTOP-6FMEAR7\\.conda\\envs\\deepl\\lib\\site-packages\\joblib\\parallel.py:864\u001b[0m, in \u001b[0;36mParallel.dispatch_one_batch\u001b[1;34m(self, iterator)\u001b[0m\n\u001b[0;32m    862\u001b[0m     \u001b[39mreturn\u001b[39;00m \u001b[39mFalse\u001b[39;00m\n\u001b[0;32m    863\u001b[0m \u001b[39melse\u001b[39;00m:\n\u001b[1;32m--> 864\u001b[0m     \u001b[39mself\u001b[39;49m\u001b[39m.\u001b[39;49m_dispatch(tasks)\n\u001b[0;32m    865\u001b[0m     \u001b[39mreturn\u001b[39;00m \u001b[39mTrue\u001b[39;00m\n",
            "File \u001b[1;32mc:\\Users\\fbien.DESKTOP-6FMEAR7\\.conda\\envs\\deepl\\lib\\site-packages\\joblib\\parallel.py:782\u001b[0m, in \u001b[0;36mParallel._dispatch\u001b[1;34m(self, batch)\u001b[0m\n\u001b[0;32m    780\u001b[0m \u001b[39mwith\u001b[39;00m \u001b[39mself\u001b[39m\u001b[39m.\u001b[39m_lock:\n\u001b[0;32m    781\u001b[0m     job_idx \u001b[39m=\u001b[39m \u001b[39mlen\u001b[39m(\u001b[39mself\u001b[39m\u001b[39m.\u001b[39m_jobs)\n\u001b[1;32m--> 782\u001b[0m     job \u001b[39m=\u001b[39m \u001b[39mself\u001b[39;49m\u001b[39m.\u001b[39;49m_backend\u001b[39m.\u001b[39;49mapply_async(batch, callback\u001b[39m=\u001b[39;49mcb)\n\u001b[0;32m    783\u001b[0m     \u001b[39m# A job can complete so quickly than its callback is\u001b[39;00m\n\u001b[0;32m    784\u001b[0m     \u001b[39m# called before we get here, causing self._jobs to\u001b[39;00m\n\u001b[0;32m    785\u001b[0m     \u001b[39m# grow. To ensure correct results ordering, .insert is\u001b[39;00m\n\u001b[0;32m    786\u001b[0m     \u001b[39m# used (rather than .append) in the following line\u001b[39;00m\n\u001b[0;32m    787\u001b[0m     \u001b[39mself\u001b[39m\u001b[39m.\u001b[39m_jobs\u001b[39m.\u001b[39minsert(job_idx, job)\n",
            "File \u001b[1;32mc:\\Users\\fbien.DESKTOP-6FMEAR7\\.conda\\envs\\deepl\\lib\\site-packages\\joblib\\_parallel_backends.py:208\u001b[0m, in \u001b[0;36mSequentialBackend.apply_async\u001b[1;34m(self, func, callback)\u001b[0m\n\u001b[0;32m    206\u001b[0m \u001b[39mdef\u001b[39;00m \u001b[39mapply_async\u001b[39m(\u001b[39mself\u001b[39m, func, callback\u001b[39m=\u001b[39m\u001b[39mNone\u001b[39;00m):\n\u001b[0;32m    207\u001b[0m     \u001b[39m\"\"\"Schedule a func to be run\"\"\"\u001b[39;00m\n\u001b[1;32m--> 208\u001b[0m     result \u001b[39m=\u001b[39m ImmediateResult(func)\n\u001b[0;32m    209\u001b[0m     \u001b[39mif\u001b[39;00m callback:\n\u001b[0;32m    210\u001b[0m         callback(result)\n",
            "File \u001b[1;32mc:\\Users\\fbien.DESKTOP-6FMEAR7\\.conda\\envs\\deepl\\lib\\site-packages\\joblib\\_parallel_backends.py:572\u001b[0m, in \u001b[0;36mImmediateResult.__init__\u001b[1;34m(self, batch)\u001b[0m\n\u001b[0;32m    569\u001b[0m \u001b[39mdef\u001b[39;00m \u001b[39m__init__\u001b[39m(\u001b[39mself\u001b[39m, batch):\n\u001b[0;32m    570\u001b[0m     \u001b[39m# Don't delay the application, to avoid keeping the input\u001b[39;00m\n\u001b[0;32m    571\u001b[0m     \u001b[39m# arguments in memory\u001b[39;00m\n\u001b[1;32m--> 572\u001b[0m     \u001b[39mself\u001b[39m\u001b[39m.\u001b[39mresults \u001b[39m=\u001b[39m batch()\n",
            "File \u001b[1;32mc:\\Users\\fbien.DESKTOP-6FMEAR7\\.conda\\envs\\deepl\\lib\\site-packages\\joblib\\parallel.py:263\u001b[0m, in \u001b[0;36mBatchedCalls.__call__\u001b[1;34m(self)\u001b[0m\n\u001b[0;32m    259\u001b[0m \u001b[39mdef\u001b[39;00m \u001b[39m__call__\u001b[39m(\u001b[39mself\u001b[39m):\n\u001b[0;32m    260\u001b[0m     \u001b[39m# Set the default nested backend to self._backend but do not set the\u001b[39;00m\n\u001b[0;32m    261\u001b[0m     \u001b[39m# change the default number of processes to -1\u001b[39;00m\n\u001b[0;32m    262\u001b[0m     \u001b[39mwith\u001b[39;00m parallel_backend(\u001b[39mself\u001b[39m\u001b[39m.\u001b[39m_backend, n_jobs\u001b[39m=\u001b[39m\u001b[39mself\u001b[39m\u001b[39m.\u001b[39m_n_jobs):\n\u001b[1;32m--> 263\u001b[0m         \u001b[39mreturn\u001b[39;00m [func(\u001b[39m*\u001b[39margs, \u001b[39m*\u001b[39m\u001b[39m*\u001b[39mkwargs)\n\u001b[0;32m    264\u001b[0m                 \u001b[39mfor\u001b[39;00m func, args, kwargs \u001b[39min\u001b[39;00m \u001b[39mself\u001b[39m\u001b[39m.\u001b[39mitems]\n",
            "File \u001b[1;32mc:\\Users\\fbien.DESKTOP-6FMEAR7\\.conda\\envs\\deepl\\lib\\site-packages\\joblib\\parallel.py:263\u001b[0m, in \u001b[0;36m<listcomp>\u001b[1;34m(.0)\u001b[0m\n\u001b[0;32m    259\u001b[0m \u001b[39mdef\u001b[39;00m \u001b[39m__call__\u001b[39m(\u001b[39mself\u001b[39m):\n\u001b[0;32m    260\u001b[0m     \u001b[39m# Set the default nested backend to self._backend but do not set the\u001b[39;00m\n\u001b[0;32m    261\u001b[0m     \u001b[39m# change the default number of processes to -1\u001b[39;00m\n\u001b[0;32m    262\u001b[0m     \u001b[39mwith\u001b[39;00m parallel_backend(\u001b[39mself\u001b[39m\u001b[39m.\u001b[39m_backend, n_jobs\u001b[39m=\u001b[39m\u001b[39mself\u001b[39m\u001b[39m.\u001b[39m_n_jobs):\n\u001b[1;32m--> 263\u001b[0m         \u001b[39mreturn\u001b[39;00m [func(\u001b[39m*\u001b[39margs, \u001b[39m*\u001b[39m\u001b[39m*\u001b[39mkwargs)\n\u001b[0;32m    264\u001b[0m                 \u001b[39mfor\u001b[39;00m func, args, kwargs \u001b[39min\u001b[39;00m \u001b[39mself\u001b[39m\u001b[39m.\u001b[39mitems]\n",
            "File \u001b[1;32mc:\\Users\\fbien.DESKTOP-6FMEAR7\\.conda\\envs\\deepl\\lib\\site-packages\\sklearn\\utils\\fixes.py:117\u001b[0m, in \u001b[0;36m_FuncWrapper.__call__\u001b[1;34m(self, *args, **kwargs)\u001b[0m\n\u001b[0;32m    115\u001b[0m \u001b[39mdef\u001b[39;00m \u001b[39m__call__\u001b[39m(\u001b[39mself\u001b[39m, \u001b[39m*\u001b[39margs, \u001b[39m*\u001b[39m\u001b[39m*\u001b[39mkwargs):\n\u001b[0;32m    116\u001b[0m     \u001b[39mwith\u001b[39;00m config_context(\u001b[39m*\u001b[39m\u001b[39m*\u001b[39m\u001b[39mself\u001b[39m\u001b[39m.\u001b[39mconfig):\n\u001b[1;32m--> 117\u001b[0m         \u001b[39mreturn\u001b[39;00m \u001b[39mself\u001b[39m\u001b[39m.\u001b[39mfunction(\u001b[39m*\u001b[39margs, \u001b[39m*\u001b[39m\u001b[39m*\u001b[39mkwargs)\n",
            "File \u001b[1;32mc:\\Users\\fbien.DESKTOP-6FMEAR7\\.conda\\envs\\deepl\\lib\\site-packages\\sklearn\\model_selection\\_validation.py:686\u001b[0m, in \u001b[0;36m_fit_and_score\u001b[1;34m(estimator, X, y, scorer, train, test, verbose, parameters, fit_params, return_train_score, return_parameters, return_n_test_samples, return_times, return_estimator, split_progress, candidate_progress, error_score)\u001b[0m\n\u001b[0;32m    684\u001b[0m         estimator\u001b[39m.\u001b[39mfit(X_train, \u001b[39m*\u001b[39m\u001b[39m*\u001b[39mfit_params)\n\u001b[0;32m    685\u001b[0m     \u001b[39melse\u001b[39;00m:\n\u001b[1;32m--> 686\u001b[0m         estimator\u001b[39m.\u001b[39mfit(X_train, y_train, \u001b[39m*\u001b[39m\u001b[39m*\u001b[39mfit_params)\n\u001b[0;32m    688\u001b[0m \u001b[39mexcept\u001b[39;00m \u001b[39mException\u001b[39;00m:\n\u001b[0;32m    689\u001b[0m     \u001b[39m# Note fit time as time until error\u001b[39;00m\n\u001b[0;32m    690\u001b[0m     fit_time \u001b[39m=\u001b[39m time\u001b[39m.\u001b[39mtime() \u001b[39m-\u001b[39m start_time\n",
            "File \u001b[1;32mc:\\Users\\fbien.DESKTOP-6FMEAR7\\.conda\\envs\\deepl\\lib\\site-packages\\sklearn\\ensemble\\_forest.py:474\u001b[0m, in \u001b[0;36mBaseForest.fit\u001b[1;34m(self, X, y, sample_weight)\u001b[0m\n\u001b[0;32m    463\u001b[0m trees \u001b[39m=\u001b[39m [\n\u001b[0;32m    464\u001b[0m     \u001b[39mself\u001b[39m\u001b[39m.\u001b[39m_make_estimator(append\u001b[39m=\u001b[39m\u001b[39mFalse\u001b[39;00m, random_state\u001b[39m=\u001b[39mrandom_state)\n\u001b[0;32m    465\u001b[0m     \u001b[39mfor\u001b[39;00m i \u001b[39min\u001b[39;00m \u001b[39mrange\u001b[39m(n_more_estimators)\n\u001b[0;32m    466\u001b[0m ]\n\u001b[0;32m    468\u001b[0m \u001b[39m# Parallel loop: we prefer the threading backend as the Cython code\u001b[39;00m\n\u001b[0;32m    469\u001b[0m \u001b[39m# for fitting the trees is internally releasing the Python GIL\u001b[39;00m\n\u001b[0;32m    470\u001b[0m \u001b[39m# making threading more efficient than multiprocessing in\u001b[39;00m\n\u001b[0;32m    471\u001b[0m \u001b[39m# that case. However, for joblib 0.12+ we respect any\u001b[39;00m\n\u001b[0;32m    472\u001b[0m \u001b[39m# parallel_backend contexts set at a higher level,\u001b[39;00m\n\u001b[0;32m    473\u001b[0m \u001b[39m# since correctness does not rely on using threads.\u001b[39;00m\n\u001b[1;32m--> 474\u001b[0m trees \u001b[39m=\u001b[39m Parallel(\n\u001b[0;32m    475\u001b[0m     n_jobs\u001b[39m=\u001b[39;49m\u001b[39mself\u001b[39;49m\u001b[39m.\u001b[39;49mn_jobs,\n\u001b[0;32m    476\u001b[0m     verbose\u001b[39m=\u001b[39;49m\u001b[39mself\u001b[39;49m\u001b[39m.\u001b[39;49mverbose,\n\u001b[0;32m    477\u001b[0m     prefer\u001b[39m=\u001b[39;49m\u001b[39m\"\u001b[39;49m\u001b[39mthreads\u001b[39;49m\u001b[39m\"\u001b[39;49m,\n\u001b[0;32m    478\u001b[0m )(\n\u001b[0;32m    479\u001b[0m     delayed(_parallel_build_trees)(\n\u001b[0;32m    480\u001b[0m         t,\n\u001b[0;32m    481\u001b[0m         \u001b[39mself\u001b[39;49m\u001b[39m.\u001b[39;49mbootstrap,\n\u001b[0;32m    482\u001b[0m         X,\n\u001b[0;32m    483\u001b[0m         y,\n\u001b[0;32m    484\u001b[0m         sample_weight,\n\u001b[0;32m    485\u001b[0m         i,\n\u001b[0;32m    486\u001b[0m         \u001b[39mlen\u001b[39;49m(trees),\n\u001b[0;32m    487\u001b[0m         verbose\u001b[39m=\u001b[39;49m\u001b[39mself\u001b[39;49m\u001b[39m.\u001b[39;49mverbose,\n\u001b[0;32m    488\u001b[0m         class_weight\u001b[39m=\u001b[39;49m\u001b[39mself\u001b[39;49m\u001b[39m.\u001b[39;49mclass_weight,\n\u001b[0;32m    489\u001b[0m         n_samples_bootstrap\u001b[39m=\u001b[39;49mn_samples_bootstrap,\n\u001b[0;32m    490\u001b[0m     )\n\u001b[0;32m    491\u001b[0m     \u001b[39mfor\u001b[39;49;00m i, t \u001b[39min\u001b[39;49;00m \u001b[39menumerate\u001b[39;49m(trees)\n\u001b[0;32m    492\u001b[0m )\n\u001b[0;32m    494\u001b[0m \u001b[39m# Collect newly grown trees\u001b[39;00m\n\u001b[0;32m    495\u001b[0m \u001b[39mself\u001b[39m\u001b[39m.\u001b[39mestimators_\u001b[39m.\u001b[39mextend(trees)\n",
            "File \u001b[1;32mc:\\Users\\fbien.DESKTOP-6FMEAR7\\.conda\\envs\\deepl\\lib\\site-packages\\joblib\\parallel.py:1051\u001b[0m, in \u001b[0;36mParallel.__call__\u001b[1;34m(self, iterable)\u001b[0m\n\u001b[0;32m   1048\u001b[0m \u001b[39mif\u001b[39;00m \u001b[39mself\u001b[39m\u001b[39m.\u001b[39mdispatch_one_batch(iterator):\n\u001b[0;32m   1049\u001b[0m     \u001b[39mself\u001b[39m\u001b[39m.\u001b[39m_iterating \u001b[39m=\u001b[39m \u001b[39mself\u001b[39m\u001b[39m.\u001b[39m_original_iterator \u001b[39mis\u001b[39;00m \u001b[39mnot\u001b[39;00m \u001b[39mNone\u001b[39;00m\n\u001b[1;32m-> 1051\u001b[0m \u001b[39mwhile\u001b[39;00m \u001b[39mself\u001b[39;49m\u001b[39m.\u001b[39;49mdispatch_one_batch(iterator):\n\u001b[0;32m   1052\u001b[0m     \u001b[39mpass\u001b[39;00m\n\u001b[0;32m   1054\u001b[0m \u001b[39mif\u001b[39;00m pre_dispatch \u001b[39m==\u001b[39m \u001b[39m\"\u001b[39m\u001b[39mall\u001b[39m\u001b[39m\"\u001b[39m \u001b[39mor\u001b[39;00m n_jobs \u001b[39m==\u001b[39m \u001b[39m1\u001b[39m:\n\u001b[0;32m   1055\u001b[0m     \u001b[39m# The iterable was consumed all at once by the above for loop.\u001b[39;00m\n\u001b[0;32m   1056\u001b[0m     \u001b[39m# No need to wait for async callbacks to trigger to\u001b[39;00m\n\u001b[0;32m   1057\u001b[0m     \u001b[39m# consumption.\u001b[39;00m\n",
            "File \u001b[1;32mc:\\Users\\fbien.DESKTOP-6FMEAR7\\.conda\\envs\\deepl\\lib\\site-packages\\joblib\\parallel.py:864\u001b[0m, in \u001b[0;36mParallel.dispatch_one_batch\u001b[1;34m(self, iterator)\u001b[0m\n\u001b[0;32m    862\u001b[0m     \u001b[39mreturn\u001b[39;00m \u001b[39mFalse\u001b[39;00m\n\u001b[0;32m    863\u001b[0m \u001b[39melse\u001b[39;00m:\n\u001b[1;32m--> 864\u001b[0m     \u001b[39mself\u001b[39;49m\u001b[39m.\u001b[39;49m_dispatch(tasks)\n\u001b[0;32m    865\u001b[0m     \u001b[39mreturn\u001b[39;00m \u001b[39mTrue\u001b[39;00m\n",
            "File \u001b[1;32mc:\\Users\\fbien.DESKTOP-6FMEAR7\\.conda\\envs\\deepl\\lib\\site-packages\\joblib\\parallel.py:782\u001b[0m, in \u001b[0;36mParallel._dispatch\u001b[1;34m(self, batch)\u001b[0m\n\u001b[0;32m    780\u001b[0m \u001b[39mwith\u001b[39;00m \u001b[39mself\u001b[39m\u001b[39m.\u001b[39m_lock:\n\u001b[0;32m    781\u001b[0m     job_idx \u001b[39m=\u001b[39m \u001b[39mlen\u001b[39m(\u001b[39mself\u001b[39m\u001b[39m.\u001b[39m_jobs)\n\u001b[1;32m--> 782\u001b[0m     job \u001b[39m=\u001b[39m \u001b[39mself\u001b[39;49m\u001b[39m.\u001b[39;49m_backend\u001b[39m.\u001b[39;49mapply_async(batch, callback\u001b[39m=\u001b[39;49mcb)\n\u001b[0;32m    783\u001b[0m     \u001b[39m# A job can complete so quickly than its callback is\u001b[39;00m\n\u001b[0;32m    784\u001b[0m     \u001b[39m# called before we get here, causing self._jobs to\u001b[39;00m\n\u001b[0;32m    785\u001b[0m     \u001b[39m# grow. To ensure correct results ordering, .insert is\u001b[39;00m\n\u001b[0;32m    786\u001b[0m     \u001b[39m# used (rather than .append) in the following line\u001b[39;00m\n\u001b[0;32m    787\u001b[0m     \u001b[39mself\u001b[39m\u001b[39m.\u001b[39m_jobs\u001b[39m.\u001b[39minsert(job_idx, job)\n",
            "File \u001b[1;32mc:\\Users\\fbien.DESKTOP-6FMEAR7\\.conda\\envs\\deepl\\lib\\site-packages\\joblib\\_parallel_backends.py:208\u001b[0m, in \u001b[0;36mSequentialBackend.apply_async\u001b[1;34m(self, func, callback)\u001b[0m\n\u001b[0;32m    206\u001b[0m \u001b[39mdef\u001b[39;00m \u001b[39mapply_async\u001b[39m(\u001b[39mself\u001b[39m, func, callback\u001b[39m=\u001b[39m\u001b[39mNone\u001b[39;00m):\n\u001b[0;32m    207\u001b[0m     \u001b[39m\"\"\"Schedule a func to be run\"\"\"\u001b[39;00m\n\u001b[1;32m--> 208\u001b[0m     result \u001b[39m=\u001b[39m ImmediateResult(func)\n\u001b[0;32m    209\u001b[0m     \u001b[39mif\u001b[39;00m callback:\n\u001b[0;32m    210\u001b[0m         callback(result)\n",
            "File \u001b[1;32mc:\\Users\\fbien.DESKTOP-6FMEAR7\\.conda\\envs\\deepl\\lib\\site-packages\\joblib\\_parallel_backends.py:572\u001b[0m, in \u001b[0;36mImmediateResult.__init__\u001b[1;34m(self, batch)\u001b[0m\n\u001b[0;32m    569\u001b[0m \u001b[39mdef\u001b[39;00m \u001b[39m__init__\u001b[39m(\u001b[39mself\u001b[39m, batch):\n\u001b[0;32m    570\u001b[0m     \u001b[39m# Don't delay the application, to avoid keeping the input\u001b[39;00m\n\u001b[0;32m    571\u001b[0m     \u001b[39m# arguments in memory\u001b[39;00m\n\u001b[1;32m--> 572\u001b[0m     \u001b[39mself\u001b[39m\u001b[39m.\u001b[39mresults \u001b[39m=\u001b[39m batch()\n",
            "File \u001b[1;32mc:\\Users\\fbien.DESKTOP-6FMEAR7\\.conda\\envs\\deepl\\lib\\site-packages\\joblib\\parallel.py:263\u001b[0m, in \u001b[0;36mBatchedCalls.__call__\u001b[1;34m(self)\u001b[0m\n\u001b[0;32m    259\u001b[0m \u001b[39mdef\u001b[39;00m \u001b[39m__call__\u001b[39m(\u001b[39mself\u001b[39m):\n\u001b[0;32m    260\u001b[0m     \u001b[39m# Set the default nested backend to self._backend but do not set the\u001b[39;00m\n\u001b[0;32m    261\u001b[0m     \u001b[39m# change the default number of processes to -1\u001b[39;00m\n\u001b[0;32m    262\u001b[0m     \u001b[39mwith\u001b[39;00m parallel_backend(\u001b[39mself\u001b[39m\u001b[39m.\u001b[39m_backend, n_jobs\u001b[39m=\u001b[39m\u001b[39mself\u001b[39m\u001b[39m.\u001b[39m_n_jobs):\n\u001b[1;32m--> 263\u001b[0m         \u001b[39mreturn\u001b[39;00m [func(\u001b[39m*\u001b[39margs, \u001b[39m*\u001b[39m\u001b[39m*\u001b[39mkwargs)\n\u001b[0;32m    264\u001b[0m                 \u001b[39mfor\u001b[39;00m func, args, kwargs \u001b[39min\u001b[39;00m \u001b[39mself\u001b[39m\u001b[39m.\u001b[39mitems]\n",
            "File \u001b[1;32mc:\\Users\\fbien.DESKTOP-6FMEAR7\\.conda\\envs\\deepl\\lib\\site-packages\\joblib\\parallel.py:263\u001b[0m, in \u001b[0;36m<listcomp>\u001b[1;34m(.0)\u001b[0m\n\u001b[0;32m    259\u001b[0m \u001b[39mdef\u001b[39;00m \u001b[39m__call__\u001b[39m(\u001b[39mself\u001b[39m):\n\u001b[0;32m    260\u001b[0m     \u001b[39m# Set the default nested backend to self._backend but do not set the\u001b[39;00m\n\u001b[0;32m    261\u001b[0m     \u001b[39m# change the default number of processes to -1\u001b[39;00m\n\u001b[0;32m    262\u001b[0m     \u001b[39mwith\u001b[39;00m parallel_backend(\u001b[39mself\u001b[39m\u001b[39m.\u001b[39m_backend, n_jobs\u001b[39m=\u001b[39m\u001b[39mself\u001b[39m\u001b[39m.\u001b[39m_n_jobs):\n\u001b[1;32m--> 263\u001b[0m         \u001b[39mreturn\u001b[39;00m [func(\u001b[39m*\u001b[39margs, \u001b[39m*\u001b[39m\u001b[39m*\u001b[39mkwargs)\n\u001b[0;32m    264\u001b[0m                 \u001b[39mfor\u001b[39;00m func, args, kwargs \u001b[39min\u001b[39;00m \u001b[39mself\u001b[39m\u001b[39m.\u001b[39mitems]\n",
            "File \u001b[1;32mc:\\Users\\fbien.DESKTOP-6FMEAR7\\.conda\\envs\\deepl\\lib\\site-packages\\sklearn\\utils\\fixes.py:117\u001b[0m, in \u001b[0;36m_FuncWrapper.__call__\u001b[1;34m(self, *args, **kwargs)\u001b[0m\n\u001b[0;32m    115\u001b[0m \u001b[39mdef\u001b[39;00m \u001b[39m__call__\u001b[39m(\u001b[39mself\u001b[39m, \u001b[39m*\u001b[39margs, \u001b[39m*\u001b[39m\u001b[39m*\u001b[39mkwargs):\n\u001b[0;32m    116\u001b[0m     \u001b[39mwith\u001b[39;00m config_context(\u001b[39m*\u001b[39m\u001b[39m*\u001b[39m\u001b[39mself\u001b[39m\u001b[39m.\u001b[39mconfig):\n\u001b[1;32m--> 117\u001b[0m         \u001b[39mreturn\u001b[39;00m \u001b[39mself\u001b[39m\u001b[39m.\u001b[39mfunction(\u001b[39m*\u001b[39margs, \u001b[39m*\u001b[39m\u001b[39m*\u001b[39mkwargs)\n",
            "File \u001b[1;32mc:\\Users\\fbien.DESKTOP-6FMEAR7\\.conda\\envs\\deepl\\lib\\site-packages\\sklearn\\ensemble\\_forest.py:185\u001b[0m, in \u001b[0;36m_parallel_build_trees\u001b[1;34m(tree, bootstrap, X, y, sample_weight, tree_idx, n_trees, verbose, class_weight, n_samples_bootstrap)\u001b[0m\n\u001b[0;32m    182\u001b[0m     \u001b[39melif\u001b[39;00m class_weight \u001b[39m==\u001b[39m \u001b[39m\"\u001b[39m\u001b[39mbalanced_subsample\u001b[39m\u001b[39m\"\u001b[39m:\n\u001b[0;32m    183\u001b[0m         curr_sample_weight \u001b[39m*\u001b[39m\u001b[39m=\u001b[39m compute_sample_weight(\u001b[39m\"\u001b[39m\u001b[39mbalanced\u001b[39m\u001b[39m\"\u001b[39m, y, indices\u001b[39m=\u001b[39mindices)\n\u001b[1;32m--> 185\u001b[0m     tree\u001b[39m.\u001b[39;49mfit(X, y, sample_weight\u001b[39m=\u001b[39;49mcurr_sample_weight, check_input\u001b[39m=\u001b[39;49m\u001b[39mFalse\u001b[39;49;00m)\n\u001b[0;32m    186\u001b[0m \u001b[39melse\u001b[39;00m:\n\u001b[0;32m    187\u001b[0m     tree\u001b[39m.\u001b[39mfit(X, y, sample_weight\u001b[39m=\u001b[39msample_weight, check_input\u001b[39m=\u001b[39m\u001b[39mFalse\u001b[39;00m)\n",
            "File \u001b[1;32mc:\\Users\\fbien.DESKTOP-6FMEAR7\\.conda\\envs\\deepl\\lib\\site-packages\\sklearn\\tree\\_classes.py:1247\u001b[0m, in \u001b[0;36mDecisionTreeRegressor.fit\u001b[1;34m(self, X, y, sample_weight, check_input)\u001b[0m\n\u001b[0;32m   1218\u001b[0m \u001b[39mdef\u001b[39;00m \u001b[39mfit\u001b[39m(\u001b[39mself\u001b[39m, X, y, sample_weight\u001b[39m=\u001b[39m\u001b[39mNone\u001b[39;00m, check_input\u001b[39m=\u001b[39m\u001b[39mTrue\u001b[39;00m):\n\u001b[0;32m   1219\u001b[0m     \u001b[39m\"\"\"Build a decision tree regressor from the training set (X, y).\u001b[39;00m\n\u001b[0;32m   1220\u001b[0m \n\u001b[0;32m   1221\u001b[0m \u001b[39m    Parameters\u001b[39;00m\n\u001b[1;32m   (...)\u001b[0m\n\u001b[0;32m   1244\u001b[0m \u001b[39m        Fitted estimator.\u001b[39;00m\n\u001b[0;32m   1245\u001b[0m \u001b[39m    \"\"\"\u001b[39;00m\n\u001b[1;32m-> 1247\u001b[0m     \u001b[39msuper\u001b[39;49m()\u001b[39m.\u001b[39;49mfit(\n\u001b[0;32m   1248\u001b[0m         X,\n\u001b[0;32m   1249\u001b[0m         y,\n\u001b[0;32m   1250\u001b[0m         sample_weight\u001b[39m=\u001b[39;49msample_weight,\n\u001b[0;32m   1251\u001b[0m         check_input\u001b[39m=\u001b[39;49mcheck_input,\n\u001b[0;32m   1252\u001b[0m     )\n\u001b[0;32m   1253\u001b[0m     \u001b[39mreturn\u001b[39;00m \u001b[39mself\u001b[39m\n",
            "File \u001b[1;32mc:\\Users\\fbien.DESKTOP-6FMEAR7\\.conda\\envs\\deepl\\lib\\site-packages\\sklearn\\tree\\_classes.py:379\u001b[0m, in \u001b[0;36mBaseDecisionTree.fit\u001b[1;34m(self, X, y, sample_weight, check_input)\u001b[0m\n\u001b[0;32m    368\u001b[0m \u001b[39melse\u001b[39;00m:\n\u001b[0;32m    369\u001b[0m     builder \u001b[39m=\u001b[39m BestFirstTreeBuilder(\n\u001b[0;32m    370\u001b[0m         splitter,\n\u001b[0;32m    371\u001b[0m         min_samples_split,\n\u001b[1;32m   (...)\u001b[0m\n\u001b[0;32m    376\u001b[0m         \u001b[39mself\u001b[39m\u001b[39m.\u001b[39mmin_impurity_decrease,\n\u001b[0;32m    377\u001b[0m     )\n\u001b[1;32m--> 379\u001b[0m builder\u001b[39m.\u001b[39;49mbuild(\u001b[39mself\u001b[39;49m\u001b[39m.\u001b[39;49mtree_, X, y, sample_weight)\n\u001b[0;32m    381\u001b[0m \u001b[39mif\u001b[39;00m \u001b[39mself\u001b[39m\u001b[39m.\u001b[39mn_outputs_ \u001b[39m==\u001b[39m \u001b[39m1\u001b[39m \u001b[39mand\u001b[39;00m is_classifier(\u001b[39mself\u001b[39m):\n\u001b[0;32m    382\u001b[0m     \u001b[39mself\u001b[39m\u001b[39m.\u001b[39mn_classes_ \u001b[39m=\u001b[39m \u001b[39mself\u001b[39m\u001b[39m.\u001b[39mn_classes_[\u001b[39m0\u001b[39m]\n",
            "\u001b[1;31mKeyboardInterrupt\u001b[0m: "
          ]
        }
      ],
      "source": [
        "print(\"Parametros Primer Caudal\")\n",
        "param_grid = {'n_estimators': [125], 'max_depth': [5, 10], 'min_samples_split': [10, 15], 'min_samples_leaf': [5, 10], 'max_features': ['auto','sqrt','log2']}\n",
        "\n",
        "grid_search = GridSearchCV(estimator=model, param_grid=param_grid, cv=5 ,scoring='r2')\n",
        "\n",
        "\n",
        "grid_search.fit(X1_train, y1_train)\n",
        "#Se utiliza fit para ajustar y evaluar múltiples modelos de de regresión de Random Forest con diferentes combinaciones de hiperparámetros utilizando validación cruzada.\n",
        "\n",
        "#Se obtienen los mejores hiperparámetros y el mejor modelo\n",
        "best_params = grid_search.best_params_ #se utiliza best_params_ para obtener los mejores valores hiperparámetros obtenidos de grid_search\n",
        "best_model = grid_search.best_estimator_ #Se utiliza best_estimator_ para obtener el mejor modelo que se ajuste a los datos utilizando los mejores hiperparámetros.\n",
        "\n",
        "print('Mejores hiperparámetros:', best_params)\n",
        "\n",
        "#Se utiliza la función predict() para generar predicciones utilizando el mejor modelo obtenido sobre los conjuntos de validación, testeo y entrenamiento\n",
        "predictions_val = best_model.predict(X1_val)\n",
        "predictions_test = best_model.predict(X1_test)\n",
        "predictions_train = best_model.predict(X1_train)\n",
        "\n",
        "#Se calculan diferentes métricas de evaluación para las predicciones realizadas por el modelo en el conjunto de validación.\n",
        "mae_val = mean_absolute_error(y1_val, predictions_val) #se utiliza la función mean_absolute_error para calcula el error absoluto medio entre los valores reales (y_val) y las predicciones (predictions_val)\n",
        "mse_val = mean_squared_error(y1_val, predictions_val) #se utiliza la función mean_squared_error para calcula el error cuadrático medio entre los valores reales (y_val) y las predicciones (predictions_val)\n",
        "r2_val = r2_score(y1_val, predictions_val) #se utiliza la función r2_score para calcula el coeficiente de determinación (R²) entre los valores reales (y_val) y las predicciones (predictions_val)\n",
        "\n",
        "#Se calculan diferentes métricas de evaluación para las predicciones realizadas por el modelo en el conjunto de testeo.\n",
        "mae_test = mean_absolute_error(y1_test, predictions_test)\n",
        "mse_test = mean_squared_error(y1_test, predictions_test)\n",
        "r2_test = r2_score(y1_test, predictions_test)\n",
        "\n",
        "#Se calculan diferentes métricas de evaluación para las predicciones realizadas por el modelo en el conjunto de entrenamiento.\n",
        "mae_train = mean_absolute_error(y1_train, predictions_train)\n",
        "mse_train = mean_squared_error(y1_train, predictions_train)\n",
        "r2_train = r2_score(y1_train, predictions_train)\n",
        "\n",
        "print(\"Conjunto de validación\")\n",
        "print('Error Absoluto Medio (MAE):', round(mae_val, 3))\n",
        "print('Error Cuadrático Medio (MSE):', round(mse_val, 3))\n",
        "print('Coeficiente de determinación (R²):', round(r2_val, 3))\n",
        "print(\"\\n\")\n",
        "print(\"Conjunto de testeo\")\n",
        "print('Error Absoluto Medio (MAE):', round(mae_test, 3))\n",
        "print('Error Cuadrático Medio (MSE):', round(mse_test, 3))\n",
        "print('Coeficiente de determinación (R²):', round(r2_test, 3))\n",
        "print(\"\\n\")\n",
        "print(\"Conjunto de entrenamiento\")\n",
        "print('Error Absoluto Medio (MAE):', round(mae_train, 3))\n",
        "print('Error Cuadrático Medio (MSE):', round(mse_train, 3))\n",
        "print('Coeficiente de determinación (R²):', round(r2_train, 3))\n"
      ]
    },
    {
      "cell_type": "code",
      "execution_count": null,
      "metadata": {
        "id": "_9QA92TCpB_O"
      },
      "outputs": [],
      "source": []
    },
    {
      "cell_type": "code",
      "execution_count": null,
      "metadata": {
        "id": "Kiy7P_eupCC3"
      },
      "outputs": [],
      "source": []
    },
    {
      "cell_type": "code",
      "execution_count": null,
      "metadata": {
        "id": "c-weU_RfpCFd"
      },
      "outputs": [],
      "source": []
    },
    {
      "cell_type": "code",
      "execution_count": null,
      "metadata": {
        "id": "WuG1yxQ2pCIE"
      },
      "outputs": [],
      "source": []
    },
    {
      "cell_type": "code",
      "execution_count": null,
      "metadata": {
        "id": "XaylV7c3pCMV"
      },
      "outputs": [],
      "source": [
        "Mejores hiperparámetros: {'max_depth': None, 'max_features': 'auto', 'min_samples_leaf': 1, 'min_samples_split': 2, 'n_estimators': 100}\n",
        "\n",
        "Conjunto de validación\n",
        "Error Absoluto Medio (MAE): 0.015\n",
        "Error Cuadrático Medio (MSE): 0.001\n",
        "Coeficiente de determinación (R²): 0.829\n",
        "\n",
        "\n",
        "Conjunto de testeo\n",
        "Error Absoluto Medio (MAE): 0.015\n",
        "Error Cuadrático Medio (MSE): 0.001\n",
        "Coeficiente de determinación (R²): 0.842\n",
        "\n",
        "\n",
        "Conjunto de entrenamiento\n",
        "Error Absoluto Medio (MAE): 0.007\n",
        "Error Cuadrático Medio (MSE): 0.0\n",
        "Coeficiente de determinación (R²): 0.972\n"
      ]
    },
    {
      "cell_type": "code",
      "execution_count": null,
      "metadata": {
        "id": "mkeJoL0tpCJ9"
      },
      "outputs": [],
      "source": [
        "Mejores hiperparámetros: {'max_depth': 20, 'max_features': 'auto', 'min_samples_leaf': 5, 'min_samples_split': 10, 'n_estimators': 100}\n",
        "\n",
        "Conjunto de validación\n",
        "Error Absoluto Medio (MAE): 0.015\n",
        "Error Cuadrático Medio (MSE): 0.001\n",
        "Coeficiente de determinación (R²): 0.829\n",
        "\n",
        "\n",
        "Conjunto de testeo\n",
        "Error Absoluto Medio (MAE): 0.016\n",
        "Error Cuadrático Medio (MSE): 0.001\n",
        "Coeficiente de determinación (R²): 0.843\n",
        "\n",
        "\n",
        "Conjunto de entrenamiento\n",
        "Error Absoluto Medio (MAE): 0.01\n",
        "Error Cuadrático Medio (MSE): 0.001\n",
        "Coeficiente de determinación (R²): 0.933"
      ]
    },
    {
      "cell_type": "code",
      "execution_count": null,
      "metadata": {
        "id": "C78DItzklNNM"
      },
      "outputs": [],
      "source": [
        "Mejores hiperparámetros: {'max_depth': 10, 'max_features': 'auto', 'min_samples_leaf': 5, 'min_samples_split': 10, 'n_estimators': 125}\n",
        "\n",
        "Conjunto de validación\n",
        "Error Absoluto Medio (MAE): 0.016\n",
        "Error Cuadrático Medio (MSE): 0.001\n",
        "Coeficiente de determinación (R²): 0.827\n",
        "\n",
        "\n",
        "Conjunto de testeo\n",
        "Error Absoluto Medio (MAE): 0.016\n",
        "Error Cuadrático Medio (MSE): 0.001\n",
        "Coeficiente de determinación (R²): 0.84\n",
        "\n",
        "\n",
        "Conjunto de entrenamiento\n",
        "Error Absoluto Medio (MAE): 0.011\n",
        "Error Cuadrático Medio (MSE): 0.001\n",
        "Coeficiente de determinación (R²): 0.93"
      ]
    }
  ],
  "metadata": {
    "colab": {
      "provenance": []
    },
    "kernelspec": {
      "display_name": "Python 3",
      "name": "python3"
    },
    "language_info": {
      "codemirror_mode": {
        "name": "ipython",
        "version": 3
      },
      "file_extension": ".py",
      "mimetype": "text/x-python",
      "name": "python",
      "nbconvert_exporter": "python",
      "pygments_lexer": "ipython3",
      "version": "3.10.9"
    }
  },
  "nbformat": 4,
  "nbformat_minor": 0
}
