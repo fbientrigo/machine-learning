{
  "nbformat": 4,
  "nbformat_minor": 0,
  "metadata": {
    "colab": {
      "provenance": []
    },
    "kernelspec": {
      "name": "python3",
      "display_name": "Python 3"
    },
    "language_info": {
      "name": "python"
    }
  },
  "cells": [
    {
      "cell_type": "markdown",
      "source": [
        "##Trabajo de programación Nº 2\n",
        "##LFIS419 - Inteligencia Artificial\n",
        "Entrega Miércoles 26 de abril a través del Aula Virtual"
      ],
      "metadata": {
        "id": "zuiRONb38dk5"
      }
    },
    {
      "cell_type": "markdown",
      "source": [
        "##Instrucciones Generales:\n",
        "\n",
        "*   Siga las instrucciones del notebook\n",
        "*   Cambie el Nombre del Archivo, indicando el Nº del trabajo y el número del grupo (para trabajos grupales) o su nombre (para trabajos individuales)\n",
        "*   Use las celdas de texto, para explicar los objetivos del código y comentar los resultados obtenidos.\n",
        "*   Use comentarios dentro del código para explicar cómo funciona, por qué usa tal o cual comando, que contienen las variables, etc.\n",
        "*   Edite la celda siguiente, para completar el nombre, rut y correo del (de los) integrante(s).\n",
        "\n",
        "\n",
        "\n",
        "\n",
        "\n",
        "\n"
      ],
      "metadata": {
        "id": "Du9SYuAj9BKt"
      }
    },
    {
      "cell_type": "markdown",
      "source": [
        "## Identificación del (de los) Estudiante(s):\n",
        "<table>\n",
        "<tr>\n",
        "<th> Nombre </th>\n",
        "<th> RUT </th>\n",
        "<th> email </th>\n",
        "</tr>\n",
        "<tr>\n",
        "<td> nombre </td>\n",
        "<td> rut </td>\n",
        "<td> email </td>\n",
        "</tr>\n",
        "</table>"
      ],
      "metadata": {
        "id": "jBJr0khH-4Mo"
      }
    },
    {
      "cell_type": "markdown",
      "source": [
        "## Instrucciones específicas\n",
        "En este trabajo exploraremos un dataset usado previamente con técnicas de machine learning y obtenido desde https://www.kaggle.com/datasets/uciml/iris?resource=download (visitado el 19 de abril de 2023). Revisar la descripción de estos datos en la página original.\n",
        "\n",
        "En el aula virtual está disponible el archivo Iris.csv, el que deben subir a Google Colab y completar las actividades descritas.\n",
        "\n",
        "El objetivo es usar Random Forest y SVM para clasificar la especie de flore en dependencia de algunas de sus características."
      ],
      "metadata": {
        "id": "RIkMEC_XPKTj"
      }
    },
    {
      "cell_type": "markdown",
      "source": [
        "##Actividad 1: Análisis previo y pre-proceso\n",
        "\n",
        "Analice las variables de entrada al modelo, identificado cuales de ellas tienen una alta correlación (entre ellas y/o con la clase a la que corresponden).\n",
        "\n",
        "Prepare las variables para que puedan ser procesadas tanto por Random Forest como por Support Vector Machine.\n",
        "\n",
        "Divida el conjunto en 3 subconjuntos para entrenamiento, validación y testeo. Verifique si la distribución de los 3 conjuntos es similar.\n",
        "\n",
        "Justifique las decisiones tomadas."
      ],
      "metadata": {
        "id": "cHYuNDN__CYf"
      }
    },
    {
      "cell_type": "code",
      "source": [],
      "metadata": {
        "id": "ISPSTQki88dB"
      },
      "execution_count": null,
      "outputs": []
    },
    {
      "cell_type": "markdown",
      "source": [
        "##Actividad 2: Random Forest\n",
        "Desarrolle un modelo para clasificar la especie de flor en base a las características entregadas, utilizando random forest. Entrene usando el subconjunto de entrenamiento y evalúe su rendimiento sólo con el subconjunto de validación. \n",
        "Optimice los hiperparámetros para conseguir un \"buen modelo\"."
      ],
      "metadata": {
        "id": "vXRrwQ_M_xg9"
      }
    },
    {
      "cell_type": "code",
      "source": [],
      "metadata": {
        "id": "uau0qIWAAh_i"
      },
      "execution_count": null,
      "outputs": []
    },
    {
      "cell_type": "markdown",
      "source": [
        "## Actividad 3: Support Vector Machine\n",
        "Desarrolle un modelo para clasificar la especie de flor en base a las características entregadas, utilizando SVM. Entrene usando todos los datos excepto los del conjunto de testeo, pero utilizando una validación cruzada k-fold. \n",
        "Pruebe al menos 3 kernel diferentes y algunos de sus parámetros (mínimo 10 entrenamientos diferentes) y determine el mejor modelo (dentro de los que usted probó).\n",
        "Justifique las decisiones tomadas."
      ],
      "metadata": {
        "id": "FLLcKpOBAis7"
      }
    },
    {
      "cell_type": "code",
      "source": [],
      "metadata": {
        "id": "_k7UaB5sAxrt"
      },
      "execution_count": null,
      "outputs": []
    },
    {
      "cell_type": "markdown",
      "source": [
        "##Actividad 4:\n",
        "Compare el rendimiento de los modelos de Random Forest y Support Vector Machine. Discuta las posibles razones para las diferencias."
      ],
      "metadata": {
        "id": "TJnSSaB6AyRj"
      }
    },
    {
      "cell_type": "code",
      "source": [],
      "metadata": {
        "id": "inkVnx0vBI5P"
      },
      "execution_count": null,
      "outputs": []
    }
  ]
}