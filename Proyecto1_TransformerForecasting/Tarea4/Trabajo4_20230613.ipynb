{
  "nbformat": 4,
  "nbformat_minor": 0,
  "metadata": {
    "colab": {
      "provenance": []
    },
    "kernelspec": {
      "name": "python3",
      "display_name": "Python 3"
    },
    "language_info": {
      "name": "python"
    }
  },
  "cells": [
    {
      "cell_type": "markdown",
      "source": [
        "##Trabajo de programación Nº 4\n",
        "##LFIS419 - Inteligencia Artificial\n",
        "Entrega Jueves 29 de junio antes de la medianoche, a través del Aula Virtual"
      ],
      "metadata": {
        "id": "zuiRONb38dk5"
      }
    },
    {
      "cell_type": "markdown",
      "source": [
        "##Instrucciones Generales:\n",
        "\n",
        "*   Siga las instrucciones del notebook\n",
        "*   Cambie el Nombre del Archivo, indicando el Nº del trabajo y el número del grupo (para trabajos grupales) o su nombre (para trabajos individuales)\n",
        "*   Use las celdas de texto, para explicar los objetivos del código y comentar los resultados obtenidos.\n",
        "*   Use comentarios dentro del código para explicar cómo funciona, por qué usa tal o cual comando, que contienen las variables, etc.\n",
        "*   Edite la celda siguiente, para completar el nombre, rut y correo del (de los) integrante(s).\n",
        "\n",
        "\n",
        "\n",
        "\n",
        "\n",
        "\n"
      ],
      "metadata": {
        "id": "Du9SYuAj9BKt"
      }
    },
    {
      "cell_type": "markdown",
      "source": [
        "## Identificación del (de los) Estudiante(s):\n",
        "<table>\n",
        "<tr>\n",
        "<th> Nombre </th>\n",
        "<th> RUT </th>\n",
        "<th> email </th>\n",
        "</tr>\n",
        "<tr>\n",
        "<td> nombre </td>\n",
        "<td> rut </td>\n",
        "<td> email </td>\n",
        "</tr>\n",
        "</table>"
      ],
      "metadata": {
        "id": "jBJr0khH-4Mo"
      }
    },
    {
      "cell_type": "markdown",
      "source": [
        "## Instrucciones específicas\n",
        "En este trabajo intentaremos estimar el caudal de 3 ríos chilenos en puntos específicos. Los datos fueron tomados del proyecto FONDEF HidroCL y aún mantienen el carácter de reservados, por lo que se prohibe su publicación fuera del ámbito de este curso.\n",
        "\n",
        "Los datos se encuentran el archivo df_rf_HidroCL_3cuencas.csv, mientras que una descripción de las variables se encuentra en el archivo BaseDatos2023.csv. Las cuencas seleccionadas son:\n",
        "\n",
        "<table>\n",
        "<tr><th> gauge_id </th><th> Nombre </th></tr>\n",
        "<tr><td> 4703002 </td><td> Rio Choapa En Cuncumen </td></tr>\n",
        "<tr><td> 7330001 </td><td> Rio Perquilauquen En San Manuel </td></tr>\n",
        "<tr><td> 9127001 </td><td> Rio Muco En Puente Muco </td></tr>\n",
        "</table>"
      ],
      "metadata": {
        "id": "RIkMEC_XPKTj"
      }
    },
    {
      "cell_type": "markdown",
      "source": [
        "##Actividad 1: Análisis previo y pre-proceso\n",
        "\n",
        "Utilizaremos dos modelos estándar como benchmark (queremos generar modelos con un mejor rendimiento que ellos).\n",
        "\n",
        "El primero corresponde a la persistencia. Esto es, que el caudal actual corresponde al último valor de caudal observado.\n",
        "\n",
        "El segundo será la climatología, donde en cada día se pronosticará que el caudal corresponde al promedio histórico de caudal para ese día.\n",
        "\n",
        "Implemente ambos pronósticos y calcule 3 métricas diferentes para ellos.\n",
        "\n",
        "Analice las variables de entrada al modelo y prepárelas para alimentar los 2 modelos de regresión (machine learning) que utilizará más adelante."
      ],
      "metadata": {
        "id": "cHYuNDN__CYf"
      }
    },
    {
      "cell_type": "code",
      "source": [],
      "metadata": {
        "id": "ISPSTQki88dB"
      },
      "execution_count": null,
      "outputs": []
    },
    {
      "cell_type": "markdown",
      "source": [
        "##Actividad 2: Random Forest\n",
        "Construya un modelo de Random Forest para cada una de las cuencas incluidas en el dataset. Encuentre hiperparámetros y un conjunto de variables que permita superar el rendimiento de los modelos de benchmark. Si no logra un mejor modelo, discuta el porqué."
      ],
      "metadata": {
        "id": "nS3UKkMVF5BE"
      }
    },
    {
      "cell_type": "code",
      "source": [],
      "metadata": {
        "id": "c5vUSEdoGSxf"
      },
      "execution_count": null,
      "outputs": []
    },
    {
      "cell_type": "markdown",
      "source": [
        "##Actividad 3: Redes Neuronales\n",
        "Construya un modelo de redes neuronales para cada una de las cuencas del archivo de datos. Encuentre una estructura (justifíquela), conjunto de variables e hiperparámetros que superen los benchmarks. Si no consigue superarlos, discuta posibles razones."
      ],
      "metadata": {
        "id": "vXRrwQ_M_xg9"
      }
    },
    {
      "cell_type": "code",
      "source": [],
      "metadata": {
        "id": "y7k3qFhk9Lpg"
      },
      "execution_count": null,
      "outputs": []
    }
  ]
}