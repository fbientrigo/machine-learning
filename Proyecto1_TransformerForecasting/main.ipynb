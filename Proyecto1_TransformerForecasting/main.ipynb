{
 "cells": [
  {
   "attachments": {},
   "cell_type": "markdown",
   "metadata": {},
   "source": [
    "# Descripcion de los datos"
   ]
  },
  {
   "cell_type": "code",
   "execution_count": 25,
   "metadata": {},
   "outputs": [
    {
     "data": {
      "text/html": [
       "<div>\n",
       "<style scoped>\n",
       "    .dataframe tbody tr th:only-of-type {\n",
       "        vertical-align: middle;\n",
       "    }\n",
       "\n",
       "    .dataframe tbody tr th {\n",
       "        vertical-align: top;\n",
       "    }\n",
       "\n",
       "    .dataframe thead th {\n",
       "        text-align: right;\n",
       "    }\n",
       "</style>\n",
       "<table border=\"1\" class=\"dataframe\">\n",
       "  <thead>\n",
       "    <tr style=\"text-align: right;\">\n",
       "      <th></th>\n",
       "      <th>name_id</th>\n",
       "      <th>date</th>\n",
       "      <th>1001001</th>\n",
       "      <th>1001002</th>\n",
       "      <th>1001003</th>\n",
       "      <th>1020002</th>\n",
       "      <th>1020003</th>\n",
       "      <th>1021001</th>\n",
       "      <th>1021002</th>\n",
       "      <th>1041002</th>\n",
       "      <th>...</th>\n",
       "      <th>12820001</th>\n",
       "      <th>12825002</th>\n",
       "      <th>12861001</th>\n",
       "      <th>12863002</th>\n",
       "      <th>12865001</th>\n",
       "      <th>12872001</th>\n",
       "      <th>12876001</th>\n",
       "      <th>12876004</th>\n",
       "      <th>12878001</th>\n",
       "      <th>12930001</th>\n",
       "    </tr>\n",
       "  </thead>\n",
       "  <tbody>\n",
       "    <tr>\n",
       "      <th>0</th>\n",
       "      <td>20000101</td>\n",
       "      <td>2000-01-01</td>\n",
       "      <td>223</td>\n",
       "      <td>198</td>\n",
       "      <td>217</td>\n",
       "      <td>183</td>\n",
       "      <td>178</td>\n",
       "      <td>134</td>\n",
       "      <td>116</td>\n",
       "      <td>105</td>\n",
       "      <td>...</td>\n",
       "      <td>130</td>\n",
       "      <td>54</td>\n",
       "      <td>119</td>\n",
       "      <td>120</td>\n",
       "      <td>87</td>\n",
       "      <td>63</td>\n",
       "      <td>75</td>\n",
       "      <td>49</td>\n",
       "      <td>65</td>\n",
       "      <td>170</td>\n",
       "    </tr>\n",
       "    <tr>\n",
       "      <th>1</th>\n",
       "      <td>20000102</td>\n",
       "      <td>2000-01-02</td>\n",
       "      <td>805</td>\n",
       "      <td>822</td>\n",
       "      <td>779</td>\n",
       "      <td>606</td>\n",
       "      <td>648</td>\n",
       "      <td>442</td>\n",
       "      <td>346</td>\n",
       "      <td>196</td>\n",
       "      <td>...</td>\n",
       "      <td>1124</td>\n",
       "      <td>176</td>\n",
       "      <td>80</td>\n",
       "      <td>267</td>\n",
       "      <td>347</td>\n",
       "      <td>328</td>\n",
       "      <td>568</td>\n",
       "      <td>402</td>\n",
       "      <td>382</td>\n",
       "      <td>275</td>\n",
       "    </tr>\n",
       "    <tr>\n",
       "      <th>2</th>\n",
       "      <td>20000103</td>\n",
       "      <td>2000-01-03</td>\n",
       "      <td>768</td>\n",
       "      <td>935</td>\n",
       "      <td>943</td>\n",
       "      <td>557</td>\n",
       "      <td>570</td>\n",
       "      <td>542</td>\n",
       "      <td>473</td>\n",
       "      <td>450</td>\n",
       "      <td>...</td>\n",
       "      <td>2032</td>\n",
       "      <td>415</td>\n",
       "      <td>473</td>\n",
       "      <td>757</td>\n",
       "      <td>883</td>\n",
       "      <td>863</td>\n",
       "      <td>1020</td>\n",
       "      <td>680</td>\n",
       "      <td>589</td>\n",
       "      <td>613</td>\n",
       "    </tr>\n",
       "    <tr>\n",
       "      <th>3</th>\n",
       "      <td>20000104</td>\n",
       "      <td>2000-01-04</td>\n",
       "      <td>309</td>\n",
       "      <td>375</td>\n",
       "      <td>493</td>\n",
       "      <td>160</td>\n",
       "      <td>156</td>\n",
       "      <td>135</td>\n",
       "      <td>112</td>\n",
       "      <td>106</td>\n",
       "      <td>...</td>\n",
       "      <td>4449</td>\n",
       "      <td>4195</td>\n",
       "      <td>3018</td>\n",
       "      <td>4432</td>\n",
       "      <td>4787</td>\n",
       "      <td>4961</td>\n",
       "      <td>5059</td>\n",
       "      <td>5460</td>\n",
       "      <td>5129</td>\n",
       "      <td>3358</td>\n",
       "    </tr>\n",
       "    <tr>\n",
       "      <th>4</th>\n",
       "      <td>20000105</td>\n",
       "      <td>2000-01-05</td>\n",
       "      <td>105</td>\n",
       "      <td>101</td>\n",
       "      <td>104</td>\n",
       "      <td>93</td>\n",
       "      <td>95</td>\n",
       "      <td>77</td>\n",
       "      <td>65</td>\n",
       "      <td>55</td>\n",
       "      <td>...</td>\n",
       "      <td>456</td>\n",
       "      <td>480</td>\n",
       "      <td>338</td>\n",
       "      <td>298</td>\n",
       "      <td>332</td>\n",
       "      <td>384</td>\n",
       "      <td>471</td>\n",
       "      <td>386</td>\n",
       "      <td>392</td>\n",
       "      <td>928</td>\n",
       "    </tr>\n",
       "  </tbody>\n",
       "</table>\n",
       "<p>5 rows × 434 columns</p>\n",
       "</div>"
      ],
      "text/plain": [
       "    name_id        date  1001001  1001002  1001003  1020002  1020003  1021001  \\\n",
       "0  20000101  2000-01-01      223      198      217      183      178      134   \n",
       "1  20000102  2000-01-02      805      822      779      606      648      442   \n",
       "2  20000103  2000-01-03      768      935      943      557      570      542   \n",
       "3  20000104  2000-01-04      309      375      493      160      156      135   \n",
       "4  20000105  2000-01-05      105      101      104       93       95       77   \n",
       "\n",
       "   1021002  1041002  ...  12820001  12825002  12861001  12863002  12865001  \\\n",
       "0      116      105  ...       130        54       119       120        87   \n",
       "1      346      196  ...      1124       176        80       267       347   \n",
       "2      473      450  ...      2032       415       473       757       883   \n",
       "3      112      106  ...      4449      4195      3018      4432      4787   \n",
       "4       65       55  ...       456       480       338       298       332   \n",
       "\n",
       "   12872001  12876001  12876004  12878001  12930001  \n",
       "0        63        75        49        65       170  \n",
       "1       328       568       402       382       275  \n",
       "2       863      1020       680       589       613  \n",
       "3      4961      5059      5460      5129      3358  \n",
       "4       384       471       386       392       928  \n",
       "\n",
       "[5 rows x 434 columns]"
      ]
     },
     "execution_count": 25,
     "metadata": {},
     "output_type": "execute_result"
    }
   ],
   "source": [
    "import pandas as pd\n",
    "\n",
    "# estos no nos interesan\n",
    "# cf_path = './complete_forecasted/'\n",
    "\n",
    "path = './GFS_pp_tmp/'\n",
    "\n",
    "# prediccion\n",
    "file_name = 'pp_f_gfs_pp_mean_b_none_d1_p0d.csv'\n",
    "\n",
    "data_prediction = pd.read_csv(path + file_name)\n",
    "#data_prediction.describe()\n",
    "\n",
    "data_observed = pd.read_csv(\"observed_pp_tmp\\pp_o_era5_pp_mean_b_none_d1_p0d.csv\")\n",
    "data_observed.head()"
   ]
  },
  {
   "cell_type": "code",
   "execution_count": 26,
   "metadata": {},
   "outputs": [
    {
     "data": {
      "text/plain": [
       "<Axes: >"
      ]
     },
     "execution_count": 26,
     "metadata": {},
     "output_type": "execute_result"
    },
    {
     "data": {
      "image/png": "[encoded data removed]",
      "text/plain": [
       "<Figure size 432x288 with 1 Axes>"
      ]
     },
     "metadata": {
      "needs_background": "light"
     },
     "output_type": "display_data"
    },
    {
     "data": {
      "image/png": "[encoded data removed]",
      "text/plain": [
       "<Figure size 432x288 with 1 Axes>"
      ]
     },
     "metadata": {
      "needs_background": "light"
     },
     "output_type": "display_data"
    }
   ],
   "source": [
    "data_prediction[['date','1001001', '1001002']].plot(alpha=0.5)\n",
    "data_observed[['date','1001001', '1001002']].plot(alpha=0.5)\n"
   ]
  },
  {
   "cell_type": "code",
   "execution_count": 23,
   "metadata": {},
   "outputs": [],
   "source": []
  },
  {
   "cell_type": "code",
   "execution_count": null,
   "metadata": {},
   "outputs": [],
   "source": []
  }
 ],
 "metadata": {
  "kernelspec": {
   "display_name": "deepl",
   "language": "python",
   "name": "python3"
  },
  "language_info": {
   "codemirror_mode": {
    "name": "ipython",
    "version": 3
   },
   "file_extension": ".py",
   "mimetype": "text/x-python",
   "name": "python",
   "nbconvert_exporter": "python",
   "pygments_lexer": "ipython3",
   "version": "3.10.9"
  },
  "orig_nbformat": 4
 },
 "nbformat": 4,
 "nbformat_minor": 2
}
